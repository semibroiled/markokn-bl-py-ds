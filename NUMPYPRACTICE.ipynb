{
 "metadata": {
  "language_info": {
   "codemirror_mode": {
    "name": "ipython",
    "version": 3
   },
   "file_extension": ".py",
   "mimetype": "text/x-python",
   "name": "python",
   "nbconvert_exporter": "python",
   "pygments_lexer": "ipython3",
   "version": "3.7.4"
  },
  "orig_nbformat": 2,
  "kernelspec": {
   "name": "python3",
   "display_name": "Python 3.7.4 64-bit ('base': conda)"
  },
  "interpreter": {
   "hash": "5bb92a85c9a1f15da6b689aacf75061d89825faba8bdf21749792174943e74b5"
  }
 },
 "nbformat": 4,
 "nbformat_minor": 2,
 "cells": [
  {
   "source": [
    "#NUMPY PRACTICE"
   ],
   "cell_type": "markdown",
   "metadata": {}
  },
  {
   "source": [
    "IMPORT NUMPY\n"
   ],
   "cell_type": "markdown",
   "metadata": {}
  },
  {
   "cell_type": "code",
   "execution_count": 5,
   "metadata": {},
   "outputs": [],
   "source": [
    "import numpy as np"
   ]
  },
  {
   "source": [
    "-creating a 1D Array\n"
   ],
   "cell_type": "markdown",
   "metadata": {}
  },
  {
   "cell_type": "code",
   "execution_count": 6,
   "metadata": {},
   "outputs": [],
   "source": [
    "a1d = np.array (\n",
    "    [0,1,2,3,4,5,6,7,8,9]\n",
    ")"
   ]
  },
  {
   "source": [
    "-creating a 2D Array"
   ],
   "cell_type": "markdown",
   "metadata": {}
  },
  {
   "cell_type": "code",
   "execution_count": 7,
   "metadata": {},
   "outputs": [],
   "source": [
    "a2d = np.array (\n",
    "    [[1,2,3],\n",
    "    [4,5,6],\n",
    "    [7,8,9]]\n",
    ")"
   ]
  },
  {
   "source": [
    "-creating a 3D Array\n"
   ],
   "cell_type": "markdown",
   "metadata": {}
  },
  {
   "cell_type": "code",
   "execution_count": 8,
   "metadata": {},
   "outputs": [],
   "source": [
    "a3d = np.array(\n",
    "    [ [ [1,2],\n",
    "        [3,4] ],\n",
    "      [ [5,6],\n",
    "        [7,8] ]\n",
    "\n",
    "    ]\n",
    ")"
   ]
  },
  {
   "source": [
    "-output all arrays"
   ],
   "cell_type": "markdown",
   "metadata": {}
  },
  {
   "cell_type": "code",
   "execution_count": 9,
   "metadata": {},
   "outputs": [
    {
     "output_type": "stream",
     "name": "stdout",
     "text": [
      "[0 1 2 3 4 5 6 7 8 9] [[1 2 3]\n [4 5 6]\n [7 8 9]] [[[1 2]\n  [3 4]]\n\n [[5 6]\n  [7 8]]]\n"
     ]
    }
   ],
   "source": [
    "print( a1d, a2d, a3d ) #wasnt there a pretty print pprint module that lets me put things better into perspective without converting to strings and cocatenating \\n?\n",
    "# I think its worth the refresh"
   ]
  },
  {
   "cell_type": "code",
   "execution_count": 10,
   "metadata": {},
   "outputs": [
    {
     "output_type": "execute_result",
     "data": {
      "text/plain": [
       "array([0, 1, 2, 3, 4, 5, 6, 7, 8, 9])"
      ]
     },
     "metadata": {},
     "execution_count": 10
    }
   ],
   "source": [
    "a1d"
   ]
  },
  {
   "cell_type": "code",
   "execution_count": 11,
   "metadata": {},
   "outputs": [
    {
     "output_type": "execute_result",
     "data": {
      "text/plain": [
       "array([[1, 2, 3],\n",
       "       [4, 5, 6],\n",
       "       [7, 8, 9]])"
      ]
     },
     "metadata": {},
     "execution_count": 11
    }
   ],
   "source": [
    "a2d"
   ]
  },
  {
   "cell_type": "code",
   "execution_count": 12,
   "metadata": {},
   "outputs": [
    {
     "output_type": "execute_result",
     "data": {
      "text/plain": [
       "array([[[1, 2],\n",
       "        [3, 4]],\n",
       "\n",
       "       [[5, 6],\n",
       "        [7, 8]]])"
      ]
     },
     "metadata": {},
     "execution_count": 12
    }
   ],
   "source": [
    "a3d"
   ]
  },
  {
   "source": [
    "-check python list vs. np array\n"
   ],
   "cell_type": "markdown",
   "metadata": {}
  },
  {
   "cell_type": "code",
   "execution_count": 13,
   "metadata": {},
   "outputs": [
    {
     "output_type": "execute_result",
     "data": {
      "text/plain": [
       "[1, 2, 3, 4]"
      ]
     },
     "metadata": {},
     "execution_count": 13
    }
   ],
   "source": [
    "list_a = [1,2,3,4]\n",
    "list_a"
   ]
  },
  {
   "cell_type": "code",
   "execution_count": 14,
   "metadata": {},
   "outputs": [
    {
     "output_type": "execute_result",
     "data": {
      "text/plain": [
       "array([1, 2, 3, 4])"
      ]
     },
     "metadata": {},
     "execution_count": 14
    }
   ],
   "source": [
    "array_a = np.array(list_a)\n",
    "array_a"
   ]
  },
  {
   "cell_type": "code",
   "execution_count": 15,
   "metadata": {},
   "outputs": [
    {
     "output_type": "execute_result",
     "data": {
      "text/plain": [
       "array([ 1,  4,  9, 16])"
      ]
     },
     "metadata": {},
     "execution_count": 15
    }
   ],
   "source": [
    "array_a*array_a"
   ]
  },
  {
   "source": [
    "-compare execution of numbers from 0 to 1 to the square\n",
    "#wasnt there sth about using underscores to delineate and make big numbers easier to read? "
   ],
   "cell_type": "markdown",
   "metadata": {}
  },
  {
   "cell_type": "code",
   "execution_count": 16,
   "metadata": {},
   "outputs": [],
   "source": [
    "list_sq = [i for i in range(1_000_000)]\n",
    "list_sq;"
   ]
  },
  {
   "source": [
    "-check execution time using time.perf_counter()"
   ],
   "cell_type": "markdown",
   "metadata": {}
  },
  {
   "cell_type": "code",
   "execution_count": 17,
   "metadata": {},
   "outputs": [],
   "source": [
    "import time"
   ]
  },
  {
   "cell_type": "code",
   "execution_count": 18,
   "metadata": {},
   "outputs": [
    {
     "output_type": "execute_result",
     "data": {
      "text/plain": [
       "241.782759078"
      ]
     },
     "metadata": {},
     "execution_count": 18
    }
   ],
   "source": [
    "type(list_sq)\n",
    "time.perf_counter()"
   ]
  },
  {
   "cell_type": "code",
   "execution_count": 19,
   "metadata": {},
   "outputs": [
    {
     "output_type": "execute_result",
     "data": {
      "text/plain": [
       "242.126527274"
      ]
     },
     "metadata": {},
     "execution_count": 19
    }
   ],
   "source": [
    "list_sqsq = [i*i for i in list_sq]\n",
    "time.perf_counter()"
   ]
  },
  {
   "cell_type": "code",
   "execution_count": 20,
   "metadata": {},
   "outputs": [],
   "source": [
    "array_sq = np.array(list_sq)"
   ]
  },
  {
   "cell_type": "code",
   "execution_count": 21,
   "metadata": {},
   "outputs": [
    {
     "output_type": "execute_result",
     "data": {
      "text/plain": [
       "242.483987718"
      ]
     },
     "metadata": {},
     "execution_count": 21
    }
   ],
   "source": [
    "time.perf_counter()"
   ]
  },
  {
   "cell_type": "code",
   "execution_count": 22,
   "metadata": {},
   "outputs": [
    {
     "output_type": "execute_result",
     "data": {
      "text/plain": [
       "242.546780735"
      ]
     },
     "metadata": {},
     "execution_count": 22
    }
   ],
   "source": [
    "array_sqsq = array_sq*array_sq\n",
    "time.perf_counter()"
   ]
  },
  {
   "source": [
    "-query array attributes"
   ],
   "cell_type": "markdown",
   "metadata": {}
  },
  {
   "cell_type": "code",
   "execution_count": 23,
   "metadata": {},
   "outputs": [
    {
     "output_type": "execute_result",
     "data": {
      "text/plain": [
       "(2, 2, 2)"
      ]
     },
     "metadata": {},
     "execution_count": 23
    }
   ],
   "source": [
    "a3d.shape"
   ]
  },
  {
   "cell_type": "code",
   "execution_count": 24,
   "metadata": {},
   "outputs": [
    {
     "output_type": "execute_result",
     "data": {
      "text/plain": [
       "8"
      ]
     },
     "metadata": {},
     "execution_count": 24
    }
   ],
   "source": [
    "a3d.size"
   ]
  },
  {
   "cell_type": "code",
   "execution_count": 25,
   "metadata": {},
   "outputs": [
    {
     "output_type": "execute_result",
     "data": {
      "text/plain": [
       "3"
      ]
     },
     "metadata": {},
     "execution_count": 25
    }
   ],
   "source": [
    "a3d.ndim"
   ]
  },
  {
   "cell_type": "code",
   "execution_count": 26,
   "metadata": {},
   "outputs": [
    {
     "output_type": "execute_result",
     "data": {
      "text/plain": [
       "(2, 2, 2)"
      ]
     },
     "metadata": {},
     "execution_count": 26
    }
   ],
   "source": [
    "a3d.shape"
   ]
  },
  {
   "cell_type": "code",
   "execution_count": 27,
   "metadata": {},
   "outputs": [
    {
     "output_type": "execute_result",
     "data": {
      "text/plain": [
       "(3, 3)"
      ]
     },
     "metadata": {},
     "execution_count": 27
    }
   ],
   "source": [
    "a2d.shape"
   ]
  },
  {
   "cell_type": "code",
   "execution_count": 28,
   "metadata": {},
   "outputs": [
    {
     "output_type": "execute_result",
     "data": {
      "text/plain": [
       "2"
      ]
     },
     "metadata": {},
     "execution_count": 28
    }
   ],
   "source": [
    "a2d.ndim"
   ]
  },
  {
   "cell_type": "code",
   "execution_count": 29,
   "metadata": {},
   "outputs": [
    {
     "output_type": "execute_result",
     "data": {
      "text/plain": [
       "9"
      ]
     },
     "metadata": {},
     "execution_count": 29
    }
   ],
   "source": [
    "a2d.size"
   ]
  },
  {
   "cell_type": "code",
   "execution_count": 30,
   "metadata": {},
   "outputs": [
    {
     "output_type": "execute_result",
     "data": {
      "text/plain": [
       "10"
      ]
     },
     "metadata": {},
     "execution_count": 30
    }
   ],
   "source": [
    "a1d.size"
   ]
  },
  {
   "cell_type": "code",
   "execution_count": 31,
   "metadata": {},
   "outputs": [
    {
     "output_type": "execute_result",
     "data": {
      "text/plain": [
       "(10,)"
      ]
     },
     "metadata": {},
     "execution_count": 31
    }
   ],
   "source": [
    "a1d.shape"
   ]
  },
  {
   "cell_type": "code",
   "execution_count": 32,
   "metadata": {},
   "outputs": [
    {
     "output_type": "execute_result",
     "data": {
      "text/plain": [
       "1"
      ]
     },
     "metadata": {},
     "execution_count": 32
    }
   ],
   "source": [
    "a1d.ndim"
   ]
  },
  {
   "cell_type": "code",
   "execution_count": 33,
   "metadata": {},
   "outputs": [
    {
     "output_type": "execute_result",
     "data": {
      "text/plain": [
       "array([[1, 4, 7],\n",
       "       [2, 5, 8],\n",
       "       [3, 6, 9]])"
      ]
     },
     "metadata": {},
     "execution_count": 33
    }
   ],
   "source": [
    "a2d.T"
   ]
  },
  {
   "cell_type": "code",
   "execution_count": 34,
   "metadata": {},
   "outputs": [
    {
     "output_type": "execute_result",
     "data": {
      "text/plain": [
       "array([[1, 4, 7],\n",
       "       [2, 5, 8],\n",
       "       [3, 6, 9]])"
      ]
     },
     "metadata": {},
     "execution_count": 34
    }
   ],
   "source": [
    "a2d.transpose()"
   ]
  },
  {
   "cell_type": "code",
   "execution_count": 35,
   "metadata": {},
   "outputs": [
    {
     "output_type": "execute_result",
     "data": {
      "text/plain": [
       "array([[1, 4, 7],\n",
       "       [2, 5, 8],\n",
       "       [3, 6, 9]])"
      ]
     },
     "metadata": {},
     "execution_count": 35
    }
   ],
   "source": [
    "np.transpose(a2d)"
   ]
  },
  {
   "cell_type": "code",
   "execution_count": 36,
   "metadata": {},
   "outputs": [
    {
     "output_type": "execute_result",
     "data": {
      "text/plain": [
       "array([[[1, 5],\n",
       "        [3, 7]],\n",
       "\n",
       "       [[2, 6],\n",
       "        [4, 8]]])"
      ]
     },
     "metadata": {},
     "execution_count": 36
    }
   ],
   "source": [
    "a3d.T"
   ]
  },
  {
   "cell_type": "code",
   "execution_count": 37,
   "metadata": {},
   "outputs": [
    {
     "output_type": "execute_result",
     "data": {
      "text/plain": [
       "array([[1, 2, 3],\n",
       "       [4, 5, 6],\n",
       "       [7, 8, 9]])"
      ]
     },
     "metadata": {},
     "execution_count": 37
    }
   ],
   "source": [
    "np.round(a2d)"
   ]
  },
  {
   "cell_type": "code",
   "execution_count": 38,
   "metadata": {},
   "outputs": [
    {
     "output_type": "execute_result",
     "data": {
      "text/plain": [
       "array([[ 0.84147098,  0.90929743,  0.14112001],\n",
       "       [-0.7568025 , -0.95892427, -0.2794155 ],\n",
       "       [ 0.6569866 ,  0.98935825,  0.41211849]])"
      ]
     },
     "metadata": {},
     "execution_count": 38
    }
   ],
   "source": [
    "np.sin(a2d)"
   ]
  },
  {
   "cell_type": "code",
   "execution_count": 39,
   "metadata": {},
   "outputs": [
    {
     "output_type": "execute_result",
     "data": {
      "text/plain": [
       "array([[[[1],\n",
       "         [2]],\n",
       "\n",
       "        [[3],\n",
       "         [4]]],\n",
       "\n",
       "\n",
       "       [[[5],\n",
       "         [6]],\n",
       "\n",
       "        [[7],\n",
       "         [8]]]])"
      ]
     },
     "metadata": {},
     "execution_count": 39
    }
   ],
   "source": [
    "np.expand_dims(a3d, 3)"
   ]
  },
  {
   "cell_type": "code",
   "execution_count": 40,
   "metadata": {},
   "outputs": [
    {
     "output_type": "execute_result",
     "data": {
      "text/plain": [
       "dtype('int64')"
      ]
     },
     "metadata": {},
     "execution_count": 40
    }
   ],
   "source": [
    "a1d.dtype"
   ]
  },
  {
   "cell_type": "code",
   "execution_count": 41,
   "metadata": {},
   "outputs": [
    {
     "output_type": "execute_result",
     "data": {
      "text/plain": [
       "dtype('int64')"
      ]
     },
     "metadata": {},
     "execution_count": 41
    }
   ],
   "source": [
    "a3d.dtype"
   ]
  },
  {
   "cell_type": "code",
   "execution_count": 42,
   "metadata": {},
   "outputs": [],
   "source": [
    "x = np.array(['abv'])\n"
   ]
  },
  {
   "cell_type": "code",
   "execution_count": 43,
   "metadata": {},
   "outputs": [
    {
     "output_type": "execute_result",
     "data": {
      "text/plain": [
       "array(['abv'], dtype='<U3')"
      ]
     },
     "metadata": {},
     "execution_count": 43
    }
   ],
   "source": [
    "x"
   ]
  },
  {
   "cell_type": "code",
   "execution_count": 44,
   "metadata": {},
   "outputs": [
    {
     "output_type": "execute_result",
     "data": {
      "text/plain": [
       "array([b'abc'], dtype='|S3')"
      ]
     },
     "metadata": {},
     "execution_count": 44
    }
   ],
   "source": [
    "x = np.array( [b'abc'] )\n",
    "x"
   ]
  },
  {
   "cell_type": "code",
   "execution_count": 45,
   "metadata": {},
   "outputs": [
    {
     "output_type": "execute_result",
     "data": {
      "text/plain": [
       "array([[ 2,  4,  6],\n",
       "       [ 8, 10, 12],\n",
       "       [14, 16, 18]])"
      ]
     },
     "metadata": {},
     "execution_count": 45
    }
   ],
   "source": [
    "a2d + a2d"
   ]
  },
  {
   "cell_type": "code",
   "execution_count": 46,
   "metadata": {},
   "outputs": [
    {
     "output_type": "error",
     "ename": "ValueError",
     "evalue": "operands could not be broadcast together with shapes (3,3) (2,2,2) ",
     "traceback": [
      "\u001b[0;31m---------------------------------------------------------------------------\u001b[0m",
      "\u001b[0;31mValueError\u001b[0m                                Traceback (most recent call last)",
      "\u001b[0;32m<ipython-input-46-c9458ca3eed7>\u001b[0m in \u001b[0;36m<module>\u001b[0;34m\u001b[0m\n\u001b[0;32m----> 1\u001b[0;31m \u001b[0ma2d\u001b[0m \u001b[0;34m+\u001b[0m \u001b[0ma3d\u001b[0m\u001b[0;34m\u001b[0m\u001b[0;34m\u001b[0m\u001b[0m\n\u001b[0m",
      "\u001b[0;31mValueError\u001b[0m: operands could not be broadcast together with shapes (3,3) (2,2,2) "
     ]
    }
   ],
   "source": [
    "a2d + a3d"
   ]
  },
  {
   "cell_type": "code",
   "execution_count": 70,
   "metadata": {},
   "outputs": [
    {
     "output_type": "execute_result",
     "data": {
      "text/plain": [
       "array([[ 1,  4,  9],\n",
       "       [16, 25, 36],\n",
       "       [49, 64, 81]])"
      ]
     },
     "metadata": {},
     "execution_count": 70
    }
   ],
   "source": [
    "a2d*a2d"
   ]
  },
  {
   "cell_type": "code",
   "execution_count": 72,
   "metadata": {},
   "outputs": [
    {
     "output_type": "execute_result",
     "data": {
      "text/plain": [
       "array([  1, 124, 124], dtype=int16)"
      ]
     },
     "metadata": {},
     "execution_count": 72
    }
   ],
   "source": [
    "np.array( [1.23,124.5,124.5], dtype= 'int16' )"
   ]
  },
  {
   "cell_type": "code",
   "execution_count": 73,
   "metadata": {},
   "outputs": [
    {
     "output_type": "execute_result",
     "data": {
      "text/plain": [
       "array([[0., 0., 0., 0., 0., 0.],\n",
       "       [0., 0., 0., 0., 0., 0.]])"
      ]
     },
     "metadata": {},
     "execution_count": 73
    }
   ],
   "source": [
    "np.zeros( (2,6) )"
   ]
  },
  {
   "cell_type": "code",
   "execution_count": 79,
   "metadata": {},
   "outputs": [
    {
     "output_type": "execute_result",
     "data": {
      "text/plain": [
       "dtype('float64')"
      ]
     },
     "metadata": {},
     "execution_count": 79
    }
   ],
   "source": [
    "(np.full( (2,6), 0.0) ).dtype #float64\n",
    "(np.full( (2,6), 0) ).dtype #int64\n"
   ]
  },
  {
   "cell_type": "code",
   "execution_count": 129,
   "metadata": {},
   "outputs": [
    {
     "output_type": "execute_result",
     "data": {
      "text/plain": [
       "array([0.   , 0.314, 0.628, 0.942, 1.256, 1.57 , 1.884, 2.198, 2.512,\n",
       "       2.826, 3.14 ])"
      ]
     },
     "metadata": {},
     "execution_count": 129
    }
   ],
   "source": [
    "np.linspace(0,3.14,11)"
   ]
  },
  {
   "cell_type": "code",
   "execution_count": 131,
   "metadata": {},
   "outputs": [
    {
     "output_type": "execute_result",
     "data": {
      "text/plain": [
       "array([0.  , 0.01, 0.02, 0.03, 0.04, 0.05, 0.06, 0.07, 0.08, 0.09, 0.1 ,\n",
       "       0.11, 0.12, 0.13, 0.14, 0.15, 0.16, 0.17, 0.18, 0.19, 0.2 , 0.21,\n",
       "       0.22, 0.23, 0.24, 0.25, 0.26, 0.27, 0.28, 0.29, 0.3 , 0.31, 0.32,\n",
       "       0.33, 0.34, 0.35, 0.36, 0.37, 0.38, 0.39, 0.4 , 0.41, 0.42, 0.43,\n",
       "       0.44, 0.45, 0.46, 0.47, 0.48, 0.49, 0.5 , 0.51, 0.52, 0.53, 0.54,\n",
       "       0.55, 0.56, 0.57, 0.58, 0.59, 0.6 , 0.61, 0.62, 0.63, 0.64, 0.65,\n",
       "       0.66, 0.67, 0.68, 0.69, 0.7 , 0.71, 0.72, 0.73, 0.74, 0.75, 0.76,\n",
       "       0.77, 0.78, 0.79, 0.8 , 0.81, 0.82, 0.83, 0.84, 0.85, 0.86, 0.87,\n",
       "       0.88, 0.89, 0.9 , 0.91, 0.92, 0.93, 0.94, 0.95, 0.96, 0.97, 0.98,\n",
       "       0.99, 1.  , 1.01, 1.02, 1.03, 1.04, 1.05, 1.06, 1.07, 1.08, 1.09,\n",
       "       1.1 , 1.11, 1.12, 1.13, 1.14, 1.15, 1.16, 1.17, 1.18, 1.19, 1.2 ,\n",
       "       1.21, 1.22, 1.23, 1.24, 1.25, 1.26, 1.27, 1.28, 1.29, 1.3 , 1.31,\n",
       "       1.32, 1.33, 1.34, 1.35, 1.36, 1.37, 1.38, 1.39, 1.4 , 1.41, 1.42,\n",
       "       1.43, 1.44, 1.45, 1.46, 1.47, 1.48, 1.49, 1.5 , 1.51, 1.52, 1.53,\n",
       "       1.54, 1.55, 1.56, 1.57, 1.58, 1.59, 1.6 , 1.61, 1.62, 1.63, 1.64,\n",
       "       1.65, 1.66, 1.67, 1.68, 1.69, 1.7 , 1.71, 1.72, 1.73, 1.74, 1.75,\n",
       "       1.76, 1.77, 1.78, 1.79, 1.8 , 1.81, 1.82, 1.83, 1.84, 1.85, 1.86,\n",
       "       1.87, 1.88, 1.89, 1.9 , 1.91, 1.92, 1.93, 1.94, 1.95, 1.96, 1.97,\n",
       "       1.98, 1.99, 2.  , 2.01, 2.02, 2.03, 2.04, 2.05, 2.06, 2.07, 2.08,\n",
       "       2.09, 2.1 , 2.11, 2.12, 2.13, 2.14, 2.15, 2.16, 2.17, 2.18, 2.19,\n",
       "       2.2 , 2.21, 2.22, 2.23, 2.24, 2.25, 2.26, 2.27, 2.28, 2.29, 2.3 ,\n",
       "       2.31, 2.32, 2.33, 2.34, 2.35, 2.36, 2.37, 2.38, 2.39, 2.4 , 2.41,\n",
       "       2.42, 2.43, 2.44, 2.45, 2.46, 2.47, 2.48, 2.49, 2.5 , 2.51, 2.52,\n",
       "       2.53, 2.54, 2.55, 2.56, 2.57, 2.58, 2.59, 2.6 , 2.61, 2.62, 2.63,\n",
       "       2.64, 2.65, 2.66, 2.67, 2.68, 2.69, 2.7 , 2.71, 2.72, 2.73, 2.74,\n",
       "       2.75, 2.76, 2.77, 2.78, 2.79, 2.8 , 2.81, 2.82, 2.83, 2.84, 2.85,\n",
       "       2.86, 2.87, 2.88, 2.89, 2.9 , 2.91, 2.92, 2.93, 2.94, 2.95, 2.96,\n",
       "       2.97, 2.98, 2.99, 3.  , 3.01, 3.02, 3.03, 3.04, 3.05, 3.06, 3.07,\n",
       "       3.08, 3.09, 3.1 , 3.11, 3.12, 3.13])"
      ]
     },
     "metadata": {},
     "execution_count": 131
    }
   ],
   "source": [
    "np.arange(0,3.14,0.01)"
   ]
  },
  {
   "cell_type": "code",
   "execution_count": 132,
   "metadata": {},
   "outputs": [],
   "source": [
    "rng = np.random.default_rng(seed=1) \n"
   ]
  },
  {
   "cell_type": "code",
   "execution_count": 133,
   "metadata": {},
   "outputs": [
    {
     "output_type": "execute_result",
     "data": {
      "text/plain": [
       "array([[0.51182162, 0.9504637 ],\n",
       "       [0.14415961, 0.94864945]])"
      ]
     },
     "metadata": {},
     "execution_count": 133
    }
   ],
   "source": [
    "rng.random((2,2))"
   ]
  },
  {
   "cell_type": "code",
   "execution_count": 134,
   "metadata": {},
   "outputs": [
    {
     "output_type": "execute_result",
     "data": {
      "text/plain": [
       "array([[2, 2],\n",
       "       [6, 3]])"
      ]
     },
     "metadata": {},
     "execution_count": 134
    }
   ],
   "source": [
    "rng.integers(1,7,(2,2))"
   ]
  },
  {
   "cell_type": "code",
   "execution_count": 135,
   "metadata": {},
   "outputs": [
    {
     "output_type": "execute_result",
     "data": {
      "text/plain": [
       "0"
      ]
     },
     "metadata": {},
     "execution_count": 135
    }
   ],
   "source": [
    "a1d[0]"
   ]
  },
  {
   "cell_type": "code",
   "execution_count": 136,
   "metadata": {},
   "outputs": [
    {
     "output_type": "execute_result",
     "data": {
      "text/plain": [
       "array([1, 2, 3])"
      ]
     },
     "metadata": {},
     "execution_count": 136
    }
   ],
   "source": [
    "a2d[0]"
   ]
  },
  {
   "cell_type": "code",
   "execution_count": 137,
   "metadata": {},
   "outputs": [
    {
     "output_type": "execute_result",
     "data": {
      "text/plain": [
       "array([[1, 2],\n",
       "       [3, 4]])"
      ]
     },
     "metadata": {},
     "execution_count": 137
    }
   ],
   "source": [
    "a3d[0]"
   ]
  },
  {
   "cell_type": "code",
   "execution_count": 138,
   "metadata": {},
   "outputs": [
    {
     "output_type": "execute_result",
     "data": {
      "text/plain": [
       "3"
      ]
     },
     "metadata": {},
     "execution_count": 138
    }
   ],
   "source": [
    "a2d[0,2]"
   ]
  },
  {
   "cell_type": "code",
   "execution_count": 139,
   "metadata": {},
   "outputs": [
    {
     "output_type": "execute_result",
     "data": {
      "text/plain": [
       "array([1, 2, 3])"
      ]
     },
     "metadata": {},
     "execution_count": 139
    }
   ],
   "source": [
    "a2d[0,:]"
   ]
  },
  {
   "cell_type": "code",
   "execution_count": 140,
   "metadata": {},
   "outputs": [
    {
     "output_type": "execute_result",
     "data": {
      "text/plain": [
       "array([1, 4, 7])"
      ]
     },
     "metadata": {},
     "execution_count": 140
    }
   ],
   "source": [
    "a2d[:,0]"
   ]
  },
  {
   "cell_type": "code",
   "execution_count": 142,
   "metadata": {},
   "outputs": [
    {
     "output_type": "execute_result",
     "data": {
      "text/plain": [
       "array([0, 1, 2])"
      ]
     },
     "metadata": {},
     "execution_count": 142
    }
   ],
   "source": [
    "a1d[:3]"
   ]
  },
  {
   "cell_type": "code",
   "execution_count": 143,
   "metadata": {},
   "outputs": [
    {
     "output_type": "execute_result",
     "data": {
      "text/plain": [
       "array([3, 4, 5])"
      ]
     },
     "metadata": {},
     "execution_count": 143
    }
   ],
   "source": [
    "a1d[3:6]"
   ]
  },
  {
   "cell_type": "code",
   "execution_count": 144,
   "metadata": {},
   "outputs": [
    {
     "output_type": "execute_result",
     "data": {
      "text/plain": [
       "array([6, 7, 8, 9])"
      ]
     },
     "metadata": {},
     "execution_count": 144
    }
   ],
   "source": [
    "a1d[6:]"
   ]
  },
  {
   "cell_type": "code",
   "execution_count": 145,
   "metadata": {},
   "outputs": [
    {
     "output_type": "execute_result",
     "data": {
      "text/plain": [
       "array([0, 2, 4, 6])"
      ]
     },
     "metadata": {},
     "execution_count": 145
    }
   ],
   "source": [
    "a1d[0:8:2]"
   ]
  },
  {
   "cell_type": "code",
   "execution_count": 147,
   "metadata": {},
   "outputs": [
    {
     "output_type": "execute_result",
     "data": {
      "text/plain": [
       "array([], shape=(3, 0), dtype=int64)"
      ]
     },
     "metadata": {},
     "execution_count": 147
    }
   ],
   "source": [
    "a2d[:,1:2:-1]"
   ]
  },
  {
   "cell_type": "code",
   "execution_count": 148,
   "metadata": {},
   "outputs": [
    {
     "output_type": "execute_result",
     "data": {
      "text/plain": [
       "array([3, 2, 1])"
      ]
     },
     "metadata": {},
     "execution_count": 148
    }
   ],
   "source": [
    "a1d[3:0:-1]"
   ]
  },
  {
   "cell_type": "code",
   "execution_count": 149,
   "metadata": {},
   "outputs": [
    {
     "output_type": "execute_result",
     "data": {
      "text/plain": [
       "array([9, 8, 7, 6, 5, 4, 3, 2, 1, 0])"
      ]
     },
     "metadata": {},
     "execution_count": 149
    }
   ],
   "source": [
    "a1d[::-1]"
   ]
  },
  {
   "cell_type": "code",
   "execution_count": 150,
   "metadata": {},
   "outputs": [
    {
     "output_type": "execute_result",
     "data": {
      "text/plain": [
       "array([[4, 5, 6],\n",
       "       [7, 8, 9]])"
      ]
     },
     "metadata": {},
     "execution_count": 150
    }
   ],
   "source": [
    "a2d[1:,:]"
   ]
  },
  {
   "cell_type": "code",
   "execution_count": 154,
   "metadata": {},
   "outputs": [],
   "source": [
    "list_sq[:];"
   ]
  },
  {
   "cell_type": "code",
   "execution_count": 153,
   "metadata": {},
   "outputs": [],
   "source": [
    "list_sq[::-1];"
   ]
  },
  {
   "cell_type": "code",
   "execution_count": 155,
   "metadata": {},
   "outputs": [],
   "source": [
    "a = np.array([0,1,2,3])\n",
    "b= np.array([2,2,2,2])\n"
   ]
  },
  {
   "cell_type": "code",
   "execution_count": 156,
   "metadata": {},
   "outputs": [
    {
     "output_type": "execute_result",
     "data": {
      "text/plain": [
       "array([ 0, -1, -2, -3])"
      ]
     },
     "metadata": {},
     "execution_count": 156
    }
   ],
   "source": [
    "-a"
   ]
  },
  {
   "cell_type": "code",
   "execution_count": 157,
   "metadata": {},
   "outputs": [
    {
     "output_type": "execute_result",
     "data": {
      "text/plain": [
       "array([2, 3, 4, 5])"
      ]
     },
     "metadata": {},
     "execution_count": 157
    }
   ],
   "source": [
    "a+b"
   ]
  },
  {
   "cell_type": "code",
   "execution_count": 158,
   "metadata": {},
   "outputs": [
    {
     "output_type": "execute_result",
     "data": {
      "text/plain": [
       "array([0, 2, 4, 6])"
      ]
     },
     "metadata": {},
     "execution_count": 158
    }
   ],
   "source": [
    "a*b"
   ]
  },
  {
   "cell_type": "code",
   "execution_count": 159,
   "metadata": {},
   "outputs": [
    {
     "output_type": "execute_result",
     "data": {
      "text/plain": [
       "array([ True,  True, False, False])"
      ]
     },
     "metadata": {},
     "execution_count": 159
    }
   ],
   "source": [
    "a<b"
   ]
  },
  {
   "cell_type": "code",
   "execution_count": 160,
   "metadata": {},
   "outputs": [
    {
     "output_type": "execute_result",
     "data": {
      "text/plain": [
       "array([False, False,  True, False])"
      ]
     },
     "metadata": {},
     "execution_count": 160
    }
   ],
   "source": [
    "a==b"
   ]
  },
  {
   "cell_type": "code",
   "execution_count": 162,
   "metadata": {},
   "outputs": [
    {
     "output_type": "execute_result",
     "data": {
      "text/plain": [
       "False"
      ]
     },
     "metadata": {},
     "execution_count": 162
    }
   ],
   "source": [
    "np.array_equal(a,b)"
   ]
  },
  {
   "cell_type": "code",
   "execution_count": 163,
   "metadata": {},
   "outputs": [
    {
     "output_type": "execute_result",
     "data": {
      "text/plain": [
       "array([1, 2, 3, 4])"
      ]
     },
     "metadata": {},
     "execution_count": 163
    }
   ],
   "source": [
    "a+1"
   ]
  },
  {
   "cell_type": "code",
   "execution_count": 168,
   "metadata": {},
   "outputs": [
    {
     "output_type": "execute_result",
     "data": {
      "text/plain": [
       "array([5.85987448, 6.85987448, 7.85987448, 8.85987448])"
      ]
     },
     "metadata": {},
     "execution_count": 168
    }
   ],
   "source": [
    "a+np.pi + np.e\n"
   ]
  },
  {
   "cell_type": "code",
   "execution_count": 169,
   "metadata": {},
   "outputs": [
    {
     "output_type": "execute_result",
     "data": {
      "text/plain": [
       "nan"
      ]
     },
     "metadata": {},
     "execution_count": 169
    }
   ],
   "source": [
    "np.nan"
   ]
  },
  {
   "cell_type": "code",
   "execution_count": 170,
   "metadata": {},
   "outputs": [
    {
     "output_type": "execute_result",
     "data": {
      "text/plain": [
       "array([0.        , 1.84147098, 2.32351099, 1.87317082])"
      ]
     },
     "metadata": {},
     "execution_count": 170
    }
   ],
   "source": [
    "np.sin(a) + np.sqrt(a)"
   ]
  },
  {
   "cell_type": "code",
   "execution_count": 171,
   "metadata": {},
   "outputs": [
    {
     "output_type": "execute_result",
     "data": {
      "text/plain": [
       "45"
      ]
     },
     "metadata": {},
     "execution_count": 171
    }
   ],
   "source": [
    "np.sum(a2d)"
   ]
  },
  {
   "cell_type": "code",
   "execution_count": 172,
   "metadata": {},
   "outputs": [
    {
     "output_type": "execute_result",
     "data": {
      "text/plain": [
       "array([12, 15, 18])"
      ]
     },
     "metadata": {},
     "execution_count": 172
    }
   ],
   "source": [
    "np.sum(a2d, axis = 0)"
   ]
  },
  {
   "cell_type": "code",
   "execution_count": 173,
   "metadata": {},
   "outputs": [
    {
     "output_type": "execute_result",
     "data": {
      "text/plain": [
       "array([ 6, 15, 24])"
      ]
     },
     "metadata": {},
     "execution_count": 173
    }
   ],
   "source": [
    "np.sum(a2d, axis = 1)"
   ]
  },
  {
   "cell_type": "code",
   "execution_count": 174,
   "metadata": {},
   "outputs": [
    {
     "output_type": "execute_result",
     "data": {
      "text/plain": [
       "1"
      ]
     },
     "metadata": {},
     "execution_count": 174
    }
   ],
   "source": [
    "np.min(a2d)"
   ]
  },
  {
   "cell_type": "code",
   "execution_count": 175,
   "metadata": {},
   "outputs": [
    {
     "output_type": "execute_result",
     "data": {
      "text/plain": [
       "2.581988897471611"
      ]
     },
     "metadata": {},
     "execution_count": 175
    }
   ],
   "source": [
    "np.std(a2d)"
   ]
  },
  {
   "cell_type": "code",
   "execution_count": 178,
   "metadata": {},
   "outputs": [
    {
     "output_type": "execute_result",
     "data": {
      "text/plain": [
       "5.8"
      ]
     },
     "metadata": {},
     "execution_count": 178
    }
   ],
   "source": [
    "np.percentile(a2d, 60)"
   ]
  },
  {
   "source": [
    "Exercise: Prices and Amounts ->Total Prices"
   ],
   "cell_type": "markdown",
   "metadata": {}
  },
  {
   "cell_type": "code",
   "execution_count": 179,
   "metadata": {},
   "outputs": [],
   "source": [
    "prices = np.array([3.99,4.99,3.99,12.99])"
   ]
  },
  {
   "cell_type": "code",
   "execution_count": 180,
   "metadata": {},
   "outputs": [],
   "source": [
    "quantities = np.array ([3,0,0,2])"
   ]
  },
  {
   "cell_type": "code",
   "execution_count": 184,
   "metadata": {},
   "outputs": [
    {
     "output_type": "execute_result",
     "data": {
      "text/plain": [
       "37.95"
      ]
     },
     "metadata": {},
     "execution_count": 184
    }
   ],
   "source": [
    "total = np.sum(prices * quantities )\n",
    "total"
   ]
  },
  {
   "source": [
    "Exercise: kintetic energy of masses"
   ],
   "cell_type": "markdown",
   "metadata": {}
  },
  {
   "cell_type": "code",
   "execution_count": 185,
   "metadata": {},
   "outputs": [],
   "source": [
    "masses = np.array ([1.2,2.2,1.5,2.0])\n",
    "velocities = np.array( [12,14,14,7.5])\n"
   ]
  },
  {
   "cell_type": "code",
   "execution_count": 186,
   "metadata": {},
   "outputs": [],
   "source": [
    "kin_en = (masses * (velocities**2)) / 2"
   ]
  },
  {
   "cell_type": "code",
   "execution_count": 187,
   "metadata": {},
   "outputs": [
    {
     "output_type": "execute_result",
     "data": {
      "text/plain": [
       "array([ 86.4 , 215.6 , 147.  ,  56.25])"
      ]
     },
     "metadata": {},
     "execution_count": 187
    }
   ],
   "source": [
    "kin_en"
   ]
  },
  {
   "cell_type": "code",
   "execution_count": 188,
   "metadata": {},
   "outputs": [
    {
     "output_type": "execute_result",
     "data": {
      "text/plain": [
       "505.25"
      ]
     },
     "metadata": {},
     "execution_count": 188
    }
   ],
   "source": [
    "total_kin_en = np.sum(kin_en)\n",
    "total_kin_en"
   ]
  },
  {
   "cell_type": "code",
   "execution_count": 190,
   "metadata": {},
   "outputs": [
    {
     "output_type": "stream",
     "name": "stdout",
     "text": [
      "The total kinetic energy is 505.25, the individual kinetic energies are 37.95\n"
     ]
    }
   ],
   "source": [
    "print(f'The total kinetic energy is {total_kin_en}, the individual kinetic energies are {total}')"
   ]
  },
  {
   "source": [
    "Exercise: Centroid of a Triangle"
   ],
   "cell_type": "markdown",
   "metadata": {}
  },
  {
   "cell_type": "code",
   "execution_count": 191,
   "metadata": {},
   "outputs": [],
   "source": [
    "a = np.array ( [5,1])\n",
    "b = np.array ( [6,8])\n",
    "c = np.array ( [1,3])"
   ]
  },
  {
   "cell_type": "code",
   "execution_count": 192,
   "metadata": {},
   "outputs": [],
   "source": [
    "center = (a + b + c)/3"
   ]
  },
  {
   "cell_type": "code",
   "execution_count": 193,
   "metadata": {},
   "outputs": [
    {
     "output_type": "execute_result",
     "data": {
      "text/plain": [
       "array([4., 4.])"
      ]
     },
     "metadata": {},
     "execution_count": 193
    }
   ],
   "source": [
    "center"
   ]
  },
  {
   "source": [
    "-Exercise: sin/cos table and check the unit circle identity (identitty lol)"
   ],
   "cell_type": "markdown",
   "metadata": {}
  },
  {
   "cell_type": "code",
   "execution_count": 194,
   "metadata": {},
   "outputs": [
    {
     "output_type": "execute_result",
     "data": {
      "text/plain": [
       "array([0.  , 0.01, 0.02, 0.03, 0.04, 0.05, 0.06, 0.07, 0.08, 0.09, 0.1 ,\n",
       "       0.11, 0.12, 0.13, 0.14, 0.15, 0.16, 0.17, 0.18, 0.19, 0.2 , 0.21,\n",
       "       0.22, 0.23, 0.24, 0.25, 0.26, 0.27, 0.28, 0.29, 0.3 , 0.31, 0.32,\n",
       "       0.33, 0.34, 0.35, 0.36, 0.37, 0.38, 0.39, 0.4 , 0.41, 0.42, 0.43,\n",
       "       0.44, 0.45, 0.46, 0.47, 0.48, 0.49, 0.5 , 0.51, 0.52, 0.53, 0.54,\n",
       "       0.55, 0.56, 0.57, 0.58, 0.59, 0.6 , 0.61, 0.62, 0.63, 0.64, 0.65,\n",
       "       0.66, 0.67, 0.68, 0.69, 0.7 , 0.71, 0.72, 0.73, 0.74, 0.75, 0.76,\n",
       "       0.77, 0.78, 0.79, 0.8 , 0.81, 0.82, 0.83, 0.84, 0.85, 0.86, 0.87,\n",
       "       0.88, 0.89, 0.9 , 0.91, 0.92, 0.93, 0.94, 0.95, 0.96, 0.97, 0.98,\n",
       "       0.99, 1.  , 1.01, 1.02, 1.03, 1.04, 1.05, 1.06, 1.07, 1.08, 1.09,\n",
       "       1.1 , 1.11, 1.12, 1.13, 1.14, 1.15, 1.16, 1.17, 1.18, 1.19, 1.2 ,\n",
       "       1.21, 1.22, 1.23, 1.24, 1.25, 1.26, 1.27, 1.28, 1.29, 1.3 , 1.31,\n",
       "       1.32, 1.33, 1.34, 1.35, 1.36, 1.37, 1.38, 1.39, 1.4 , 1.41, 1.42,\n",
       "       1.43, 1.44, 1.45, 1.46, 1.47, 1.48, 1.49, 1.5 , 1.51, 1.52, 1.53,\n",
       "       1.54, 1.55, 1.56, 1.57, 1.58, 1.59, 1.6 , 1.61, 1.62, 1.63, 1.64,\n",
       "       1.65, 1.66, 1.67, 1.68, 1.69, 1.7 , 1.71, 1.72, 1.73, 1.74, 1.75,\n",
       "       1.76, 1.77, 1.78, 1.79, 1.8 , 1.81, 1.82, 1.83, 1.84, 1.85, 1.86,\n",
       "       1.87, 1.88, 1.89, 1.9 , 1.91, 1.92, 1.93, 1.94, 1.95, 1.96, 1.97,\n",
       "       1.98, 1.99, 2.  , 2.01, 2.02, 2.03, 2.04, 2.05, 2.06, 2.07, 2.08,\n",
       "       2.09, 2.1 , 2.11, 2.12, 2.13, 2.14, 2.15, 2.16, 2.17, 2.18, 2.19,\n",
       "       2.2 , 2.21, 2.22, 2.23, 2.24, 2.25, 2.26, 2.27, 2.28, 2.29, 2.3 ,\n",
       "       2.31, 2.32, 2.33, 2.34, 2.35, 2.36, 2.37, 2.38, 2.39, 2.4 , 2.41,\n",
       "       2.42, 2.43, 2.44, 2.45, 2.46, 2.47, 2.48, 2.49, 2.5 , 2.51, 2.52,\n",
       "       2.53, 2.54, 2.55, 2.56, 2.57, 2.58, 2.59, 2.6 , 2.61, 2.62, 2.63,\n",
       "       2.64, 2.65, 2.66, 2.67, 2.68, 2.69, 2.7 , 2.71, 2.72, 2.73, 2.74,\n",
       "       2.75, 2.76, 2.77, 2.78, 2.79, 2.8 , 2.81, 2.82, 2.83, 2.84, 2.85,\n",
       "       2.86, 2.87, 2.88, 2.89, 2.9 , 2.91, 2.92, 2.93, 2.94, 2.95, 2.96,\n",
       "       2.97, 2.98, 2.99, 3.  , 3.01, 3.02, 3.03, 3.04, 3.05, 3.06, 3.07,\n",
       "       3.08, 3.09, 3.1 , 3.11, 3.12, 3.13, 3.14, 3.15, 3.16, 3.17, 3.18,\n",
       "       3.19, 3.2 , 3.21, 3.22, 3.23, 3.24, 3.25, 3.26, 3.27, 3.28, 3.29,\n",
       "       3.3 , 3.31, 3.32, 3.33, 3.34, 3.35, 3.36, 3.37, 3.38, 3.39, 3.4 ,\n",
       "       3.41, 3.42, 3.43, 3.44, 3.45, 3.46, 3.47, 3.48, 3.49, 3.5 , 3.51,\n",
       "       3.52, 3.53, 3.54, 3.55, 3.56, 3.57, 3.58, 3.59, 3.6 , 3.61, 3.62,\n",
       "       3.63, 3.64, 3.65, 3.66, 3.67, 3.68, 3.69, 3.7 , 3.71, 3.72, 3.73,\n",
       "       3.74, 3.75, 3.76, 3.77, 3.78, 3.79, 3.8 , 3.81, 3.82, 3.83, 3.84,\n",
       "       3.85, 3.86, 3.87, 3.88, 3.89, 3.9 , 3.91, 3.92, 3.93, 3.94, 3.95,\n",
       "       3.96, 3.97, 3.98, 3.99, 4.  , 4.01, 4.02, 4.03, 4.04, 4.05, 4.06,\n",
       "       4.07, 4.08, 4.09, 4.1 , 4.11, 4.12, 4.13, 4.14, 4.15, 4.16, 4.17,\n",
       "       4.18, 4.19, 4.2 , 4.21, 4.22, 4.23, 4.24, 4.25, 4.26, 4.27, 4.28,\n",
       "       4.29, 4.3 , 4.31, 4.32, 4.33, 4.34, 4.35, 4.36, 4.37, 4.38, 4.39,\n",
       "       4.4 , 4.41, 4.42, 4.43, 4.44, 4.45, 4.46, 4.47, 4.48, 4.49, 4.5 ,\n",
       "       4.51, 4.52, 4.53, 4.54, 4.55, 4.56, 4.57, 4.58, 4.59, 4.6 , 4.61,\n",
       "       4.62, 4.63, 4.64, 4.65, 4.66, 4.67, 4.68, 4.69, 4.7 , 4.71, 4.72,\n",
       "       4.73, 4.74, 4.75, 4.76, 4.77, 4.78, 4.79, 4.8 , 4.81, 4.82, 4.83,\n",
       "       4.84, 4.85, 4.86, 4.87, 4.88, 4.89, 4.9 , 4.91, 4.92, 4.93, 4.94,\n",
       "       4.95, 4.96, 4.97, 4.98, 4.99, 5.  , 5.01, 5.02, 5.03, 5.04, 5.05,\n",
       "       5.06, 5.07, 5.08, 5.09, 5.1 , 5.11, 5.12, 5.13, 5.14, 5.15, 5.16,\n",
       "       5.17, 5.18, 5.19, 5.2 , 5.21, 5.22, 5.23, 5.24, 5.25, 5.26, 5.27,\n",
       "       5.28, 5.29, 5.3 , 5.31, 5.32, 5.33, 5.34, 5.35, 5.36, 5.37, 5.38,\n",
       "       5.39, 5.4 , 5.41, 5.42, 5.43, 5.44, 5.45, 5.46, 5.47, 5.48, 5.49,\n",
       "       5.5 , 5.51, 5.52, 5.53, 5.54, 5.55, 5.56, 5.57, 5.58, 5.59, 5.6 ,\n",
       "       5.61, 5.62, 5.63, 5.64, 5.65, 5.66, 5.67, 5.68, 5.69, 5.7 , 5.71,\n",
       "       5.72, 5.73, 5.74, 5.75, 5.76, 5.77, 5.78, 5.79, 5.8 , 5.81, 5.82,\n",
       "       5.83, 5.84, 5.85, 5.86, 5.87, 5.88, 5.89, 5.9 , 5.91, 5.92, 5.93,\n",
       "       5.94, 5.95, 5.96, 5.97, 5.98, 5.99, 6.  , 6.01, 6.02, 6.03, 6.04,\n",
       "       6.05, 6.06, 6.07, 6.08, 6.09, 6.1 , 6.11, 6.12, 6.13, 6.14, 6.15,\n",
       "       6.16, 6.17, 6.18, 6.19, 6.2 , 6.21, 6.22, 6.23, 6.24, 6.25, 6.26,\n",
       "       6.27, 6.28])"
      ]
     },
     "metadata": {},
     "execution_count": 194
    }
   ],
   "source": [
    "x = np.arange(0, 2*np.pi,0.01)\n",
    "x"
   ]
  },
  {
   "cell_type": "code",
   "execution_count": 196,
   "metadata": {},
   "outputs": [
    {
     "output_type": "execute_result",
     "data": {
      "text/plain": [
       "array([ 0.        ,  0.00999983,  0.01999867,  0.0299955 ,  0.03998933,\n",
       "        0.04997917,  0.05996401,  0.06994285,  0.07991469,  0.08987855,\n",
       "        0.09983342,  0.1097783 ,  0.11971221,  0.12963414,  0.13954311,\n",
       "        0.14943813,  0.15931821,  0.16918235,  0.17902957,  0.18885889,\n",
       "        0.19866933,  0.2084599 ,  0.21822962,  0.22797752,  0.23770263,\n",
       "        0.24740396,  0.25708055,  0.26673144,  0.27635565,  0.28595223,\n",
       "        0.29552021,  0.30505864,  0.31456656,  0.32404303,  0.33348709,\n",
       "        0.34289781,  0.35227423,  0.36161543,  0.37092047,  0.38018842,\n",
       "        0.38941834,  0.39860933,  0.40776045,  0.4168708 ,  0.42593947,\n",
       "        0.43496553,  0.44394811,  0.45288629,  0.46177918,  0.47062589,\n",
       "        0.47942554,  0.48817725,  0.49688014,  0.50553334,  0.51413599,\n",
       "        0.52268723,  0.5311862 ,  0.53963205,  0.54802394,  0.55636102,\n",
       "        0.56464247,  0.57286746,  0.58103516,  0.58914476,  0.59719544,\n",
       "        0.60518641,  0.61311685,  0.62098599,  0.62879302,  0.63653718,\n",
       "        0.64421769,  0.65183377,  0.65938467,  0.66686964,  0.67428791,\n",
       "        0.68163876,  0.68892145,  0.69613524,  0.70327942,  0.71035327,\n",
       "        0.71735609,  0.72428717,  0.73114583,  0.73793137,  0.74464312,\n",
       "        0.75128041,  0.75784256,  0.76432894,  0.77073888,  0.77707175,\n",
       "        0.78332691,  0.78950374,  0.79560162,  0.80161994,  0.8075581 ,\n",
       "        0.8134155 ,  0.81919157,  0.82488571,  0.83049737,  0.83602598,\n",
       "        0.84147098,  0.84683184,  0.85210802,  0.85729899,  0.86240423,\n",
       "        0.86742323,  0.87235548,  0.8772005 ,  0.88195781,  0.88662691,\n",
       "        0.89120736,  0.89569869,  0.90010044,  0.90441219,  0.9086335 ,\n",
       "        0.91276394,  0.91680311,  0.9207506 ,  0.92460601,  0.92836897,\n",
       "        0.93203909,  0.935616  ,  0.93909936,  0.9424888 ,  0.945784  ,\n",
       "        0.94898462,  0.95209034,  0.95510086,  0.95801586,  0.96083506,\n",
       "        0.96355819,  0.96618495,  0.9687151 ,  0.97114838,  0.97348454,\n",
       "        0.97572336,  0.9778646 ,  0.97990806,  0.98185353,  0.98370081,\n",
       "        0.98544973,  0.9871001 ,  0.98865176,  0.99010456,  0.99145835,\n",
       "        0.99271299,  0.99386836,  0.99492435,  0.99588084,  0.99673775,\n",
       "        0.99749499,  0.99815247,  0.99871014,  0.99916795,  0.99952583,\n",
       "        0.99978376,  0.99994172,  0.99999968,  0.99995765,  0.99981562,\n",
       "        0.9995736 ,  0.99923163,  0.99878974,  0.99824797,  0.99760638,\n",
       "        0.99686503,  0.99602399,  0.99508335,  0.9940432 ,  0.99290365,\n",
       "        0.99166481,  0.9903268 ,  0.98888977,  0.98735384,  0.98571918,\n",
       "        0.98398595,  0.98215432,  0.98022447,  0.97819661,  0.97607092,\n",
       "        0.97384763,  0.97152696,  0.96910913,  0.96659439,  0.963983  ,\n",
       "        0.9612752 ,  0.95847128,  0.95557152,  0.95257619,  0.94948561,\n",
       "        0.94630009,  0.94301993,  0.93964547,  0.93617705,  0.93261501,\n",
       "        0.92895972,  0.92521152,  0.92137081,  0.91743796,  0.91341336,\n",
       "        0.90929743,  0.90509056,  0.90079319,  0.89640574,  0.89192865,\n",
       "        0.88736237,  0.88270735,  0.87796406,  0.87313298,  0.86821458,\n",
       "        0.86320937,  0.85811783,  0.85294048,  0.84767784,  0.84233043,\n",
       "        0.83689879,  0.83138346,  0.82578499,  0.82010395,  0.81434089,\n",
       "        0.8084964 ,  0.80257107,  0.79656547,  0.79048022,  0.78431593,\n",
       "        0.7780732 ,  0.77175266,  0.76535495,  0.75888071,  0.75233058,\n",
       "        0.74570521,  0.73900528,  0.73223144,  0.72538439,  0.71846479,\n",
       "        0.71147335,  0.70441077,  0.69727774,  0.69007498,  0.68280322,\n",
       "        0.67546318,  0.66805559,  0.6605812 ,  0.65304075,  0.645435  ,\n",
       "        0.6377647 ,  0.63003063,  0.62223356,  0.61437426,  0.60645352,\n",
       "        0.59847214,  0.59043092,  0.58233065,  0.57417215,  0.56595623,\n",
       "        0.55768372,  0.54935544,  0.54097222,  0.53253491,  0.52404434,\n",
       "        0.51550137,  0.50690685,  0.49826164,  0.48956661,  0.48082261,\n",
       "        0.47203054,  0.46319126,  0.45430567,  0.44537464,  0.43639908,\n",
       "        0.42737988,  0.41831794,  0.40921417,  0.40006948,  0.39088478,\n",
       "        0.38166099,  0.37239904,  0.36309985,  0.35376435,  0.34439347,\n",
       "        0.33498815,  0.32554933,  0.31607796,  0.30657499,  0.29704135,\n",
       "        0.28747801,  0.27788593,  0.26826605,  0.25861935,  0.24894679,\n",
       "        0.23924933,  0.22952795,  0.21978361,  0.2100173 ,  0.20022998,\n",
       "        0.19042265,  0.18059627,  0.17075183,  0.16089031,  0.15101271,\n",
       "        0.14112001,  0.13121319,  0.12129326,  0.11136119,  0.10141799,\n",
       "        0.09146464,  0.08150215,  0.07153151,  0.06155372,  0.05156977,\n",
       "        0.04158066,  0.0315874 ,  0.02159098,  0.01159239,  0.00159265,\n",
       "       -0.00840725, -0.01840631, -0.02840353, -0.0383979 , -0.04838844,\n",
       "       -0.05837414, -0.06835401, -0.07832703, -0.08829223, -0.09824859,\n",
       "       -0.10819513, -0.11813086, -0.12805476, -0.13796587, -0.14786317,\n",
       "       -0.15774569, -0.16761244, -0.17746242, -0.18729466, -0.19710817,\n",
       "       -0.20690197, -0.21667508, -0.22642652, -0.23615532, -0.2458605 ,\n",
       "       -0.2555411 , -0.26519615, -0.27482467, -0.28442571, -0.29399831,\n",
       "       -0.30354151, -0.31305436, -0.3225359 , -0.33198519, -0.34140128,\n",
       "       -0.35078323, -0.3601301 , -0.36944096, -0.37871487, -0.38795092,\n",
       "       -0.39714817, -0.4063057 , -0.41542261, -0.42449797, -0.43353088,\n",
       "       -0.44252044, -0.45146575, -0.46036591, -0.46922004, -0.47802725,\n",
       "       -0.48678665, -0.49549737, -0.50415855, -0.51276931, -0.52132879,\n",
       "       -0.52983614, -0.53829051, -0.54669105, -0.55503692, -0.56332728,\n",
       "       -0.57156132, -0.5797382 , -0.5878571 , -0.59591722, -0.60391775,\n",
       "       -0.61185789, -0.61973684, -0.62755382, -0.63530805, -0.64299874,\n",
       "       -0.65062514, -0.65818647, -0.66568199, -0.67311093, -0.68047257,\n",
       "       -0.68776616, -0.69499097, -0.70214629, -0.70923139, -0.71624557,\n",
       "       -0.72318812, -0.73005836, -0.73685559, -0.74357914, -0.75022833,\n",
       "       -0.7568025 , -0.76330098, -0.76972314, -0.77606833, -0.78233591,\n",
       "       -0.78852525, -0.79463575, -0.80066678, -0.80661775, -0.81248805,\n",
       "       -0.81827711, -0.82398434, -0.82960917, -0.83515105, -0.8406094 ,\n",
       "       -0.8459837 , -0.8512734 , -0.85647797, -0.8615969 , -0.86662967,\n",
       "       -0.87157577, -0.87643472, -0.88120603, -0.88588921, -0.89048381,\n",
       "       -0.89498936, -0.89940541, -0.90373152, -0.90796726, -0.9121122 ,\n",
       "       -0.91616594, -0.92012805, -0.92399816, -0.92777586, -0.93146079,\n",
       "       -0.93505258, -0.93855086, -0.94195528, -0.94526551, -0.94848122,\n",
       "       -0.95160207, -0.95462777, -0.95755801, -0.96039249, -0.96313093,\n",
       "       -0.96577306, -0.96831861, -0.97076734, -0.97311898, -0.97537332,\n",
       "       -0.97753012, -0.97958916, -0.98155025, -0.98341319, -0.98517778,\n",
       "       -0.98684386, -0.98841125, -0.98987981, -0.99124937, -0.99251981,\n",
       "       -0.993691  , -0.99476283, -0.99573517, -0.99660795, -0.99738106,\n",
       "       -0.99805444, -0.99862801, -0.99910172, -0.99947552, -0.99974938,\n",
       "       -0.99992326, -0.99999715, -0.99997104, -0.99984493, -0.99961884,\n",
       "       -0.99929279, -0.99886681, -0.99834094, -0.99771525, -0.99698978,\n",
       "       -0.99616461, -0.99523983, -0.99421552, -0.99309179, -0.99186876,\n",
       "       -0.99054654, -0.98912526, -0.98760507, -0.98598613, -0.98426858,\n",
       "       -0.98245261, -0.9805384 , -0.97852613, -0.97641601, -0.97420825,\n",
       "       -0.97190307, -0.9695007 , -0.96700138, -0.96440536, -0.9617129 ,\n",
       "       -0.95892427, -0.95603975, -0.95305963, -0.9499842 , -0.94681378,\n",
       "       -0.94354867, -0.94018921, -0.93673573, -0.93318858, -0.92954811,\n",
       "       -0.92581468, -0.92198868, -0.91807047, -0.91406047, -0.90995905,\n",
       "       -0.90576664, -0.90148366, -0.89711052, -0.89264768, -0.88809557,\n",
       "       -0.88345466, -0.87872539, -0.87390826, -0.86900374, -0.86401232,\n",
       "       -0.85893449, -0.85377078, -0.84852169, -0.84318774, -0.83776948,\n",
       "       -0.83226744, -0.82668218, -0.82101425, -0.81526421, -0.80943266,\n",
       "       -0.80352016, -0.7975273 , -0.7914547 , -0.78530295, -0.77907267,\n",
       "       -0.77276449, -0.76637903, -0.75991693, -0.75337884, -0.74676541,\n",
       "       -0.74007731, -0.7333152 , -0.72647976, -0.71957167, -0.71259163,\n",
       "       -0.70554033, -0.69841847, -0.69122677, -0.68396595, -0.67663674,\n",
       "       -0.66923986, -0.66177605, -0.65424608, -0.64665067, -0.6389906 ,\n",
       "       -0.63126664, -0.62347955, -0.61563011, -0.6077191 , -0.59974733,\n",
       "       -0.59171558, -0.58362466, -0.57547538, -0.56726855, -0.559005  ,\n",
       "       -0.55068554, -0.54231102, -0.53388227, -0.52540013, -0.51686544,\n",
       "       -0.50827908, -0.49964188, -0.49095472, -0.48221847, -0.473434  ,\n",
       "       -0.46460218, -0.4557239 , -0.44680005, -0.43783152, -0.42881921,\n",
       "       -0.41976402, -0.41066685, -0.40152861, -0.39235022, -0.3831326 ,\n",
       "       -0.37387666, -0.36458334, -0.35525356, -0.34588825, -0.33648836,\n",
       "       -0.32705481, -0.31758857, -0.30809056, -0.29856174, -0.28900307,\n",
       "       -0.2794155 , -0.26979998, -0.26015749, -0.25048898, -0.24079543,\n",
       "       -0.23107779, -0.22133704, -0.21157417, -0.20179013, -0.19198592,\n",
       "       -0.1821625 , -0.17232088, -0.16246202, -0.15258691, -0.14269654,\n",
       "       -0.13279191, -0.122874  , -0.11294379, -0.1030023 , -0.0930505 ,\n",
       "       -0.0830894 , -0.07311999, -0.06314327, -0.05316024, -0.04317189,\n",
       "       -0.03317922, -0.02318323, -0.01318493, -0.0031853 ])"
      ]
     },
     "metadata": {},
     "execution_count": 196
    }
   ],
   "source": [
    "sin_x = np.sin(x)\n",
    "sin_x"
   ]
  },
  {
   "cell_type": "code",
   "execution_count": 197,
   "metadata": {},
   "outputs": [
    {
     "output_type": "execute_result",
     "data": {
      "text/plain": [
       "array([ 1.00000000e+00,  9.99950000e-01,  9.99800007e-01,  9.99550034e-01,\n",
       "        9.99200107e-01,  9.98750260e-01,  9.98200540e-01,  9.97551000e-01,\n",
       "        9.96801706e-01,  9.95952733e-01,  9.95004165e-01,  9.93956098e-01,\n",
       "        9.92808636e-01,  9.91561894e-01,  9.90215996e-01,  9.88771078e-01,\n",
       "        9.87227283e-01,  9.85584767e-01,  9.83843693e-01,  9.82004235e-01,\n",
       "        9.80066578e-01,  9.78030915e-01,  9.75897449e-01,  9.73666395e-01,\n",
       "        9.71337975e-01,  9.68912422e-01,  9.66389978e-01,  9.63770896e-01,\n",
       "        9.61055438e-01,  9.58243876e-01,  9.55336489e-01,  9.52333570e-01,\n",
       "        9.49235418e-01,  9.46042344e-01,  9.42754666e-01,  9.39372713e-01,\n",
       "        9.35896824e-01,  9.32327346e-01,  9.28664636e-01,  9.24909060e-01,\n",
       "        9.21060994e-01,  9.17120823e-01,  9.13088940e-01,  9.08965750e-01,\n",
       "        9.04751663e-01,  9.00447102e-01,  8.96052498e-01,  8.91568288e-01,\n",
       "        8.86994923e-01,  8.82332859e-01,  8.77582562e-01,  8.72744508e-01,\n",
       "        8.67819180e-01,  8.62807071e-01,  8.57708681e-01,  8.52524522e-01,\n",
       "        8.47255111e-01,  8.41900975e-01,  8.36462650e-01,  8.30940679e-01,\n",
       "        8.25335615e-01,  8.19648018e-01,  8.13878457e-01,  8.08027508e-01,\n",
       "        8.02095758e-01,  7.96083799e-01,  7.89992231e-01,  7.83821666e-01,\n",
       "        7.77572719e-01,  7.71246015e-01,  7.64842187e-01,  7.58361876e-01,\n",
       "        7.51805729e-01,  7.45174402e-01,  7.38468559e-01,  7.31688869e-01,\n",
       "        7.24836011e-01,  7.17910670e-01,  7.10913538e-01,  7.03845316e-01,\n",
       "        6.96706709e-01,  6.89498433e-01,  6.82221207e-01,  6.74875760e-01,\n",
       "        6.67462826e-01,  6.59983146e-01,  6.52437468e-01,  6.44826547e-01,\n",
       "        6.37151144e-01,  6.29412027e-01,  6.21609968e-01,  6.13745749e-01,\n",
       "        6.05820157e-01,  5.97833982e-01,  5.89788025e-01,  5.81683089e-01,\n",
       "        5.73519986e-01,  5.65299531e-01,  5.57022547e-01,  5.48689861e-01,\n",
       "        5.40302306e-01,  5.31860721e-01,  5.23365951e-01,  5.14818845e-01,\n",
       "        5.06220257e-01,  4.97571048e-01,  4.88872082e-01,  4.80124229e-01,\n",
       "        4.71328364e-01,  4.62485367e-01,  4.53596121e-01,  4.44661517e-01,\n",
       "        4.35682446e-01,  4.26659808e-01,  4.17594504e-01,  4.08487441e-01,\n",
       "        3.99339529e-01,  3.90151684e-01,  3.80924824e-01,  3.71659872e-01,\n",
       "        3.62357754e-01,  3.53019401e-01,  3.43645746e-01,  3.34237727e-01,\n",
       "        3.24796284e-01,  3.15322362e-01,  3.05816908e-01,  2.96280873e-01,\n",
       "        2.86715210e-01,  2.77120875e-01,  2.67498829e-01,  2.57850033e-01,\n",
       "        2.48175452e-01,  2.38476053e-01,  2.28752808e-01,  2.19006687e-01,\n",
       "        2.09238666e-01,  1.99449721e-01,  1.89640831e-01,  1.79812978e-01,\n",
       "        1.69967143e-01,  1.60104312e-01,  1.50225470e-01,  1.40331606e-01,\n",
       "        1.30423709e-01,  1.20502769e-01,  1.10569780e-01,  1.00625733e-01,\n",
       "        9.06716245e-02,  8.07084485e-02,  7.07372017e-02,  6.07588812e-02,\n",
       "        5.07744849e-02,  4.07850112e-02,  3.07914591e-02,  2.07948278e-02,\n",
       "        1.07961171e-02,  7.96326711e-04, -9.20354327e-03, -1.92024929e-02,\n",
       "       -2.91995223e-02, -3.91936318e-02, -4.91838219e-02, -5.91690937e-02,\n",
       "       -6.91484487e-02, -7.91208888e-02, -8.90854169e-02, -9.90410366e-02,\n",
       "       -1.08986752e-01, -1.18921569e-01, -1.28844494e-01, -1.38754535e-01,\n",
       "       -1.48650700e-01, -1.58532001e-01, -1.68397448e-01, -1.78246056e-01,\n",
       "       -1.88076839e-01, -1.97888815e-01, -2.07681002e-01, -2.17452421e-01,\n",
       "       -2.27202095e-01, -2.36929049e-01, -2.46632310e-01, -2.56310908e-01,\n",
       "       -2.65963876e-01, -2.75590247e-01, -2.85189059e-01, -2.94759353e-01,\n",
       "       -3.04300171e-01, -3.13810559e-01, -3.23289567e-01, -3.32736246e-01,\n",
       "       -3.42149651e-01, -3.51528842e-01, -3.60872880e-01, -3.70180831e-01,\n",
       "       -3.79451765e-01, -3.88684753e-01, -3.97878874e-01, -4.07033207e-01,\n",
       "       -4.16146837e-01, -4.25218852e-01, -4.34248346e-01, -4.43234416e-01,\n",
       "       -4.52176162e-01, -4.61072691e-01, -4.69923114e-01, -4.78726544e-01,\n",
       "       -4.87482102e-01, -4.96188913e-01, -5.04846105e-01, -5.13452812e-01,\n",
       "       -5.22008175e-01, -5.30511338e-01, -5.38961449e-01, -5.47357665e-01,\n",
       "       -5.55699146e-01, -5.63985058e-01, -5.72214571e-01, -5.80386863e-01,\n",
       "       -5.88501117e-01, -5.96556522e-01, -6.04552271e-01, -6.12487566e-01,\n",
       "       -6.20361612e-01, -6.28173623e-01, -6.35922817e-01, -6.43608419e-01,\n",
       "       -6.51229661e-01, -6.58785780e-01, -6.66276021e-01, -6.73699636e-01,\n",
       "       -6.81055881e-01, -6.88344020e-01, -6.95563326e-01, -7.02713077e-01,\n",
       "       -7.09792556e-01, -7.16801057e-01, -7.23737879e-01, -7.30602327e-01,\n",
       "       -7.37393716e-01, -7.44111365e-01, -7.50754605e-01, -7.57322769e-01,\n",
       "       -7.63815202e-01, -7.70231254e-01, -7.76570284e-01, -7.82831657e-01,\n",
       "       -7.89014747e-01, -7.95118937e-01, -8.01143616e-01, -8.07088180e-01,\n",
       "       -8.12952037e-01, -8.18734599e-01, -8.24435289e-01, -8.30053535e-01,\n",
       "       -8.35588777e-01, -8.41040461e-01, -8.46408041e-01, -8.51690981e-01,\n",
       "       -8.56888753e-01, -8.62000837e-01, -8.67026721e-01, -8.71965904e-01,\n",
       "       -8.76817890e-01, -8.81582196e-01, -8.86258344e-01, -8.90845867e-01,\n",
       "       -8.95344306e-01, -8.99753211e-01, -9.04072142e-01, -9.08300666e-01,\n",
       "       -9.12438361e-01, -9.16484813e-01, -9.20439618e-01, -9.24302379e-01,\n",
       "       -9.28072710e-01, -9.31750235e-01, -9.35334586e-01, -9.38825404e-01,\n",
       "       -9.42222341e-01, -9.45525056e-01, -9.48733219e-01, -9.51846510e-01,\n",
       "       -9.54864616e-01, -9.57787238e-01, -9.60614081e-01, -9.63344863e-01,\n",
       "       -9.65979312e-01, -9.68517164e-01, -9.70958165e-01, -9.73302071e-01,\n",
       "       -9.75548648e-01, -9.77697670e-01, -9.79748924e-01, -9.81702203e-01,\n",
       "       -9.83557313e-01, -9.85314068e-01, -9.86972293e-01, -9.88531821e-01,\n",
       "       -9.89992497e-01, -9.91354174e-01, -9.92616717e-01, -9.93779999e-01,\n",
       "       -9.94843903e-01, -9.95808325e-01, -9.96673166e-01, -9.97438340e-01,\n",
       "       -9.98103772e-01, -9.98669394e-01, -9.99135150e-01, -9.99500994e-01,\n",
       "       -9.99766888e-01, -9.99932806e-01, -9.99998732e-01, -9.99964658e-01,\n",
       "       -9.99830590e-01, -9.99596538e-01, -9.99262529e-01, -9.98828593e-01,\n",
       "       -9.98294776e-01, -9.97661130e-01, -9.96927718e-01, -9.96094615e-01,\n",
       "       -9.95161903e-01, -9.94129676e-01, -9.92998037e-01, -9.91767098e-01,\n",
       "       -9.90436984e-01, -9.89007827e-01, -9.87479770e-01, -9.85852966e-01,\n",
       "       -9.84127577e-01, -9.82303776e-01, -9.80381746e-01, -9.78361679e-01,\n",
       "       -9.76243776e-01, -9.74028249e-01, -9.71715321e-01, -9.69305222e-01,\n",
       "       -9.66798193e-01, -9.64194485e-01, -9.61494358e-01, -9.58698083e-01,\n",
       "       -9.55805939e-01, -9.52818215e-01, -9.49735210e-01, -9.46557232e-01,\n",
       "       -9.43284599e-01, -9.39917639e-01, -9.36456687e-01, -9.32902091e-01,\n",
       "       -9.29254205e-01, -9.25513395e-01, -9.21680034e-01, -9.17754506e-01,\n",
       "       -9.13737203e-01, -9.09628527e-01, -9.05428889e-01, -9.01138709e-01,\n",
       "       -8.96758416e-01, -8.92288448e-01, -8.87729252e-01, -8.83081283e-01,\n",
       "       -8.78345007e-01, -8.73520898e-01, -8.68609437e-01, -8.63611115e-01,\n",
       "       -8.58526434e-01, -8.53355900e-01, -8.48100032e-01, -8.42759354e-01,\n",
       "       -8.37334401e-01, -8.31825715e-01, -8.26233848e-01, -8.20559357e-01,\n",
       "       -8.14802812e-01, -8.08964787e-01, -8.03045866e-01, -7.97046641e-01,\n",
       "       -7.90967712e-01, -7.84809687e-01, -7.78573182e-01, -7.72258820e-01,\n",
       "       -7.65867232e-01, -7.59399059e-01, -7.52854947e-01, -7.46235549e-01,\n",
       "       -7.39541529e-01, -7.32773555e-01, -7.25932304e-01, -7.19018461e-01,\n",
       "       -7.12032716e-01, -7.04975769e-01, -6.97848325e-01, -6.90651097e-01,\n",
       "       -6.83384804e-01, -6.76050173e-01, -6.68647937e-01, -6.61178838e-01,\n",
       "       -6.53643621e-01, -6.46043040e-01, -6.38377856e-01, -6.30648834e-01,\n",
       "       -6.22856748e-01, -6.15002377e-01, -6.07086506e-01, -5.99109926e-01,\n",
       "       -5.91073437e-01, -5.82977840e-01, -5.74823947e-01, -5.66612571e-01,\n",
       "       -5.58344534e-01, -5.50020664e-01, -5.41641792e-01, -5.33208756e-01,\n",
       "       -5.24722400e-01, -5.16183572e-01, -5.07593126e-01, -4.98951921e-01,\n",
       "       -4.90260821e-01, -4.81520696e-01, -4.72732419e-01, -4.63896869e-01,\n",
       "       -4.55014930e-01, -4.46087490e-01, -4.37115441e-01, -4.28099682e-01,\n",
       "       -4.19041112e-01, -4.09940639e-01, -4.00799172e-01, -3.91617626e-01,\n",
       "       -3.82396918e-01, -3.73137970e-01, -3.63841710e-01, -3.54509065e-01,\n",
       "       -3.45140970e-01, -3.35738361e-01, -3.26302178e-01, -3.16833366e-01,\n",
       "       -3.07332870e-01, -2.97801641e-01, -2.88240633e-01, -2.78650800e-01,\n",
       "       -2.69033103e-01, -2.59388503e-01, -2.49717964e-01, -2.40022453e-01,\n",
       "       -2.30302941e-01, -2.20560398e-01, -2.10795799e-01, -2.01010121e-01,\n",
       "       -1.91204343e-01, -1.81379444e-01, -1.71536407e-01, -1.61676216e-01,\n",
       "       -1.51799858e-01, -1.41908321e-01, -1.32002592e-01, -1.22083664e-01,\n",
       "       -1.12152527e-01, -1.02210175e-01, -9.22576020e-02, -8.22958034e-02,\n",
       "       -7.23257753e-02, -6.23485146e-02, -5.23650192e-02, -4.23762873e-02,\n",
       "       -3.23833178e-02, -2.23871100e-02, -1.23886635e-02, -2.38897811e-03,\n",
       "        7.61094613e-03,  1.76101093e-02,  2.76075115e-02,  3.76021529e-02,\n",
       "        4.75930341e-02,  5.75791561e-02,  6.75595202e-02,  7.75331285e-02,\n",
       "        8.74989834e-02,  9.74560886e-02,  1.07403448e-01,  1.17340068e-01,\n",
       "        1.27264953e-01,  1.37177112e-01,  1.47075554e-01,  1.56959288e-01,\n",
       "        1.66827326e-01,  1.76678681e-01,  1.86512369e-01,  1.96327406e-01,\n",
       "        2.06122811e-01,  2.15897603e-01,  2.25650805e-01,  2.35381443e-01,\n",
       "        2.45088543e-01,  2.54771134e-01,  2.64428248e-01,  2.74058920e-01,\n",
       "        2.83662185e-01,  2.93237085e-01,  3.02782662e-01,  3.12297960e-01,\n",
       "        3.21782029e-01,  3.31233920e-01,  3.40652688e-01,  3.50037391e-01,\n",
       "        3.59387090e-01,  3.68700851e-01,  3.77977743e-01,  3.87216837e-01,\n",
       "        3.96417209e-01,  4.05577940e-01,  4.14698114e-01,  4.23776818e-01,\n",
       "        4.32813144e-01,  4.41806190e-01,  4.50755056e-01,  4.59658846e-01,\n",
       "        4.68516671e-01,  4.77327645e-01,  4.86090886e-01,  4.94805519e-01,\n",
       "        5.03470671e-01,  5.12085477e-01,  5.20649075e-01,  5.29160608e-01,\n",
       "        5.37619226e-01,  5.46024082e-01,  5.54374336e-01,  5.62669153e-01,\n",
       "        5.70907704e-01,  5.79089165e-01,  5.87212717e-01,  5.95277548e-01,\n",
       "        6.03282852e-01,  6.11227828e-01,  6.19111682e-01,  6.26933625e-01,\n",
       "        6.34692876e-01,  6.42388658e-01,  6.50020201e-01,  6.57586743e-01,\n",
       "        6.65087527e-01,  6.72521802e-01,  6.79888826e-01,  6.87187862e-01,\n",
       "        6.94418179e-01,  7.01579055e-01,  7.08669774e-01,  7.15689627e-01,\n",
       "        7.22637911e-01,  7.29513932e-01,  7.36317002e-01,  7.43046441e-01,\n",
       "        7.49701576e-01,  7.56281741e-01,  7.62786279e-01,  7.69214539e-01,\n",
       "        7.75565879e-01,  7.81839662e-01,  7.88035262e-01,  7.94152059e-01,\n",
       "        8.00189441e-01,  8.06146805e-01,  8.12023555e-01,  8.17819104e-01,\n",
       "        8.23532871e-01,  8.29164286e-01,  8.34712785e-01,  8.40177813e-01,\n",
       "        8.45558824e-01,  8.50855281e-01,  8.56066652e-01,  8.61192417e-01,\n",
       "        8.66232064e-01,  8.71185088e-01,  8.76050995e-01,  8.80829297e-01,\n",
       "        8.85519517e-01,  8.90121186e-01,  8.94633843e-01,  8.99057038e-01,\n",
       "        9.03390328e-01,  9.07633279e-01,  9.11785468e-01,  9.15846479e-01,\n",
       "        9.19815906e-01,  9.23693353e-01,  9.27478431e-01,  9.31170762e-01,\n",
       "        9.34769976e-01,  9.38275714e-01,  9.41687626e-01,  9.45005369e-01,\n",
       "        9.48228613e-01,  9.51357035e-01,  9.54390322e-01,  9.57328170e-01,\n",
       "        9.60170287e-01,  9.62916387e-01,  9.65566196e-01,  9.68119450e-01,\n",
       "        9.70575893e-01,  9.72935278e-01,  9.75197371e-01,  9.77361945e-01,\n",
       "        9.79428784e-01,  9.81397681e-01,  9.83268438e-01,  9.85040870e-01,\n",
       "        9.86714799e-01,  9.88290056e-01,  9.89766486e-01,  9.91143940e-01,\n",
       "        9.92422280e-01,  9.93601379e-01,  9.94681118e-01,  9.95661390e-01,\n",
       "        9.96542097e-01,  9.97323151e-01,  9.98004473e-01,  9.98585995e-01,\n",
       "        9.99067660e-01,  9.99449418e-01,  9.99731233e-01,  9.99913075e-01,\n",
       "        9.99994927e-01])"
      ]
     },
     "metadata": {},
     "execution_count": 197
    }
   ],
   "source": [
    "cos_x = np.cos(x)\n",
    "cos_x"
   ]
  },
  {
   "cell_type": "code",
   "execution_count": 201,
   "metadata": {},
   "outputs": [
    {
     "output_type": "execute_result",
     "data": {
      "text/plain": [
       "array([[ 0.00000000e+00,  1.00000000e-02,  2.00000000e-02, ...,\n",
       "         6.26000000e+00,  6.27000000e+00,  6.28000000e+00],\n",
       "       [ 0.00000000e+00,  9.99983333e-03,  1.99986667e-02, ...,\n",
       "        -2.31832300e-02, -1.31849251e-02, -3.18530179e-03],\n",
       "       [ 1.00000000e+00,  9.99950000e-01,  9.99800007e-01, ...,\n",
       "         9.99731233e-01,  9.99913075e-01,  9.99994927e-01]])"
      ]
     },
     "metadata": {},
     "execution_count": 201
    }
   ],
   "source": [
    "tabular = np.array([x,sin_x,cos_x])\n",
    "tabular"
   ]
  },
  {
   "source": [
    "-check the sin^2 + cos^2 = 1 identity\n"
   ],
   "cell_type": "markdown",
   "metadata": {}
  },
  {
   "cell_type": "code",
   "execution_count": 204,
   "metadata": {},
   "outputs": [
    {
     "output_type": "execute_result",
     "data": {
      "text/plain": [
       "array([1., 1., 1., 1., 1., 1., 1., 1., 1., 1., 1., 1., 1., 1., 1., 1., 1.,\n",
       "       1., 1., 1., 1., 1., 1., 1., 1., 1., 1., 1., 1., 1., 1., 1., 1., 1.,\n",
       "       1., 1., 1., 1., 1., 1., 1., 1., 1., 1., 1., 1., 1., 1., 1., 1., 1.,\n",
       "       1., 1., 1., 1., 1., 1., 1., 1., 1., 1., 1., 1., 1., 1., 1., 1., 1.,\n",
       "       1., 1., 1., 1., 1., 1., 1., 1., 1., 1., 1., 1., 1., 1., 1., 1., 1.,\n",
       "       1., 1., 1., 1., 1., 1., 1., 1., 1., 1., 1., 1., 1., 1., 1., 1., 1.,\n",
       "       1., 1., 1., 1., 1., 1., 1., 1., 1., 1., 1., 1., 1., 1., 1., 1., 1.,\n",
       "       1., 1., 1., 1., 1., 1., 1., 1., 1., 1., 1., 1., 1., 1., 1., 1., 1.,\n",
       "       1., 1., 1., 1., 1., 1., 1., 1., 1., 1., 1., 1., 1., 1., 1., 1., 1.,\n",
       "       1., 1., 1., 1., 1., 1., 1., 1., 1., 1., 1., 1., 1., 1., 1., 1., 1.,\n",
       "       1., 1., 1., 1., 1., 1., 1., 1., 1., 1., 1., 1., 1., 1., 1., 1., 1.,\n",
       "       1., 1., 1., 1., 1., 1., 1., 1., 1., 1., 1., 1., 1., 1., 1., 1., 1.,\n",
       "       1., 1., 1., 1., 1., 1., 1., 1., 1., 1., 1., 1., 1., 1., 1., 1., 1.,\n",
       "       1., 1., 1., 1., 1., 1., 1., 1., 1., 1., 1., 1., 1., 1., 1., 1., 1.,\n",
       "       1., 1., 1., 1., 1., 1., 1., 1., 1., 1., 1., 1., 1., 1., 1., 1., 1.,\n",
       "       1., 1., 1., 1., 1., 1., 1., 1., 1., 1., 1., 1., 1., 1., 1., 1., 1.,\n",
       "       1., 1., 1., 1., 1., 1., 1., 1., 1., 1., 1., 1., 1., 1., 1., 1., 1.,\n",
       "       1., 1., 1., 1., 1., 1., 1., 1., 1., 1., 1., 1., 1., 1., 1., 1., 1.,\n",
       "       1., 1., 1., 1., 1., 1., 1., 1., 1., 1., 1., 1., 1., 1., 1., 1., 1.,\n",
       "       1., 1., 1., 1., 1., 1., 1., 1., 1., 1., 1., 1., 1., 1., 1., 1., 1.,\n",
       "       1., 1., 1., 1., 1., 1., 1., 1., 1., 1., 1., 1., 1., 1., 1., 1., 1.,\n",
       "       1., 1., 1., 1., 1., 1., 1., 1., 1., 1., 1., 1., 1., 1., 1., 1., 1.,\n",
       "       1., 1., 1., 1., 1., 1., 1., 1., 1., 1., 1., 1., 1., 1., 1., 1., 1.,\n",
       "       1., 1., 1., 1., 1., 1., 1., 1., 1., 1., 1., 1., 1., 1., 1., 1., 1.,\n",
       "       1., 1., 1., 1., 1., 1., 1., 1., 1., 1., 1., 1., 1., 1., 1., 1., 1.,\n",
       "       1., 1., 1., 1., 1., 1., 1., 1., 1., 1., 1., 1., 1., 1., 1., 1., 1.,\n",
       "       1., 1., 1., 1., 1., 1., 1., 1., 1., 1., 1., 1., 1., 1., 1., 1., 1.,\n",
       "       1., 1., 1., 1., 1., 1., 1., 1., 1., 1., 1., 1., 1., 1., 1., 1., 1.,\n",
       "       1., 1., 1., 1., 1., 1., 1., 1., 1., 1., 1., 1., 1., 1., 1., 1., 1.,\n",
       "       1., 1., 1., 1., 1., 1., 1., 1., 1., 1., 1., 1., 1., 1., 1., 1., 1.,\n",
       "       1., 1., 1., 1., 1., 1., 1., 1., 1., 1., 1., 1., 1., 1., 1., 1., 1.,\n",
       "       1., 1., 1., 1., 1., 1., 1., 1., 1., 1., 1., 1., 1., 1., 1., 1., 1.,\n",
       "       1., 1., 1., 1., 1., 1., 1., 1., 1., 1., 1., 1., 1., 1., 1., 1., 1.,\n",
       "       1., 1., 1., 1., 1., 1., 1., 1., 1., 1., 1., 1., 1., 1., 1., 1., 1.,\n",
       "       1., 1., 1., 1., 1., 1., 1., 1., 1., 1., 1., 1., 1., 1., 1., 1., 1.,\n",
       "       1., 1., 1., 1., 1., 1., 1., 1., 1., 1., 1., 1., 1., 1., 1., 1., 1.,\n",
       "       1., 1., 1., 1., 1., 1., 1., 1., 1., 1., 1., 1., 1., 1., 1., 1., 1.])"
      ]
     },
     "metadata": {},
     "execution_count": 204
    }
   ],
   "source": [
    "identity = (tabular[1, :] )**2 + (tabular[2,:] )**2\n",
    "identity"
   ]
  },
  {
   "source": [
    "Exercise: Simulate 1 million dice rolls with 10 dice each"
   ],
   "cell_type": "markdown",
   "metadata": {}
  },
  {
   "cell_type": "code",
   "execution_count": 47,
   "metadata": {},
   "outputs": [],
   "source": [
    "#rng wasnt defined for some reason, so do it here as follows\n",
    "rng = np.random.default_rng(seed=1)\n",
    "dice_rolls = rng.integers(1,7,(1_000_000,10))"
   ]
  },
  {
   "cell_type": "code",
   "execution_count": 51,
   "metadata": {},
   "outputs": [
    {
     "output_type": "execute_result",
     "data": {
      "text/plain": [
       "array([[3, 4, 5, ..., 6, 2, 2],\n",
       "       [6, 3, 2, ..., 4, 1, 1],\n",
       "       [6, 5, 6, ..., 5, 1, 2],\n",
       "       ...,\n",
       "       [4, 5, 1, ..., 1, 1, 3],\n",
       "       [2, 3, 3, ..., 4, 2, 5],\n",
       "       [4, 6, 5, ..., 2, 6, 3]])"
      ]
     },
     "metadata": {},
     "execution_count": 51
    }
   ],
   "source": [
    "dice_rolls\n"
   ]
  },
  {
   "cell_type": "code",
   "execution_count": 52,
   "metadata": {},
   "outputs": [
    {
     "output_type": "execute_result",
     "data": {
      "text/plain": [
       "array([3, 6, 6, ..., 4, 2, 4])"
      ]
     },
     "metadata": {},
     "execution_count": 52
    }
   ],
   "source": [
    "erste_roll = dice_rolls[:,0]\n",
    "erste_roll"
   ]
  },
  {
   "cell_type": "code",
   "execution_count": 48,
   "metadata": {},
   "outputs": [],
   "source": [
    "# isnt the row the first rolls though and not the column? and shouldnt the column output a million outputs and not just 10 ???\n",
    "#ich glaube schon"
   ]
  },
  {
   "cell_type": "code",
   "execution_count": 53,
   "metadata": {},
   "outputs": [
    {
     "output_type": "execute_result",
     "data": {
      "text/plain": [
       "array([3, 4, 5, 6, 1, 1, 5, 6, 2, 2])"
      ]
     },
     "metadata": {},
     "execution_count": 53
    }
   ],
   "source": [
    "erste_roll = dice_rolls[0,:]\n",
    "erste_roll"
   ]
  },
  {
   "cell_type": "code",
   "execution_count": 54,
   "metadata": {},
   "outputs": [
    {
     "output_type": "execute_result",
     "data": {
      "text/plain": [
       "array([[-5,  5,  9, -6, -3, -5]])"
      ]
     },
     "metadata": {},
     "execution_count": 54
    }
   ],
   "source": [
    "a = rng.integers(-10,10,(1,6))\n",
    "a"
   ]
  },
  {
   "cell_type": "code",
   "execution_count": 55,
   "metadata": {},
   "outputs": [
    {
     "output_type": "execute_result",
     "data": {
      "text/plain": [
       "array([5, 9])"
      ]
     },
     "metadata": {},
     "execution_count": 55
    }
   ],
   "source": [
    "a_filtered = a[a>0]\n",
    "a_filtered"
   ]
  },
  {
   "cell_type": "code",
   "execution_count": 59,
   "metadata": {},
   "outputs": [
    {
     "output_type": "execute_result",
     "data": {
      "text/plain": [
       "array([[nan,  5.,  9., nan, nan, nan]])"
      ]
     },
     "metadata": {},
     "execution_count": 59
    }
   ],
   "source": [
    "a_with_nan = np.copy(a)\n",
    "a_with_nan = np.array(a, dtype='float')\n",
    "\n",
    "\n",
    "a_with_nan[a_with_nan<0] = np.nan\n",
    "a_with_nan"
   ]
  },
  {
   "cell_type": "code",
   "execution_count": 60,
   "metadata": {},
   "outputs": [
    {
     "output_type": "execute_result",
     "data": {
      "text/plain": [
       "array([0, 1, 2, 3, 4, 5, 6, 7, 8, 9])"
      ]
     },
     "metadata": {},
     "execution_count": 60
    }
   ],
   "source": [
    "a1d"
   ]
  },
  {
   "source": [],
   "cell_type": "markdown",
   "metadata": {}
  },
  {
   "cell_type": "code",
   "execution_count": 62,
   "metadata": {},
   "outputs": [
    {
     "output_type": "execute_result",
     "data": {
      "text/plain": [
       "array([[1, 2, 3],\n",
       "       [4, 5, 6],\n",
       "       [7, 8, 9]])"
      ]
     },
     "metadata": {},
     "execution_count": 62
    }
   ],
   "source": [
    "a2d"
   ]
  },
  {
   "cell_type": "code",
   "execution_count": 63,
   "metadata": {},
   "outputs": [
    {
     "output_type": "execute_result",
     "data": {
      "text/plain": [
       "array([[[1, 2],\n",
       "        [3, 4]],\n",
       "\n",
       "       [[5, 6],\n",
       "        [7, 8]]])"
      ]
     },
     "metadata": {},
     "execution_count": 63
    }
   ],
   "source": [
    "a3d"
   ]
  },
  {
   "cell_type": "code",
   "execution_count": 67,
   "metadata": {},
   "outputs": [
    {
     "output_type": "execute_result",
     "data": {
      "text/plain": [
       "array([[1],\n",
       "       [2],\n",
       "       [3],\n",
       "       [4],\n",
       "       [5],\n",
       "       [6],\n",
       "       [7],\n",
       "       [8]])"
      ]
     },
     "metadata": {},
     "execution_count": 67
    }
   ],
   "source": [
    "np.reshape(a3d, (8,1))"
   ]
  },
  {
   "cell_type": "code",
   "execution_count": 68,
   "metadata": {},
   "outputs": [
    {
     "output_type": "execute_result",
     "data": {
      "text/plain": [
       "array([[1, 2, 3, 4],\n",
       "       [5, 6, 7, 8]])"
      ]
     },
     "metadata": {},
     "execution_count": 68
    }
   ],
   "source": [
    "np.reshape(a3d, (2,4))"
   ]
  },
  {
   "cell_type": "code",
   "execution_count": 69,
   "metadata": {},
   "outputs": [
    {
     "output_type": "execute_result",
     "data": {
      "text/plain": [
       "array([1, 2, 3, 4, 5, 6, 7, 8])"
      ]
     },
     "metadata": {},
     "execution_count": 69
    }
   ],
   "source": [
    "np.ravel(a3d)"
   ]
  },
  {
   "cell_type": "code",
   "execution_count": 73,
   "metadata": {},
   "outputs": [
    {
     "output_type": "execute_result",
     "data": {
      "text/plain": [
       "array([1, 2, 3, 4, 5, 6, 7, 8])"
      ]
     },
     "metadata": {},
     "execution_count": 73
    }
   ],
   "source": [
    "np.reshape(a3d, (-1, ))"
   ]
  },
  {
   "cell_type": "code",
   "execution_count": 74,
   "metadata": {},
   "outputs": [
    {
     "output_type": "execute_result",
     "data": {
      "text/plain": [
       "array([[1, 2, 3, 4],\n",
       "       [5, 6, 7, 8]])"
      ]
     },
     "metadata": {},
     "execution_count": 74
    }
   ],
   "source": [
    "np.reshape(a3d, (2,-1))"
   ]
  },
  {
   "cell_type": "code",
   "execution_count": 80,
   "metadata": {},
   "outputs": [
    {
     "output_type": "execute_result",
     "data": {
      "text/plain": [
       "array([[[1, 2, 3]],\n",
       "\n",
       "       [[4, 5, 6]],\n",
       "\n",
       "       [[7, 8, 9]]])"
      ]
     },
     "metadata": {},
     "execution_count": 80
    }
   ],
   "source": [
    "np.expand_dims(a2d, 1)"
   ]
  },
  {
   "cell_type": "code",
   "execution_count": 81,
   "metadata": {},
   "outputs": [
    {
     "output_type": "execute_result",
     "data": {
      "text/plain": [
       "array([[[1, 2, 3],\n",
       "        [4, 5, 6],\n",
       "        [7, 8, 9]]])"
      ]
     },
     "metadata": {},
     "execution_count": 81
    }
   ],
   "source": [
    "np.expand_dims(a2d,0)"
   ]
  },
  {
   "cell_type": "code",
   "execution_count": 82,
   "metadata": {},
   "outputs": [
    {
     "output_type": "execute_result",
     "data": {
      "text/plain": [
       "array([[[1],\n",
       "        [2],\n",
       "        [3]],\n",
       "\n",
       "       [[4],\n",
       "        [5],\n",
       "        [6]],\n",
       "\n",
       "       [[7],\n",
       "        [8],\n",
       "        [9]]])"
      ]
     },
     "metadata": {},
     "execution_count": 82
    }
   ],
   "source": [
    "np.expand_dims(a2d, 2)"
   ]
  },
  {
   "cell_type": "code",
   "execution_count": 85,
   "metadata": {},
   "outputs": [
    {
     "output_type": "execute_result",
     "data": {
      "text/plain": [
       "array([[[1],\n",
       "        [2],\n",
       "        [3]],\n",
       "\n",
       "       [[4],\n",
       "        [5],\n",
       "        [6]],\n",
       "\n",
       "       [[7],\n",
       "        [8],\n",
       "        [9]]])"
      ]
     },
     "metadata": {},
     "execution_count": 85
    }
   ],
   "source": [
    "a2d[:,:,np.newaxis]"
   ]
  },
  {
   "cell_type": "code",
   "execution_count": 86,
   "metadata": {},
   "outputs": [
    {
     "output_type": "execute_result",
     "data": {
      "text/plain": [
       "array([[1, 4, 7],\n",
       "       [2, 5, 8],\n",
       "       [3, 6, 9]])"
      ]
     },
     "metadata": {},
     "execution_count": 86
    }
   ],
   "source": [
    "np.transpose(a2d)"
   ]
  },
  {
   "cell_type": "code",
   "execution_count": 87,
   "metadata": {},
   "outputs": [
    {
     "output_type": "execute_result",
     "data": {
      "text/plain": [
       "array([[1, 4, 7],\n",
       "       [2, 5, 8],\n",
       "       [3, 6, 9]])"
      ]
     },
     "metadata": {},
     "execution_count": 87
    }
   ],
   "source": [
    "a2d.T"
   ]
  },
  {
   "cell_type": "code",
   "execution_count": 88,
   "metadata": {},
   "outputs": [
    {
     "output_type": "execute_result",
     "data": {
      "text/plain": [
       "array([[1, 2, 3],\n",
       "       [4, 5, 6],\n",
       "       [7, 8, 9]])"
      ]
     },
     "metadata": {},
     "execution_count": 88
    }
   ],
   "source": [
    "a2d.T.T"
   ]
  },
  {
   "cell_type": "code",
   "execution_count": 58,
   "metadata": {},
   "outputs": [
    {
     "output_type": "execute_result",
     "data": {
      "text/plain": [
       "array([5, 5, 3])"
      ]
     },
     "metadata": {},
     "execution_count": 58
    }
   ],
   "source": [
    "array = rng.integers(1,10, (3))\n",
    "array"
   ]
  },
  {
   "cell_type": "code",
   "execution_count": 59,
   "metadata": {},
   "outputs": [
    {
     "output_type": "execute_result",
     "data": {
      "text/plain": [
       "array([5, 5, 3])"
      ]
     },
     "metadata": {},
     "execution_count": 59
    }
   ],
   "source": [
    "array_view = array[:]\n",
    "\n",
    "\n",
    "array_view"
   ]
  },
  {
   "cell_type": "code",
   "execution_count": 60,
   "metadata": {},
   "outputs": [
    {
     "output_type": "execute_result",
     "data": {
      "text/plain": [
       "array([ 5,  5, 10])"
      ]
     },
     "metadata": {},
     "execution_count": 60
    }
   ],
   "source": [
    "array_view[2] = 10\n",
    "array_view"
   ]
  },
  {
   "cell_type": "code",
   "execution_count": 61,
   "metadata": {},
   "outputs": [
    {
     "output_type": "execute_result",
     "data": {
      "text/plain": [
       "array([ 5,  5, 10])"
      ]
     },
     "metadata": {},
     "execution_count": 61
    }
   ],
   "source": [
    "array"
   ]
  },
  {
   "cell_type": "code",
   "execution_count": 62,
   "metadata": {},
   "outputs": [],
   "source": [
    "arra_view = np.copy(array)"
   ]
  },
  {
   "cell_type": "code",
   "execution_count": 63,
   "metadata": {},
   "outputs": [
    {
     "output_type": "execute_result",
     "data": {
      "text/plain": [
       "array([ 5,  2, 10])"
      ]
     },
     "metadata": {},
     "execution_count": 63
    }
   ],
   "source": [
    "arra_view[1] = 2\n",
    "arra_view"
   ]
  },
  {
   "cell_type": "code",
   "execution_count": 64,
   "metadata": {},
   "outputs": [
    {
     "output_type": "execute_result",
     "data": {
      "text/plain": [
       "array([ 5,  5, 10])"
      ]
     },
     "metadata": {},
     "execution_count": 64
    }
   ],
   "source": [
    "array"
   ]
  },
  {
   "cell_type": "code",
   "execution_count": 65,
   "metadata": {},
   "outputs": [
    {
     "output_type": "execute_result",
     "data": {
      "text/plain": [
       "array([ 5,  5, 10])"
      ]
     },
     "metadata": {},
     "execution_count": 65
    }
   ],
   "source": [
    "array_view"
   ]
  },
  {
   "cell_type": "code",
   "execution_count": 66,
   "metadata": {},
   "outputs": [
    {
     "output_type": "execute_result",
     "data": {
      "text/plain": [
       "array([0, 1, 2, 3, 4, 5, 6, 7, 8, 9, 0, 1, 2, 3, 4, 5, 6, 7, 8, 9])"
      ]
     },
     "metadata": {},
     "execution_count": 66
    }
   ],
   "source": [
    "np.concatenate([a1d,a1d])"
   ]
  },
  {
   "cell_type": "code",
   "execution_count": 67,
   "metadata": {},
   "outputs": [
    {
     "output_type": "execute_result",
     "data": {
      "text/plain": [
       "array([[1, 2, 3],\n",
       "       [4, 5, 6],\n",
       "       [7, 8, 9],\n",
       "       [1, 2, 3],\n",
       "       [4, 5, 6],\n",
       "       [7, 8, 9]])"
      ]
     },
     "metadata": {},
     "execution_count": 67
    }
   ],
   "source": [
    "np.concatenate([a2d,a2d])"
   ]
  },
  {
   "cell_type": "code",
   "execution_count": 68,
   "metadata": {},
   "outputs": [
    {
     "output_type": "execute_result",
     "data": {
      "text/plain": [
       "array([[1, 2, 3, 1, 2, 3],\n",
       "       [4, 5, 6, 4, 5, 6],\n",
       "       [7, 8, 9, 7, 8, 9]])"
      ]
     },
     "metadata": {},
     "execution_count": 68
    }
   ],
   "source": [
    "np.concatenate([a2d,a2d], axis=1)"
   ]
  },
  {
   "cell_type": "code",
   "execution_count": 69,
   "metadata": {},
   "outputs": [
    {
     "output_type": "execute_result",
     "data": {
      "text/plain": [
       "array([[0, 1, 2, 3, 4, 5, 6, 7, 8, 9],\n",
       "       [0, 1, 2, 3, 4, 5, 6, 7, 8, 9]])"
      ]
     },
     "metadata": {},
     "execution_count": 69
    }
   ],
   "source": [
    "np.stack([a1d, a1d])"
   ]
  },
  {
   "cell_type": "code",
   "execution_count": 71,
   "metadata": {},
   "outputs": [
    {
     "output_type": "execute_result",
     "data": {
      "text/plain": [
       "array([[[1, 2, 3],\n",
       "        [4, 5, 6],\n",
       "        [7, 8, 9]],\n",
       "\n",
       "       [[1, 2, 3],\n",
       "        [4, 5, 6],\n",
       "        [7, 8, 9]]])"
      ]
     },
     "metadata": {},
     "execution_count": 71
    }
   ],
   "source": [
    "np.stack([a2d,a2d])"
   ]
  },
  {
   "cell_type": "code",
   "execution_count": 73,
   "metadata": {},
   "outputs": [],
   "source": [
    "points = np.array([[0,0], [1,0], [0,1], [1,1]])\n",
    "m = np.array([[np.sqrt(0.5), np.sqrt(0.5)],\n",
    "[-np.sqrt(0.5), np.sqrt(0.5)]])"
   ]
  },
  {
   "cell_type": "code",
   "execution_count": 74,
   "metadata": {},
   "outputs": [
    {
     "output_type": "execute_result",
     "data": {
      "text/plain": [
       "array([[ 0.        ,  0.        ],\n",
       "       [ 0.70710678,  0.70710678],\n",
       "       [-0.70710678,  0.70710678],\n",
       "       [ 0.        ,  1.41421356]])"
      ]
     },
     "metadata": {},
     "execution_count": 74
    }
   ],
   "source": [
    "turn_45 = points@m\n",
    "turn_45"
   ]
  },
  {
   "cell_type": "code",
   "execution_count": 75,
   "metadata": {},
   "outputs": [
    {
     "output_type": "execute_result",
     "data": {
      "text/plain": [
       "array([[ 0.00000000e+00,  0.00000000e+00],\n",
       "       [ 4.26642159e-17,  1.00000000e+00],\n",
       "       [-1.00000000e+00, -4.26642159e-17],\n",
       "       [-1.00000000e+00,  1.00000000e+00]])"
      ]
     },
     "metadata": {},
     "execution_count": 75
    }
   ],
   "source": [
    "turn_90 =points@m@m\n",
    "turn_90"
   ]
  },
  {
   "cell_type": "code",
   "execution_count": 77,
   "metadata": {},
   "outputs": [
    {
     "output_type": "execute_result",
     "data": {
      "text/plain": [
       "array([[ 0.00000000e+00,  0.00000000e+00],\n",
       "       [ 1.00000000e+00, -1.27814294e-16],\n",
       "       [ 2.91949520e-17,  1.00000000e+00],\n",
       "       [ 1.00000000e+00,  1.00000000e+00]])"
      ]
     },
     "metadata": {},
     "execution_count": 77
    }
   ],
   "source": [
    "turn_360 = points @m @m @m @m @m @m @m @m\n",
    "turn_360"
   ]
  },
  {
   "cell_type": "code",
   "execution_count": 78,
   "metadata": {},
   "outputs": [
    {
     "output_type": "execute_result",
     "data": {
      "text/plain": [
       "array([[ 0.70710678, -0.70710678],\n",
       "       [ 0.70710678,  0.70710678]])"
      ]
     },
     "metadata": {},
     "execution_count": 78
    }
   ],
   "source": [
    "np.transpose(m)"
   ]
  },
  {
   "cell_type": "code",
   "execution_count": 79,
   "metadata": {},
   "outputs": [
    {
     "output_type": "execute_result",
     "data": {
      "text/plain": [
       "array([[ 0.70710678, -0.70710678],\n",
       "       [ 0.70710678,  0.70710678]])"
      ]
     },
     "metadata": {},
     "execution_count": 79
    }
   ],
   "source": [
    "np.linalg.inv(m)"
   ]
  },
  {
   "cell_type": "code",
   "execution_count": 80,
   "metadata": {},
   "outputs": [
    {
     "output_type": "execute_result",
     "data": {
      "text/plain": [
       "array([[1., 0.],\n",
       "       [0., 1.]])"
      ]
     },
     "metadata": {},
     "execution_count": 80
    }
   ],
   "source": [
    "np.eye(2)"
   ]
  },
  {
   "cell_type": "code",
   "execution_count": 86,
   "metadata": {},
   "outputs": [],
   "source": [
    "prices = np.array ( [3.99,12.99,5.90,15])\n",
    "quantities = np.array([[0,80,80,100],\n",
    "[100,0,0,0],\n",
    "[50,0,0,50]])"
   ]
  },
  {
   "cell_type": "code",
   "execution_count": null,
   "metadata": {},
   "outputs": [],
   "source": []
  },
  {
   "cell_type": "code",
   "execution_count": 101,
   "metadata": {},
   "outputs": [
    {
     "output_type": "execute_result",
     "data": {
      "text/plain": [
       "(3,)"
      ]
     },
     "metadata": {},
     "execution_count": 101
    }
   ],
   "source": [
    "total = quantities@prices\n",
    "np.shape(total)"
   ]
  },
  {
   "cell_type": "code",
   "execution_count": 100,
   "metadata": {},
   "outputs": [
    {
     "output_type": "execute_result",
     "data": {
      "text/plain": [
       "(3,)"
      ]
     },
     "metadata": {},
     "execution_count": 100
    }
   ],
   "source": [
    "np.shape(prices@quantities.T)\n"
   ]
  },
  {
   "cell_type": "code",
   "execution_count": 96,
   "metadata": {},
   "outputs": [
    {
     "output_type": "execute_result",
     "data": {
      "text/plain": [
       "(4,)"
      ]
     },
     "metadata": {},
     "execution_count": 96
    }
   ],
   "source": [
    "np.shape(prices)"
   ]
  },
  {
   "cell_type": "code",
   "execution_count": 98,
   "metadata": {},
   "outputs": [
    {
     "output_type": "execute_result",
     "data": {
      "text/plain": [
       "(3, 4)"
      ]
     },
     "metadata": {},
     "execution_count": 98
    }
   ],
   "source": [
    "np.shape(quantities)"
   ]
  },
  {
   "cell_type": "code",
   "execution_count": 99,
   "metadata": {},
   "outputs": [
    {
     "output_type": "execute_result",
     "data": {
      "text/plain": [
       "4359.7"
      ]
     },
     "metadata": {},
     "execution_count": 99
    }
   ],
   "source": [
    "np.sum(total)"
   ]
  },
  {
   "cell_type": "code",
   "execution_count": null,
   "metadata": {},
   "outputs": [],
   "source": []
  }
 ]
}