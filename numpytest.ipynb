{
 "metadata": {
  "language_info": {
   "codemirror_mode": {
    "name": "ipython",
    "version": 3
   },
   "file_extension": ".py",
   "mimetype": "text/x-python",
   "name": "python",
   "nbconvert_exporter": "python",
   "pygments_lexer": "ipython3",
   "version": "3.7.4"
  },
  "orig_nbformat": 2,
  "kernelspec": {
   "name": "python374jvsc74a57bd05bb92a85c9a1f15da6b689aacf75061d89825faba8bdf21749792174943e74b5",
   "display_name": "Python 3.7.4 64-bit ('base': conda)"
  }
 },
 "nbformat": 4,
 "nbformat_minor": 2,
 "cells": [
  {
   "cell_type": "code",
   "execution_count": 35,
   "metadata": {},
   "outputs": [],
   "source": [
    "import numpy as np \n"
   ]
  },
  {
   "cell_type": "code",
   "execution_count": 36,
   "metadata": {},
   "outputs": [
    {
     "output_type": "stream",
     "name": "stdout",
     "text": [
      "[[5.1 3.5 1.4 0.2]\n [4.9 3.  1.4 0.2]\n [4.7 3.2 1.3 0.2]\n [4.6 3.1 1.5 0.2]]\n"
     ]
    }
   ],
   "source": [
    "iris = np.array([[5.1, 3.5, 1.4, 0.2],\n",
    "                 [4.9, 3.0, 1.4, 0.2],\n",
    "                 [4.7, 3.2, 1.3, 0.2],\n",
    "                 [4.6, 3.1, 1.5, 0.2]])\n",
    "print(iris)"
   ]
  },
  {
   "cell_type": "code",
   "execution_count": 37,
   "metadata": {},
   "outputs": [
    {
     "output_type": "execute_result",
     "data": {
      "text/plain": [
       "array([5.1, 4.9, 4.7, 4.6])"
      ]
     },
     "metadata": {},
     "execution_count": 37
    }
   ],
   "source": [
    "iris[:,0]"
   ]
  },
  {
   "cell_type": "code",
   "execution_count": 38,
   "metadata": {},
   "outputs": [
    {
     "output_type": "execute_result",
     "data": {
      "text/plain": [
       "array([3.5, 3. , 3.2, 3.1])"
      ]
     },
     "metadata": {},
     "execution_count": 38
    }
   ],
   "source": [
    "iris[:,1]"
   ]
  },
  {
   "cell_type": "code",
   "execution_count": 39,
   "metadata": {},
   "outputs": [
    {
     "output_type": "execute_result",
     "data": {
      "text/plain": [
       "4.824999999999999"
      ]
     },
     "metadata": {},
     "execution_count": 39
    }
   ],
   "source": [
    "iris[:,0].mean()"
   ]
  },
  {
   "cell_type": "code",
   "execution_count": 40,
   "metadata": {},
   "outputs": [
    {
     "output_type": "execute_result",
     "data": {
      "text/plain": [
       "array([1.45714286, 1.63333333, 1.46875   , 1.48387097])"
      ]
     },
     "metadata": {},
     "execution_count": 40
    }
   ],
   "source": [
    "x = iris[:,0]/iris[:,1]\n",
    "x\n"
   ]
  },
  {
   "cell_type": "code",
   "execution_count": 41,
   "metadata": {},
   "outputs": [
    {
     "output_type": "execute_result",
     "data": {
      "text/plain": [
       "array([[5.1, 3.5, 1.4, 0.2],\n",
       "       [4.9, 3. , 1.4, 0.2],\n",
       "       [4.7, 3.2, 1.3, 0.2],\n",
       "       [4.6, 3.1, 1.5, 0.2]])"
      ]
     },
     "metadata": {},
     "execution_count": 41
    }
   ],
   "source": [
    "iris"
   ]
  },
  {
   "cell_type": "code",
   "execution_count": 118,
   "metadata": {},
   "outputs": [],
   "source": [
    "import pandas as pd"
   ]
  },
  {
   "cell_type": "code",
   "execution_count": 43,
   "metadata": {},
   "outputs": [],
   "source": [
    "covid = pd.read_csv(\n",
    "    \"https://public.opendatasoft.com/explore/dataset/covid-19-germany-landkreise/download/?format=csv&timezone=Europe/Berlin&lang=en&use_labels_for_header=true&csv_separator=%3B\",\n",
    "    delimiter=\";\",\n",
    "\n",
    ")"
   ]
  },
  {
   "cell_type": "code",
   "execution_count": 46,
   "metadata": {},
   "outputs": [
    {
     "output_type": "execute_result",
     "data": {
      "text/plain": [
       "                  Last updated                Name  Administrative level  \\\n",
       "0    2021-05-31T02:00:00+02:00       Gelsenkirchen                   4.0   \n",
       "1    2021-05-31T02:00:00+02:00                Unna                   4.0   \n",
       "2    2021-05-31T02:00:00+02:00              Gießen                   4.0   \n",
       "3    2021-05-31T02:00:00+02:00        Südwestpfalz                   4.0   \n",
       "4    2021-05-31T02:00:00+02:00            Mannheim                   4.0   \n",
       "..                         ...                 ...                   ...   \n",
       "407  2021-05-31T02:00:00+02:00          Deggendorf                   4.0   \n",
       "408  2021-05-31T02:00:00+02:00          Oder-Spree                   4.0   \n",
       "409  2021-05-31T02:00:00+02:00         Nordsachsen                   4.0   \n",
       "410  2021-05-31T02:00:00+02:00           Sonneberg                   4.0   \n",
       "411  2021-05-31T02:00:00+02:00  Berlin Lichtenberg                   NaN   \n",
       "\n",
       "     Land factor  Specific domains  Regional code  \\\n",
       "0            4.0               1.0           5513   \n",
       "1            4.0               1.0           5978   \n",
       "2            4.0               1.0           6531   \n",
       "3            4.0               1.0           7340   \n",
       "4            4.0               1.0           8222   \n",
       "..           ...               ...            ...   \n",
       "407          4.0               1.0           9271   \n",
       "408          4.0               1.0          12067   \n",
       "409          4.0               1.0          14730   \n",
       "410          4.0               1.0          16072   \n",
       "411          NaN               NaN          11011   \n",
       "\n",
       "     Regional code of the local authority  Type of division  \\\n",
       "0                            5.513000e+10  Kreisfreie Stadt   \n",
       "1                            5.978004e+10             Kreis   \n",
       "2                            6.531001e+10         Landkreis   \n",
       "3                            7.317000e+10         Landkreis   \n",
       "4                            8.222000e+10        Stadtkreis   \n",
       "..                                    ...               ...   \n",
       "407                          9.271012e+10         Landkreis   \n",
       "408                          1.206700e+11         Landkreis   \n",
       "409                          1.473053e+11         Landkreis   \n",
       "410                          1.607200e+11         Landkreis   \n",
       "411                                   NaN            Bezirk   \n",
       "\n",
       "     Type of division code Name construction indication  ...  recovered  \\\n",
       "0                     40.0                           ja  ...        NaN   \n",
       "1                     42.0                           ja  ...        NaN   \n",
       "2                     43.0                           ja  ...        NaN   \n",
       "3                     43.0                           ja  ...        NaN   \n",
       "4                     41.0                           ja  ...        NaN   \n",
       "..                     ...                          ...  ...        ...   \n",
       "407                   43.0                           ja  ...        NaN   \n",
       "408                   43.0                           ja  ...        NaN   \n",
       "409                   43.0                           ja  ...        NaN   \n",
       "410                   43.0                           ja  ...        NaN   \n",
       "411                    NaN                          NaN  ...        NaN   \n",
       "\n",
       "       EWZ_BL  cases7_bl death7_bl cases7_lk  death7_lk  cases7_p_1 AdmUnitId  \\\n",
       "0    17947221       7207         8       107          0        41,2      5513   \n",
       "1    17947221       7207         8       160          0        40,5      5978   \n",
       "2     6288080       2649         5       107          0        39,5      6531   \n",
       "3     4093903       1301         0        15          0        15,8      7340   \n",
       "4    11100394       4763         7       130          1        41,8      8222   \n",
       "..        ...        ...       ...       ...        ...         ...       ...   \n",
       "407  13124737       4783         7        58          1        48,5      9271   \n",
       "408   2521893        471         2        25          0        14,0     12067   \n",
       "409   4071971       1710         4        51          0        25,8     14730   \n",
       "410   2133378        973         2        46          0        79,7     16072   \n",
       "411   3669491       1195         0        83          0        29,0     11011   \n",
       "\n",
       "     SHAPE_Leng  SHAPE_Area  \n",
       "0      0.666250    0.013646  \n",
       "1      2.379678    0.070377  \n",
       "2      2.566473    0.108542  \n",
       "3      3.342760    0.117750  \n",
       "4      0.749616    0.018012  \n",
       "..          ...         ...  \n",
       "407    2.443770    0.105371  \n",
       "408    4.530207    0.296995  \n",
       "409    4.873388    0.262283  \n",
       "410    1.865825    0.054769  \n",
       "411    0.545924    0.006902  \n",
       "\n",
       "[412 rows x 42 columns]"
      ],
      "text/html": "<div>\n<style scoped>\n    .dataframe tbody tr th:only-of-type {\n        vertical-align: middle;\n    }\n\n    .dataframe tbody tr th {\n        vertical-align: top;\n    }\n\n    .dataframe thead th {\n        text-align: right;\n    }\n</style>\n<table border=\"1\" class=\"dataframe\">\n  <thead>\n    <tr style=\"text-align: right;\">\n      <th></th>\n      <th>Last updated</th>\n      <th>Name</th>\n      <th>Administrative level</th>\n      <th>Land factor</th>\n      <th>Specific domains</th>\n      <th>Regional code</th>\n      <th>Regional code of the local authority</th>\n      <th>Type of division</th>\n      <th>Type of division code</th>\n      <th>Name construction indication</th>\n      <th>...</th>\n      <th>recovered</th>\n      <th>EWZ_BL</th>\n      <th>cases7_bl</th>\n      <th>death7_bl</th>\n      <th>cases7_lk</th>\n      <th>death7_lk</th>\n      <th>cases7_p_1</th>\n      <th>AdmUnitId</th>\n      <th>SHAPE_Leng</th>\n      <th>SHAPE_Area</th>\n    </tr>\n  </thead>\n  <tbody>\n    <tr>\n      <td>0</td>\n      <td>2021-05-31T02:00:00+02:00</td>\n      <td>Gelsenkirchen</td>\n      <td>4.0</td>\n      <td>4.0</td>\n      <td>1.0</td>\n      <td>5513</td>\n      <td>5.513000e+10</td>\n      <td>Kreisfreie Stadt</td>\n      <td>40.0</td>\n      <td>ja</td>\n      <td>...</td>\n      <td>NaN</td>\n      <td>17947221</td>\n      <td>7207</td>\n      <td>8</td>\n      <td>107</td>\n      <td>0</td>\n      <td>41,2</td>\n      <td>5513</td>\n      <td>0.666250</td>\n      <td>0.013646</td>\n    </tr>\n    <tr>\n      <td>1</td>\n      <td>2021-05-31T02:00:00+02:00</td>\n      <td>Unna</td>\n      <td>4.0</td>\n      <td>4.0</td>\n      <td>1.0</td>\n      <td>5978</td>\n      <td>5.978004e+10</td>\n      <td>Kreis</td>\n      <td>42.0</td>\n      <td>ja</td>\n      <td>...</td>\n      <td>NaN</td>\n      <td>17947221</td>\n      <td>7207</td>\n      <td>8</td>\n      <td>160</td>\n      <td>0</td>\n      <td>40,5</td>\n      <td>5978</td>\n      <td>2.379678</td>\n      <td>0.070377</td>\n    </tr>\n    <tr>\n      <td>2</td>\n      <td>2021-05-31T02:00:00+02:00</td>\n      <td>Gießen</td>\n      <td>4.0</td>\n      <td>4.0</td>\n      <td>1.0</td>\n      <td>6531</td>\n      <td>6.531001e+10</td>\n      <td>Landkreis</td>\n      <td>43.0</td>\n      <td>ja</td>\n      <td>...</td>\n      <td>NaN</td>\n      <td>6288080</td>\n      <td>2649</td>\n      <td>5</td>\n      <td>107</td>\n      <td>0</td>\n      <td>39,5</td>\n      <td>6531</td>\n      <td>2.566473</td>\n      <td>0.108542</td>\n    </tr>\n    <tr>\n      <td>3</td>\n      <td>2021-05-31T02:00:00+02:00</td>\n      <td>Südwestpfalz</td>\n      <td>4.0</td>\n      <td>4.0</td>\n      <td>1.0</td>\n      <td>7340</td>\n      <td>7.317000e+10</td>\n      <td>Landkreis</td>\n      <td>43.0</td>\n      <td>ja</td>\n      <td>...</td>\n      <td>NaN</td>\n      <td>4093903</td>\n      <td>1301</td>\n      <td>0</td>\n      <td>15</td>\n      <td>0</td>\n      <td>15,8</td>\n      <td>7340</td>\n      <td>3.342760</td>\n      <td>0.117750</td>\n    </tr>\n    <tr>\n      <td>4</td>\n      <td>2021-05-31T02:00:00+02:00</td>\n      <td>Mannheim</td>\n      <td>4.0</td>\n      <td>4.0</td>\n      <td>1.0</td>\n      <td>8222</td>\n      <td>8.222000e+10</td>\n      <td>Stadtkreis</td>\n      <td>41.0</td>\n      <td>ja</td>\n      <td>...</td>\n      <td>NaN</td>\n      <td>11100394</td>\n      <td>4763</td>\n      <td>7</td>\n      <td>130</td>\n      <td>1</td>\n      <td>41,8</td>\n      <td>8222</td>\n      <td>0.749616</td>\n      <td>0.018012</td>\n    </tr>\n    <tr>\n      <td>...</td>\n      <td>...</td>\n      <td>...</td>\n      <td>...</td>\n      <td>...</td>\n      <td>...</td>\n      <td>...</td>\n      <td>...</td>\n      <td>...</td>\n      <td>...</td>\n      <td>...</td>\n      <td>...</td>\n      <td>...</td>\n      <td>...</td>\n      <td>...</td>\n      <td>...</td>\n      <td>...</td>\n      <td>...</td>\n      <td>...</td>\n      <td>...</td>\n      <td>...</td>\n      <td>...</td>\n    </tr>\n    <tr>\n      <td>407</td>\n      <td>2021-05-31T02:00:00+02:00</td>\n      <td>Deggendorf</td>\n      <td>4.0</td>\n      <td>4.0</td>\n      <td>1.0</td>\n      <td>9271</td>\n      <td>9.271012e+10</td>\n      <td>Landkreis</td>\n      <td>43.0</td>\n      <td>ja</td>\n      <td>...</td>\n      <td>NaN</td>\n      <td>13124737</td>\n      <td>4783</td>\n      <td>7</td>\n      <td>58</td>\n      <td>1</td>\n      <td>48,5</td>\n      <td>9271</td>\n      <td>2.443770</td>\n      <td>0.105371</td>\n    </tr>\n    <tr>\n      <td>408</td>\n      <td>2021-05-31T02:00:00+02:00</td>\n      <td>Oder-Spree</td>\n      <td>4.0</td>\n      <td>4.0</td>\n      <td>1.0</td>\n      <td>12067</td>\n      <td>1.206700e+11</td>\n      <td>Landkreis</td>\n      <td>43.0</td>\n      <td>ja</td>\n      <td>...</td>\n      <td>NaN</td>\n      <td>2521893</td>\n      <td>471</td>\n      <td>2</td>\n      <td>25</td>\n      <td>0</td>\n      <td>14,0</td>\n      <td>12067</td>\n      <td>4.530207</td>\n      <td>0.296995</td>\n    </tr>\n    <tr>\n      <td>409</td>\n      <td>2021-05-31T02:00:00+02:00</td>\n      <td>Nordsachsen</td>\n      <td>4.0</td>\n      <td>4.0</td>\n      <td>1.0</td>\n      <td>14730</td>\n      <td>1.473053e+11</td>\n      <td>Landkreis</td>\n      <td>43.0</td>\n      <td>ja</td>\n      <td>...</td>\n      <td>NaN</td>\n      <td>4071971</td>\n      <td>1710</td>\n      <td>4</td>\n      <td>51</td>\n      <td>0</td>\n      <td>25,8</td>\n      <td>14730</td>\n      <td>4.873388</td>\n      <td>0.262283</td>\n    </tr>\n    <tr>\n      <td>410</td>\n      <td>2021-05-31T02:00:00+02:00</td>\n      <td>Sonneberg</td>\n      <td>4.0</td>\n      <td>4.0</td>\n      <td>1.0</td>\n      <td>16072</td>\n      <td>1.607200e+11</td>\n      <td>Landkreis</td>\n      <td>43.0</td>\n      <td>ja</td>\n      <td>...</td>\n      <td>NaN</td>\n      <td>2133378</td>\n      <td>973</td>\n      <td>2</td>\n      <td>46</td>\n      <td>0</td>\n      <td>79,7</td>\n      <td>16072</td>\n      <td>1.865825</td>\n      <td>0.054769</td>\n    </tr>\n    <tr>\n      <td>411</td>\n      <td>2021-05-31T02:00:00+02:00</td>\n      <td>Berlin Lichtenberg</td>\n      <td>NaN</td>\n      <td>NaN</td>\n      <td>NaN</td>\n      <td>11011</td>\n      <td>NaN</td>\n      <td>Bezirk</td>\n      <td>NaN</td>\n      <td>NaN</td>\n      <td>...</td>\n      <td>NaN</td>\n      <td>3669491</td>\n      <td>1195</td>\n      <td>0</td>\n      <td>83</td>\n      <td>0</td>\n      <td>29,0</td>\n      <td>11011</td>\n      <td>0.545924</td>\n      <td>0.006902</td>\n    </tr>\n  </tbody>\n</table>\n<p>412 rows × 42 columns</p>\n</div>"
     },
     "metadata": {},
     "execution_count": 46
    }
   ],
   "source": [
    "covid"
   ]
  },
  {
   "cell_type": "code",
   "execution_count": 44,
   "metadata": {},
   "outputs": [
    {
     "output_type": "execute_result",
     "data": {
      "text/plain": [
       "0      Nordrhein-Westfalen\n",
       "1      Nordrhein-Westfalen\n",
       "2                   Hessen\n",
       "3          Rheinland-Pfalz\n",
       "4        Baden-Württemberg\n",
       "              ...         \n",
       "407                 Bayern\n",
       "408            Brandenburg\n",
       "409                Sachsen\n",
       "410              Thüringen\n",
       "411                 Berlin\n",
       "Name: Land, Length: 412, dtype: object"
      ]
     },
     "metadata": {},
     "execution_count": 44
    }
   ],
   "source": [
    "covid['Land']"
   ]
  },
  {
   "cell_type": "code",
   "execution_count": 48,
   "metadata": {},
   "outputs": [
    {
     "output_type": "execute_result",
     "data": {
      "text/plain": [
       "count    4.120000e+02\n",
       "mean     2.018609e+05\n",
       "std      1.721899e+05\n",
       "min      3.419300e+04\n",
       "25%      1.053050e+05\n",
       "50%      1.580825e+05\n",
       "75%      2.511148e+05\n",
       "max      1.847253e+06\n",
       "Name: Population, dtype: float64"
      ]
     },
     "metadata": {},
     "execution_count": 48
    }
   ],
   "source": [
    "covid['Population'].describe()"
   ]
  },
  {
   "cell_type": "code",
   "execution_count": 50,
   "metadata": {},
   "outputs": [
    {
     "output_type": "execute_result",
     "data": {
      "text/plain": [
       "201860.9490291262"
      ]
     },
     "metadata": {},
     "execution_count": 50
    }
   ],
   "source": [
    "covid['Population'].mean()"
   ]
  },
  {
   "cell_type": "code",
   "execution_count": 57,
   "metadata": {},
   "outputs": [
    {
     "output_type": "execute_result",
     "data": {
      "text/plain": [
       "172189.90046078694"
      ]
     },
     "metadata": {},
     "execution_count": 57
    }
   ],
   "source": [
    "covid['Population'].std()"
   ]
  },
  {
   "cell_type": "code",
   "execution_count": 54,
   "metadata": {},
   "outputs": [
    {
     "output_type": "execute_result",
     "data": {
      "text/plain": [
       "Bayern                    96\n",
       "Nordrhein-Westfalen       53\n",
       "Niedersachsen             45\n",
       "Baden-Württemberg         44\n",
       "Rheinland-Pfalz           36\n",
       "Hessen                    26\n",
       "Thüringen                 23\n",
       "Brandenburg               18\n",
       "Schleswig-Holstein        15\n",
       "Sachsen-Anhalt            14\n",
       "Sachsen                   13\n",
       "Berlin                    12\n",
       "Mecklenburg-Vorpommern     8\n",
       "Saarland                   6\n",
       "Bremen                     2\n",
       "Hamburg                    1\n",
       "Name: Land, dtype: int64"
      ]
     },
     "metadata": {},
     "execution_count": 54
    }
   ],
   "source": [
    "covid['Land'].value_counts()"
   ]
  },
  {
   "source": [
    "covid[covid['Land'] == 'Hessen']"
   ],
   "cell_type": "code",
   "metadata": {},
   "execution_count": 58,
   "outputs": [
    {
     "output_type": "execute_result",
     "data": {
      "text/plain": [
       "                  Last updated                   Name  Administrative level  \\\n",
       "2    2021-05-31T02:00:00+02:00                 Gießen                   4.0   \n",
       "29   2021-05-31T02:00:00+02:00          Wetteraukreis                   4.0   \n",
       "46   2021-05-31T02:00:00+02:00      Darmstadt-Dieburg                   4.0   \n",
       "72   2021-05-31T02:00:00+02:00     Marburg-Biedenkopf                   4.0   \n",
       "90   2021-05-31T02:00:00+02:00             Bergstraße                   4.0   \n",
       "91   2021-05-31T02:00:00+02:00                  Fulda                   4.0   \n",
       "106  2021-05-31T02:00:00+02:00      Offenbach am Main                   4.0   \n",
       "107  2021-05-31T02:00:00+02:00     Schwalm-Eder-Kreis                   4.0   \n",
       "123  2021-05-31T02:00:00+02:00        Hochtaunuskreis                   4.0   \n",
       "124  2021-05-31T02:00:00+02:00     Hersfeld-Rotenburg                   4.0   \n",
       "125  2021-05-31T02:00:00+02:00                 Kassel                   4.0   \n",
       "150  2021-05-31T02:00:00+02:00                 Kassel                   4.0   \n",
       "167  2021-05-31T02:00:00+02:00       Limburg-Weilburg                   4.0   \n",
       "197  2021-05-31T02:00:00+02:00              Darmstadt                   4.0   \n",
       "198  2021-05-31T02:00:00+02:00        Vogelsbergkreis                   4.0   \n",
       "209  2021-05-31T02:00:00+02:00  Rheingau-Taunus-Kreis                   4.0   \n",
       "226  2021-05-31T02:00:00+02:00              Wiesbaden                   4.0   \n",
       "236  2021-05-31T02:00:00+02:00             Groß-Gerau                   4.0   \n",
       "251  2021-05-31T02:00:00+02:00      Main-Taunus-Kreis                   4.0   \n",
       "252  2021-05-31T02:00:00+02:00          Odenwaldkreis                   4.0   \n",
       "253  2021-05-31T02:00:00+02:00    Werra-Meißner-Kreis                   4.0   \n",
       "314  2021-05-31T02:00:00+02:00      Frankfurt am Main                   4.0   \n",
       "315  2021-05-31T02:00:00+02:00    Waldeck-Frankenberg                   4.0   \n",
       "331  2021-05-31T02:00:00+02:00              Offenbach                   4.0   \n",
       "332  2021-05-31T02:00:00+02:00        Lahn-Dill-Kreis                   4.0   \n",
       "404  2021-05-31T02:00:00+02:00      Main-Kinzig-Kreis                   4.0   \n",
       "\n",
       "     Land factor  Specific domains  Regional code  \\\n",
       "2            4.0               1.0           6531   \n",
       "29           4.0               1.0           6440   \n",
       "46           4.0               1.0           6432   \n",
       "72           4.0               1.0           6534   \n",
       "90           4.0               1.0           6431   \n",
       "91           4.0               1.0           6631   \n",
       "106          4.0               1.0           6413   \n",
       "107          4.0               1.0           6634   \n",
       "123          4.0               1.0           6434   \n",
       "124          4.0               1.0           6632   \n",
       "125          4.0               1.0           6633   \n",
       "150          4.0               1.0           6611   \n",
       "167          4.0               1.0           6533   \n",
       "197          4.0               1.0           6411   \n",
       "198          4.0               1.0           6535   \n",
       "209          4.0               1.0           6439   \n",
       "226          4.0               1.0           6414   \n",
       "236          4.0               1.0           6433   \n",
       "251          4.0               1.0           6436   \n",
       "252          4.0               1.0           6437   \n",
       "253          4.0               1.0           6636   \n",
       "314          4.0               1.0           6412   \n",
       "315          4.0               1.0           6635   \n",
       "331          4.0               1.0           6438   \n",
       "332          4.0               1.0           6532   \n",
       "404          4.0               1.0           6435   \n",
       "\n",
       "     Regional code of the local authority  Type of division  \\\n",
       "2                            6.531001e+10         Landkreis   \n",
       "29                           6.440001e+10         Landkreis   \n",
       "46                           6.411000e+10         Landkreis   \n",
       "72                           6.534001e+10         Landkreis   \n",
       "90                           6.431001e+10         Landkreis   \n",
       "91                           6.631001e+10         Landkreis   \n",
       "106                          6.413000e+10  Kreisfreie Stadt   \n",
       "107                          6.634001e+10         Landkreis   \n",
       "123                          6.434000e+10         Landkreis   \n",
       "124                          6.632000e+10         Landkreis   \n",
       "125                          6.611000e+10         Landkreis   \n",
       "150                          6.611000e+10  Kreisfreie Stadt   \n",
       "167                          6.533001e+10         Landkreis   \n",
       "197                          6.411000e+10  Kreisfreie Stadt   \n",
       "198                          6.535001e+10         Landkreis   \n",
       "209                          6.439000e+10         Landkreis   \n",
       "226                          6.414000e+10  Kreisfreie Stadt   \n",
       "236                          6.433001e+10         Landkreis   \n",
       "251                          6.436001e+10         Landkreis   \n",
       "252                          6.437001e+10         Landkreis   \n",
       "253                          6.636000e+10         Landkreis   \n",
       "314                          6.412000e+10  Kreisfreie Stadt   \n",
       "315                          6.635002e+10         Landkreis   \n",
       "331                          6.438000e+10         Landkreis   \n",
       "332                          6.532002e+10         Landkreis   \n",
       "404                          6.435001e+10         Landkreis   \n",
       "\n",
       "     Type of division code Name construction indication  ...  recovered  \\\n",
       "2                     43.0                           ja  ...        NaN   \n",
       "29                    43.0                         nein  ...        NaN   \n",
       "46                    43.0                           ja  ...        NaN   \n",
       "72                    43.0                           ja  ...        NaN   \n",
       "90                    43.0                           ja  ...        NaN   \n",
       "91                    43.0                           ja  ...        NaN   \n",
       "106                   40.0                           ja  ...        NaN   \n",
       "107                   43.0                         nein  ...        NaN   \n",
       "123                   43.0                         nein  ...        NaN   \n",
       "124                   43.0                           ja  ...        NaN   \n",
       "125                   43.0                           ja  ...        NaN   \n",
       "150                   40.0                           ja  ...        NaN   \n",
       "167                   43.0                           ja  ...        NaN   \n",
       "197                   40.0                           ja  ...        NaN   \n",
       "198                   43.0                         nein  ...        NaN   \n",
       "209                   43.0                         nein  ...        NaN   \n",
       "226                   40.0                           ja  ...        NaN   \n",
       "236                   43.0                           ja  ...        NaN   \n",
       "251                   43.0                         nein  ...        NaN   \n",
       "252                   43.0                         nein  ...        NaN   \n",
       "253                   43.0                         nein  ...        NaN   \n",
       "314                   40.0                           ja  ...        NaN   \n",
       "315                   43.0                           ja  ...        NaN   \n",
       "331                   43.0                           ja  ...        NaN   \n",
       "332                   43.0                         nein  ...        NaN   \n",
       "404                   43.0                         nein  ...        NaN   \n",
       "\n",
       "      EWZ_BL  cases7_bl death7_bl cases7_lk  death7_lk  cases7_p_1 AdmUnitId  \\\n",
       "2    6288080       2649         5       107          0        39,5      6531   \n",
       "29   6288080       2649         5        87          0        28,2      6440   \n",
       "46   6288080       2649         5       101          0        33,9      6432   \n",
       "72   6288080       2649         5       136          0        55,0      6534   \n",
       "90   6288080       2649         5       108          0        39,9      6431   \n",
       "91   6288080       2649         5        43          0        19,3      6631   \n",
       "106  6288080       2649         5        95          0        72,9      6413   \n",
       "107  6288080       2649         5        59          1        32,8      6634   \n",
       "123  6288080       2649         5        76          0        32,1      6434   \n",
       "124  6288080       2649         5        40          0        33,1      6632   \n",
       "125  6288080       2649         5        85          0        35,9      6633   \n",
       "150  6288080       2649         5       121          0        59,9      6611   \n",
       "167  6288080       2649         5        58          0        33,7      6533   \n",
       "197  6288080       2649         5        27          0        16,9      6411   \n",
       "198  6288080       2649         5        28          0        26,5      6535   \n",
       "209  6288080       2649         5       114          0        60,9      6439   \n",
       "226  6288080       2649         5       190          2        68,2      6414   \n",
       "236  6288080       2649         5       174          0        63,1      6433   \n",
       "251  6288080       2649         5        64          0        26,8      6436   \n",
       "252  6288080       2649         5        28          0        29,0      6437   \n",
       "253  6288080       2649         5        35          0        34,8      6636   \n",
       "314  6288080       2649         5       377          0        49,4      6412   \n",
       "315  6288080       2649         5        94          0        60,1      6635   \n",
       "331  6288080       2649         5       152          1        42,7      6438   \n",
       "332  6288080       2649         5        57          1        22,5      6532   \n",
       "404  6288080       2649         5       193          0        45,9      6435   \n",
       "\n",
       "     SHAPE_Leng  SHAPE_Area  \n",
       "2      2.566473    0.108542  \n",
       "29     3.119240    0.139063  \n",
       "46     2.466413    0.082244  \n",
       "72     2.613298    0.161048  \n",
       "90     2.647891    0.089461  \n",
       "91     2.875823    0.175283  \n",
       "106    0.483352    0.005697  \n",
       "107    3.133497    0.197244  \n",
       "123    1.772284    0.060648  \n",
       "124    2.840247    0.140304  \n",
       "125    4.409955    0.167313  \n",
       "150    0.751901    0.013467  \n",
       "167    2.003858    0.093493  \n",
       "197    0.718859    0.015405  \n",
       "198    3.278131    0.185305  \n",
       "209    2.439684    0.102119  \n",
       "226    0.911296    0.025588  \n",
       "236    1.591007    0.056743  \n",
       "251    1.382582    0.027851  \n",
       "252    1.981682    0.077832  \n",
       "253    3.289348    0.131715  \n",
       "314    1.255213    0.031202  \n",
       "315    3.782120    0.237589  \n",
       "331    1.409959    0.044672  \n",
       "332    2.523394    0.135408  \n",
       "404    3.534120    0.176050  \n",
       "\n",
       "[26 rows x 42 columns]"
      ],
      "text/html": "<div>\n<style scoped>\n    .dataframe tbody tr th:only-of-type {\n        vertical-align: middle;\n    }\n\n    .dataframe tbody tr th {\n        vertical-align: top;\n    }\n\n    .dataframe thead th {\n        text-align: right;\n    }\n</style>\n<table border=\"1\" class=\"dataframe\">\n  <thead>\n    <tr style=\"text-align: right;\">\n      <th></th>\n      <th>Last updated</th>\n      <th>Name</th>\n      <th>Administrative level</th>\n      <th>Land factor</th>\n      <th>Specific domains</th>\n      <th>Regional code</th>\n      <th>Regional code of the local authority</th>\n      <th>Type of division</th>\n      <th>Type of division code</th>\n      <th>Name construction indication</th>\n      <th>...</th>\n      <th>recovered</th>\n      <th>EWZ_BL</th>\n      <th>cases7_bl</th>\n      <th>death7_bl</th>\n      <th>cases7_lk</th>\n      <th>death7_lk</th>\n      <th>cases7_p_1</th>\n      <th>AdmUnitId</th>\n      <th>SHAPE_Leng</th>\n      <th>SHAPE_Area</th>\n    </tr>\n  </thead>\n  <tbody>\n    <tr>\n      <td>2</td>\n      <td>2021-05-31T02:00:00+02:00</td>\n      <td>Gießen</td>\n      <td>4.0</td>\n      <td>4.0</td>\n      <td>1.0</td>\n      <td>6531</td>\n      <td>6.531001e+10</td>\n      <td>Landkreis</td>\n      <td>43.0</td>\n      <td>ja</td>\n      <td>...</td>\n      <td>NaN</td>\n      <td>6288080</td>\n      <td>2649</td>\n      <td>5</td>\n      <td>107</td>\n      <td>0</td>\n      <td>39,5</td>\n      <td>6531</td>\n      <td>2.566473</td>\n      <td>0.108542</td>\n    </tr>\n    <tr>\n      <td>29</td>\n      <td>2021-05-31T02:00:00+02:00</td>\n      <td>Wetteraukreis</td>\n      <td>4.0</td>\n      <td>4.0</td>\n      <td>1.0</td>\n      <td>6440</td>\n      <td>6.440001e+10</td>\n      <td>Landkreis</td>\n      <td>43.0</td>\n      <td>nein</td>\n      <td>...</td>\n      <td>NaN</td>\n      <td>6288080</td>\n      <td>2649</td>\n      <td>5</td>\n      <td>87</td>\n      <td>0</td>\n      <td>28,2</td>\n      <td>6440</td>\n      <td>3.119240</td>\n      <td>0.139063</td>\n    </tr>\n    <tr>\n      <td>46</td>\n      <td>2021-05-31T02:00:00+02:00</td>\n      <td>Darmstadt-Dieburg</td>\n      <td>4.0</td>\n      <td>4.0</td>\n      <td>1.0</td>\n      <td>6432</td>\n      <td>6.411000e+10</td>\n      <td>Landkreis</td>\n      <td>43.0</td>\n      <td>ja</td>\n      <td>...</td>\n      <td>NaN</td>\n      <td>6288080</td>\n      <td>2649</td>\n      <td>5</td>\n      <td>101</td>\n      <td>0</td>\n      <td>33,9</td>\n      <td>6432</td>\n      <td>2.466413</td>\n      <td>0.082244</td>\n    </tr>\n    <tr>\n      <td>72</td>\n      <td>2021-05-31T02:00:00+02:00</td>\n      <td>Marburg-Biedenkopf</td>\n      <td>4.0</td>\n      <td>4.0</td>\n      <td>1.0</td>\n      <td>6534</td>\n      <td>6.534001e+10</td>\n      <td>Landkreis</td>\n      <td>43.0</td>\n      <td>ja</td>\n      <td>...</td>\n      <td>NaN</td>\n      <td>6288080</td>\n      <td>2649</td>\n      <td>5</td>\n      <td>136</td>\n      <td>0</td>\n      <td>55,0</td>\n      <td>6534</td>\n      <td>2.613298</td>\n      <td>0.161048</td>\n    </tr>\n    <tr>\n      <td>90</td>\n      <td>2021-05-31T02:00:00+02:00</td>\n      <td>Bergstraße</td>\n      <td>4.0</td>\n      <td>4.0</td>\n      <td>1.0</td>\n      <td>6431</td>\n      <td>6.431001e+10</td>\n      <td>Landkreis</td>\n      <td>43.0</td>\n      <td>ja</td>\n      <td>...</td>\n      <td>NaN</td>\n      <td>6288080</td>\n      <td>2649</td>\n      <td>5</td>\n      <td>108</td>\n      <td>0</td>\n      <td>39,9</td>\n      <td>6431</td>\n      <td>2.647891</td>\n      <td>0.089461</td>\n    </tr>\n    <tr>\n      <td>91</td>\n      <td>2021-05-31T02:00:00+02:00</td>\n      <td>Fulda</td>\n      <td>4.0</td>\n      <td>4.0</td>\n      <td>1.0</td>\n      <td>6631</td>\n      <td>6.631001e+10</td>\n      <td>Landkreis</td>\n      <td>43.0</td>\n      <td>ja</td>\n      <td>...</td>\n      <td>NaN</td>\n      <td>6288080</td>\n      <td>2649</td>\n      <td>5</td>\n      <td>43</td>\n      <td>0</td>\n      <td>19,3</td>\n      <td>6631</td>\n      <td>2.875823</td>\n      <td>0.175283</td>\n    </tr>\n    <tr>\n      <td>106</td>\n      <td>2021-05-31T02:00:00+02:00</td>\n      <td>Offenbach am Main</td>\n      <td>4.0</td>\n      <td>4.0</td>\n      <td>1.0</td>\n      <td>6413</td>\n      <td>6.413000e+10</td>\n      <td>Kreisfreie Stadt</td>\n      <td>40.0</td>\n      <td>ja</td>\n      <td>...</td>\n      <td>NaN</td>\n      <td>6288080</td>\n      <td>2649</td>\n      <td>5</td>\n      <td>95</td>\n      <td>0</td>\n      <td>72,9</td>\n      <td>6413</td>\n      <td>0.483352</td>\n      <td>0.005697</td>\n    </tr>\n    <tr>\n      <td>107</td>\n      <td>2021-05-31T02:00:00+02:00</td>\n      <td>Schwalm-Eder-Kreis</td>\n      <td>4.0</td>\n      <td>4.0</td>\n      <td>1.0</td>\n      <td>6634</td>\n      <td>6.634001e+10</td>\n      <td>Landkreis</td>\n      <td>43.0</td>\n      <td>nein</td>\n      <td>...</td>\n      <td>NaN</td>\n      <td>6288080</td>\n      <td>2649</td>\n      <td>5</td>\n      <td>59</td>\n      <td>1</td>\n      <td>32,8</td>\n      <td>6634</td>\n      <td>3.133497</td>\n      <td>0.197244</td>\n    </tr>\n    <tr>\n      <td>123</td>\n      <td>2021-05-31T02:00:00+02:00</td>\n      <td>Hochtaunuskreis</td>\n      <td>4.0</td>\n      <td>4.0</td>\n      <td>1.0</td>\n      <td>6434</td>\n      <td>6.434000e+10</td>\n      <td>Landkreis</td>\n      <td>43.0</td>\n      <td>nein</td>\n      <td>...</td>\n      <td>NaN</td>\n      <td>6288080</td>\n      <td>2649</td>\n      <td>5</td>\n      <td>76</td>\n      <td>0</td>\n      <td>32,1</td>\n      <td>6434</td>\n      <td>1.772284</td>\n      <td>0.060648</td>\n    </tr>\n    <tr>\n      <td>124</td>\n      <td>2021-05-31T02:00:00+02:00</td>\n      <td>Hersfeld-Rotenburg</td>\n      <td>4.0</td>\n      <td>4.0</td>\n      <td>1.0</td>\n      <td>6632</td>\n      <td>6.632000e+10</td>\n      <td>Landkreis</td>\n      <td>43.0</td>\n      <td>ja</td>\n      <td>...</td>\n      <td>NaN</td>\n      <td>6288080</td>\n      <td>2649</td>\n      <td>5</td>\n      <td>40</td>\n      <td>0</td>\n      <td>33,1</td>\n      <td>6632</td>\n      <td>2.840247</td>\n      <td>0.140304</td>\n    </tr>\n    <tr>\n      <td>125</td>\n      <td>2021-05-31T02:00:00+02:00</td>\n      <td>Kassel</td>\n      <td>4.0</td>\n      <td>4.0</td>\n      <td>1.0</td>\n      <td>6633</td>\n      <td>6.611000e+10</td>\n      <td>Landkreis</td>\n      <td>43.0</td>\n      <td>ja</td>\n      <td>...</td>\n      <td>NaN</td>\n      <td>6288080</td>\n      <td>2649</td>\n      <td>5</td>\n      <td>85</td>\n      <td>0</td>\n      <td>35,9</td>\n      <td>6633</td>\n      <td>4.409955</td>\n      <td>0.167313</td>\n    </tr>\n    <tr>\n      <td>150</td>\n      <td>2021-05-31T02:00:00+02:00</td>\n      <td>Kassel</td>\n      <td>4.0</td>\n      <td>4.0</td>\n      <td>1.0</td>\n      <td>6611</td>\n      <td>6.611000e+10</td>\n      <td>Kreisfreie Stadt</td>\n      <td>40.0</td>\n      <td>ja</td>\n      <td>...</td>\n      <td>NaN</td>\n      <td>6288080</td>\n      <td>2649</td>\n      <td>5</td>\n      <td>121</td>\n      <td>0</td>\n      <td>59,9</td>\n      <td>6611</td>\n      <td>0.751901</td>\n      <td>0.013467</td>\n    </tr>\n    <tr>\n      <td>167</td>\n      <td>2021-05-31T02:00:00+02:00</td>\n      <td>Limburg-Weilburg</td>\n      <td>4.0</td>\n      <td>4.0</td>\n      <td>1.0</td>\n      <td>6533</td>\n      <td>6.533001e+10</td>\n      <td>Landkreis</td>\n      <td>43.0</td>\n      <td>ja</td>\n      <td>...</td>\n      <td>NaN</td>\n      <td>6288080</td>\n      <td>2649</td>\n      <td>5</td>\n      <td>58</td>\n      <td>0</td>\n      <td>33,7</td>\n      <td>6533</td>\n      <td>2.003858</td>\n      <td>0.093493</td>\n    </tr>\n    <tr>\n      <td>197</td>\n      <td>2021-05-31T02:00:00+02:00</td>\n      <td>Darmstadt</td>\n      <td>4.0</td>\n      <td>4.0</td>\n      <td>1.0</td>\n      <td>6411</td>\n      <td>6.411000e+10</td>\n      <td>Kreisfreie Stadt</td>\n      <td>40.0</td>\n      <td>ja</td>\n      <td>...</td>\n      <td>NaN</td>\n      <td>6288080</td>\n      <td>2649</td>\n      <td>5</td>\n      <td>27</td>\n      <td>0</td>\n      <td>16,9</td>\n      <td>6411</td>\n      <td>0.718859</td>\n      <td>0.015405</td>\n    </tr>\n    <tr>\n      <td>198</td>\n      <td>2021-05-31T02:00:00+02:00</td>\n      <td>Vogelsbergkreis</td>\n      <td>4.0</td>\n      <td>4.0</td>\n      <td>1.0</td>\n      <td>6535</td>\n      <td>6.535001e+10</td>\n      <td>Landkreis</td>\n      <td>43.0</td>\n      <td>nein</td>\n      <td>...</td>\n      <td>NaN</td>\n      <td>6288080</td>\n      <td>2649</td>\n      <td>5</td>\n      <td>28</td>\n      <td>0</td>\n      <td>26,5</td>\n      <td>6535</td>\n      <td>3.278131</td>\n      <td>0.185305</td>\n    </tr>\n    <tr>\n      <td>209</td>\n      <td>2021-05-31T02:00:00+02:00</td>\n      <td>Rheingau-Taunus-Kreis</td>\n      <td>4.0</td>\n      <td>4.0</td>\n      <td>1.0</td>\n      <td>6439</td>\n      <td>6.439000e+10</td>\n      <td>Landkreis</td>\n      <td>43.0</td>\n      <td>nein</td>\n      <td>...</td>\n      <td>NaN</td>\n      <td>6288080</td>\n      <td>2649</td>\n      <td>5</td>\n      <td>114</td>\n      <td>0</td>\n      <td>60,9</td>\n      <td>6439</td>\n      <td>2.439684</td>\n      <td>0.102119</td>\n    </tr>\n    <tr>\n      <td>226</td>\n      <td>2021-05-31T02:00:00+02:00</td>\n      <td>Wiesbaden</td>\n      <td>4.0</td>\n      <td>4.0</td>\n      <td>1.0</td>\n      <td>6414</td>\n      <td>6.414000e+10</td>\n      <td>Kreisfreie Stadt</td>\n      <td>40.0</td>\n      <td>ja</td>\n      <td>...</td>\n      <td>NaN</td>\n      <td>6288080</td>\n      <td>2649</td>\n      <td>5</td>\n      <td>190</td>\n      <td>2</td>\n      <td>68,2</td>\n      <td>6414</td>\n      <td>0.911296</td>\n      <td>0.025588</td>\n    </tr>\n    <tr>\n      <td>236</td>\n      <td>2021-05-31T02:00:00+02:00</td>\n      <td>Groß-Gerau</td>\n      <td>4.0</td>\n      <td>4.0</td>\n      <td>1.0</td>\n      <td>6433</td>\n      <td>6.433001e+10</td>\n      <td>Landkreis</td>\n      <td>43.0</td>\n      <td>ja</td>\n      <td>...</td>\n      <td>NaN</td>\n      <td>6288080</td>\n      <td>2649</td>\n      <td>5</td>\n      <td>174</td>\n      <td>0</td>\n      <td>63,1</td>\n      <td>6433</td>\n      <td>1.591007</td>\n      <td>0.056743</td>\n    </tr>\n    <tr>\n      <td>251</td>\n      <td>2021-05-31T02:00:00+02:00</td>\n      <td>Main-Taunus-Kreis</td>\n      <td>4.0</td>\n      <td>4.0</td>\n      <td>1.0</td>\n      <td>6436</td>\n      <td>6.436001e+10</td>\n      <td>Landkreis</td>\n      <td>43.0</td>\n      <td>nein</td>\n      <td>...</td>\n      <td>NaN</td>\n      <td>6288080</td>\n      <td>2649</td>\n      <td>5</td>\n      <td>64</td>\n      <td>0</td>\n      <td>26,8</td>\n      <td>6436</td>\n      <td>1.382582</td>\n      <td>0.027851</td>\n    </tr>\n    <tr>\n      <td>252</td>\n      <td>2021-05-31T02:00:00+02:00</td>\n      <td>Odenwaldkreis</td>\n      <td>4.0</td>\n      <td>4.0</td>\n      <td>1.0</td>\n      <td>6437</td>\n      <td>6.437001e+10</td>\n      <td>Landkreis</td>\n      <td>43.0</td>\n      <td>nein</td>\n      <td>...</td>\n      <td>NaN</td>\n      <td>6288080</td>\n      <td>2649</td>\n      <td>5</td>\n      <td>28</td>\n      <td>0</td>\n      <td>29,0</td>\n      <td>6437</td>\n      <td>1.981682</td>\n      <td>0.077832</td>\n    </tr>\n    <tr>\n      <td>253</td>\n      <td>2021-05-31T02:00:00+02:00</td>\n      <td>Werra-Meißner-Kreis</td>\n      <td>4.0</td>\n      <td>4.0</td>\n      <td>1.0</td>\n      <td>6636</td>\n      <td>6.636000e+10</td>\n      <td>Landkreis</td>\n      <td>43.0</td>\n      <td>nein</td>\n      <td>...</td>\n      <td>NaN</td>\n      <td>6288080</td>\n      <td>2649</td>\n      <td>5</td>\n      <td>35</td>\n      <td>0</td>\n      <td>34,8</td>\n      <td>6636</td>\n      <td>3.289348</td>\n      <td>0.131715</td>\n    </tr>\n    <tr>\n      <td>314</td>\n      <td>2021-05-31T02:00:00+02:00</td>\n      <td>Frankfurt am Main</td>\n      <td>4.0</td>\n      <td>4.0</td>\n      <td>1.0</td>\n      <td>6412</td>\n      <td>6.412000e+10</td>\n      <td>Kreisfreie Stadt</td>\n      <td>40.0</td>\n      <td>ja</td>\n      <td>...</td>\n      <td>NaN</td>\n      <td>6288080</td>\n      <td>2649</td>\n      <td>5</td>\n      <td>377</td>\n      <td>0</td>\n      <td>49,4</td>\n      <td>6412</td>\n      <td>1.255213</td>\n      <td>0.031202</td>\n    </tr>\n    <tr>\n      <td>315</td>\n      <td>2021-05-31T02:00:00+02:00</td>\n      <td>Waldeck-Frankenberg</td>\n      <td>4.0</td>\n      <td>4.0</td>\n      <td>1.0</td>\n      <td>6635</td>\n      <td>6.635002e+10</td>\n      <td>Landkreis</td>\n      <td>43.0</td>\n      <td>ja</td>\n      <td>...</td>\n      <td>NaN</td>\n      <td>6288080</td>\n      <td>2649</td>\n      <td>5</td>\n      <td>94</td>\n      <td>0</td>\n      <td>60,1</td>\n      <td>6635</td>\n      <td>3.782120</td>\n      <td>0.237589</td>\n    </tr>\n    <tr>\n      <td>331</td>\n      <td>2021-05-31T02:00:00+02:00</td>\n      <td>Offenbach</td>\n      <td>4.0</td>\n      <td>4.0</td>\n      <td>1.0</td>\n      <td>6438</td>\n      <td>6.438000e+10</td>\n      <td>Landkreis</td>\n      <td>43.0</td>\n      <td>ja</td>\n      <td>...</td>\n      <td>NaN</td>\n      <td>6288080</td>\n      <td>2649</td>\n      <td>5</td>\n      <td>152</td>\n      <td>1</td>\n      <td>42,7</td>\n      <td>6438</td>\n      <td>1.409959</td>\n      <td>0.044672</td>\n    </tr>\n    <tr>\n      <td>332</td>\n      <td>2021-05-31T02:00:00+02:00</td>\n      <td>Lahn-Dill-Kreis</td>\n      <td>4.0</td>\n      <td>4.0</td>\n      <td>1.0</td>\n      <td>6532</td>\n      <td>6.532002e+10</td>\n      <td>Landkreis</td>\n      <td>43.0</td>\n      <td>nein</td>\n      <td>...</td>\n      <td>NaN</td>\n      <td>6288080</td>\n      <td>2649</td>\n      <td>5</td>\n      <td>57</td>\n      <td>1</td>\n      <td>22,5</td>\n      <td>6532</td>\n      <td>2.523394</td>\n      <td>0.135408</td>\n    </tr>\n    <tr>\n      <td>404</td>\n      <td>2021-05-31T02:00:00+02:00</td>\n      <td>Main-Kinzig-Kreis</td>\n      <td>4.0</td>\n      <td>4.0</td>\n      <td>1.0</td>\n      <td>6435</td>\n      <td>6.435001e+10</td>\n      <td>Landkreis</td>\n      <td>43.0</td>\n      <td>nein</td>\n      <td>...</td>\n      <td>NaN</td>\n      <td>6288080</td>\n      <td>2649</td>\n      <td>5</td>\n      <td>193</td>\n      <td>0</td>\n      <td>45,9</td>\n      <td>6435</td>\n      <td>3.534120</td>\n      <td>0.176050</td>\n    </tr>\n  </tbody>\n</table>\n<p>26 rows × 42 columns</p>\n</div>"
     },
     "metadata": {},
     "execution_count": 58
    }
   ]
  },
  {
   "cell_type": "code",
   "execution_count": 80,
   "metadata": {},
   "outputs": [],
   "source": [
    "covid_ml = pd.DataFrame(\n",
    "    {\n",
    "        'Administrative Level':covid['Administrative level'],\n",
    "        'Land Factor': covid['Land factor'],\n",
    "        'Specific Domains': covid['Specific domains'],\n",
    "        'Regional Codes': covid['Regional code'],\n",
    "        'Type of Division': covid['Type of division'].replace(\n",
    "            {'Landkreis':0, 'Kreisfreie Stadt':1, 'Kreis':2, 'Stadtkreis':3, 'Bezirk':4}\n",
    "        ),\n",
    "        'Type of Division Code': covid['Type of division code'],\n",
    "        'Name Construction Indication': covid['Name construction indication'].replace(\n",
    "            {\n",
    "                'ja':True, 'nein':False\n",
    "            }\n",
    "        ),\n",
    "     \n",
    "        'EWZ_BL': covid['EWZ_BL'],\n",
    "        'cases7_bl': covid['cases7_bl'],\n",
    "        'death7_bl': covid['death7_bl'],\n",
    "        'cases7_lk': covid['cases7_lk'],\n",
    "        'death7_lk': covid['death7_lk'],\n",
    "        'cases7_p_1': covid['cases7_p_1'],\n",
    "        'AdmUnitId' : covid['AdmUnitId'],\n",
    "        'SHAPE_Leng': covid['SHAPE_Leng'],\n",
    "        'SHAPE_Area': covid['SHAPE_Area']\n",
    "\n",
    "    }\n",
    ")"
   ]
  },
  {
   "cell_type": "code",
   "execution_count": 81,
   "metadata": {},
   "outputs": [
    {
     "output_type": "execute_result",
     "data": {
      "text/plain": [
       "     Administrative Level  Land Factor  Specific Domains  Regional Codes  \\\n",
       "0                     4.0          4.0               1.0            5513   \n",
       "1                     4.0          4.0               1.0            5978   \n",
       "2                     4.0          4.0               1.0            6531   \n",
       "3                     4.0          4.0               1.0            7340   \n",
       "4                     4.0          4.0               1.0            8222   \n",
       "..                    ...          ...               ...             ...   \n",
       "407                   4.0          4.0               1.0            9271   \n",
       "408                   4.0          4.0               1.0           12067   \n",
       "409                   4.0          4.0               1.0           14730   \n",
       "410                   4.0          4.0               1.0           16072   \n",
       "411                   NaN          NaN               NaN           11011   \n",
       "\n",
       "     Type of Division  Type of Division Code Name Construction Indication  \\\n",
       "0                   1                   40.0                         True   \n",
       "1                   2                   42.0                         True   \n",
       "2                   0                   43.0                         True   \n",
       "3                   0                   43.0                         True   \n",
       "4                   3                   41.0                         True   \n",
       "..                ...                    ...                          ...   \n",
       "407                 0                   43.0                         True   \n",
       "408                 0                   43.0                         True   \n",
       "409                 0                   43.0                         True   \n",
       "410                 0                   43.0                         True   \n",
       "411                 4                    NaN                          NaN   \n",
       "\n",
       "       EWZ_BL  cases7_bl  death7_bl  cases7_lk  death7_lk cases7_p_1  \\\n",
       "0    17947221       7207          8        107          0       41,2   \n",
       "1    17947221       7207          8        160          0       40,5   \n",
       "2     6288080       2649          5        107          0       39,5   \n",
       "3     4093903       1301          0         15          0       15,8   \n",
       "4    11100394       4763          7        130          1       41,8   \n",
       "..        ...        ...        ...        ...        ...        ...   \n",
       "407  13124737       4783          7         58          1       48,5   \n",
       "408   2521893        471          2         25          0       14,0   \n",
       "409   4071971       1710          4         51          0       25,8   \n",
       "410   2133378        973          2         46          0       79,7   \n",
       "411   3669491       1195          0         83          0       29,0   \n",
       "\n",
       "     AdmUnitId  SHAPE_Leng  SHAPE_Area  \n",
       "0         5513    0.666250    0.013646  \n",
       "1         5978    2.379678    0.070377  \n",
       "2         6531    2.566473    0.108542  \n",
       "3         7340    3.342760    0.117750  \n",
       "4         8222    0.749616    0.018012  \n",
       "..         ...         ...         ...  \n",
       "407       9271    2.443770    0.105371  \n",
       "408      12067    4.530207    0.296995  \n",
       "409      14730    4.873388    0.262283  \n",
       "410      16072    1.865825    0.054769  \n",
       "411      11011    0.545924    0.006902  \n",
       "\n",
       "[412 rows x 16 columns]"
      ],
      "text/html": "<div>\n<style scoped>\n    .dataframe tbody tr th:only-of-type {\n        vertical-align: middle;\n    }\n\n    .dataframe tbody tr th {\n        vertical-align: top;\n    }\n\n    .dataframe thead th {\n        text-align: right;\n    }\n</style>\n<table border=\"1\" class=\"dataframe\">\n  <thead>\n    <tr style=\"text-align: right;\">\n      <th></th>\n      <th>Administrative Level</th>\n      <th>Land Factor</th>\n      <th>Specific Domains</th>\n      <th>Regional Codes</th>\n      <th>Type of Division</th>\n      <th>Type of Division Code</th>\n      <th>Name Construction Indication</th>\n      <th>EWZ_BL</th>\n      <th>cases7_bl</th>\n      <th>death7_bl</th>\n      <th>cases7_lk</th>\n      <th>death7_lk</th>\n      <th>cases7_p_1</th>\n      <th>AdmUnitId</th>\n      <th>SHAPE_Leng</th>\n      <th>SHAPE_Area</th>\n    </tr>\n  </thead>\n  <tbody>\n    <tr>\n      <td>0</td>\n      <td>4.0</td>\n      <td>4.0</td>\n      <td>1.0</td>\n      <td>5513</td>\n      <td>1</td>\n      <td>40.0</td>\n      <td>True</td>\n      <td>17947221</td>\n      <td>7207</td>\n      <td>8</td>\n      <td>107</td>\n      <td>0</td>\n      <td>41,2</td>\n      <td>5513</td>\n      <td>0.666250</td>\n      <td>0.013646</td>\n    </tr>\n    <tr>\n      <td>1</td>\n      <td>4.0</td>\n      <td>4.0</td>\n      <td>1.0</td>\n      <td>5978</td>\n      <td>2</td>\n      <td>42.0</td>\n      <td>True</td>\n      <td>17947221</td>\n      <td>7207</td>\n      <td>8</td>\n      <td>160</td>\n      <td>0</td>\n      <td>40,5</td>\n      <td>5978</td>\n      <td>2.379678</td>\n      <td>0.070377</td>\n    </tr>\n    <tr>\n      <td>2</td>\n      <td>4.0</td>\n      <td>4.0</td>\n      <td>1.0</td>\n      <td>6531</td>\n      <td>0</td>\n      <td>43.0</td>\n      <td>True</td>\n      <td>6288080</td>\n      <td>2649</td>\n      <td>5</td>\n      <td>107</td>\n      <td>0</td>\n      <td>39,5</td>\n      <td>6531</td>\n      <td>2.566473</td>\n      <td>0.108542</td>\n    </tr>\n    <tr>\n      <td>3</td>\n      <td>4.0</td>\n      <td>4.0</td>\n      <td>1.0</td>\n      <td>7340</td>\n      <td>0</td>\n      <td>43.0</td>\n      <td>True</td>\n      <td>4093903</td>\n      <td>1301</td>\n      <td>0</td>\n      <td>15</td>\n      <td>0</td>\n      <td>15,8</td>\n      <td>7340</td>\n      <td>3.342760</td>\n      <td>0.117750</td>\n    </tr>\n    <tr>\n      <td>4</td>\n      <td>4.0</td>\n      <td>4.0</td>\n      <td>1.0</td>\n      <td>8222</td>\n      <td>3</td>\n      <td>41.0</td>\n      <td>True</td>\n      <td>11100394</td>\n      <td>4763</td>\n      <td>7</td>\n      <td>130</td>\n      <td>1</td>\n      <td>41,8</td>\n      <td>8222</td>\n      <td>0.749616</td>\n      <td>0.018012</td>\n    </tr>\n    <tr>\n      <td>...</td>\n      <td>...</td>\n      <td>...</td>\n      <td>...</td>\n      <td>...</td>\n      <td>...</td>\n      <td>...</td>\n      <td>...</td>\n      <td>...</td>\n      <td>...</td>\n      <td>...</td>\n      <td>...</td>\n      <td>...</td>\n      <td>...</td>\n      <td>...</td>\n      <td>...</td>\n      <td>...</td>\n    </tr>\n    <tr>\n      <td>407</td>\n      <td>4.0</td>\n      <td>4.0</td>\n      <td>1.0</td>\n      <td>9271</td>\n      <td>0</td>\n      <td>43.0</td>\n      <td>True</td>\n      <td>13124737</td>\n      <td>4783</td>\n      <td>7</td>\n      <td>58</td>\n      <td>1</td>\n      <td>48,5</td>\n      <td>9271</td>\n      <td>2.443770</td>\n      <td>0.105371</td>\n    </tr>\n    <tr>\n      <td>408</td>\n      <td>4.0</td>\n      <td>4.0</td>\n      <td>1.0</td>\n      <td>12067</td>\n      <td>0</td>\n      <td>43.0</td>\n      <td>True</td>\n      <td>2521893</td>\n      <td>471</td>\n      <td>2</td>\n      <td>25</td>\n      <td>0</td>\n      <td>14,0</td>\n      <td>12067</td>\n      <td>4.530207</td>\n      <td>0.296995</td>\n    </tr>\n    <tr>\n      <td>409</td>\n      <td>4.0</td>\n      <td>4.0</td>\n      <td>1.0</td>\n      <td>14730</td>\n      <td>0</td>\n      <td>43.0</td>\n      <td>True</td>\n      <td>4071971</td>\n      <td>1710</td>\n      <td>4</td>\n      <td>51</td>\n      <td>0</td>\n      <td>25,8</td>\n      <td>14730</td>\n      <td>4.873388</td>\n      <td>0.262283</td>\n    </tr>\n    <tr>\n      <td>410</td>\n      <td>4.0</td>\n      <td>4.0</td>\n      <td>1.0</td>\n      <td>16072</td>\n      <td>0</td>\n      <td>43.0</td>\n      <td>True</td>\n      <td>2133378</td>\n      <td>973</td>\n      <td>2</td>\n      <td>46</td>\n      <td>0</td>\n      <td>79,7</td>\n      <td>16072</td>\n      <td>1.865825</td>\n      <td>0.054769</td>\n    </tr>\n    <tr>\n      <td>411</td>\n      <td>NaN</td>\n      <td>NaN</td>\n      <td>NaN</td>\n      <td>11011</td>\n      <td>4</td>\n      <td>NaN</td>\n      <td>NaN</td>\n      <td>3669491</td>\n      <td>1195</td>\n      <td>0</td>\n      <td>83</td>\n      <td>0</td>\n      <td>29,0</td>\n      <td>11011</td>\n      <td>0.545924</td>\n      <td>0.006902</td>\n    </tr>\n  </tbody>\n</table>\n<p>412 rows × 16 columns</p>\n</div>"
     },
     "metadata": {},
     "execution_count": 81
    }
   ],
   "source": [
    "covid_ml"
   ]
  },
  {
   "cell_type": "code",
   "execution_count": 79,
   "metadata": {},
   "outputs": [
    {
     "output_type": "execute_result",
     "data": {
      "text/plain": [
       "     Administrative Level  Land Factor  Specific Domains  Regional Codes  \\\n",
       "0                     4.0          4.0               1.0            5513   \n",
       "1                     4.0          4.0               1.0            5978   \n",
       "2                     4.0          4.0               1.0            6531   \n",
       "3                     4.0          4.0               1.0            7340   \n",
       "4                     4.0          4.0               1.0            8222   \n",
       "..                    ...          ...               ...             ...   \n",
       "406                   4.0          4.0               1.0            9263   \n",
       "407                   4.0          4.0               1.0            9271   \n",
       "408                   4.0          4.0               1.0           12067   \n",
       "409                   4.0          4.0               1.0           14730   \n",
       "410                   4.0          4.0               1.0           16072   \n",
       "\n",
       "    Type of Division  Type of Division Code Name Construction Indication  \\\n",
       "0                  1                   40.0                         True   \n",
       "1                  2                   42.0                         True   \n",
       "2                  0                   43.0                         True   \n",
       "3                  0                   43.0                         True   \n",
       "4                  3                   41.0                         True   \n",
       "..               ...                    ...                          ...   \n",
       "406                1                   40.0                         True   \n",
       "407                0                   43.0                         True   \n",
       "408                0                   43.0                         True   \n",
       "409                0                   43.0                         True   \n",
       "410                0                   43.0                         True   \n",
       "\n",
       "       EWZ_BL  cases7_bl  death7_bl  cases7_lk  death7_lk cases7_p_1  \\\n",
       "0    17947221       7207          8        107          0       41,2   \n",
       "1    17947221       7207          8        160          0       40,5   \n",
       "2     6288080       2649          5        107          0       39,5   \n",
       "3     4093903       1301          0         15          0       15,8   \n",
       "4    11100394       4763          7        130          1       41,8   \n",
       "..        ...        ...        ...        ...        ...        ...   \n",
       "406  13124737       4783          7         15          0       31,4   \n",
       "407  13124737       4783          7         58          1       48,5   \n",
       "408   2521893        471          2         25          0       14,0   \n",
       "409   4071971       1710          4         51          0       25,8   \n",
       "410   2133378        973          2         46          0       79,7   \n",
       "\n",
       "     AdmUnitId  SHAPE_Leng  SHAPE_Area  \n",
       "0         5513    0.666250    0.013646  \n",
       "1         5978    2.379678    0.070377  \n",
       "2         6531    2.566473    0.108542  \n",
       "3         7340    3.342760    0.117750  \n",
       "4         8222    0.749616    0.018012  \n",
       "..         ...         ...         ...  \n",
       "406       9263    0.639900    0.008292  \n",
       "407       9271    2.443770    0.105371  \n",
       "408      12067    4.530207    0.296995  \n",
       "409      14730    4.873388    0.262283  \n",
       "410      16072    1.865825    0.054769  \n",
       "\n",
       "[400 rows x 16 columns]"
      ],
      "text/html": "<div>\n<style scoped>\n    .dataframe tbody tr th:only-of-type {\n        vertical-align: middle;\n    }\n\n    .dataframe tbody tr th {\n        vertical-align: top;\n    }\n\n    .dataframe thead th {\n        text-align: right;\n    }\n</style>\n<table border=\"1\" class=\"dataframe\">\n  <thead>\n    <tr style=\"text-align: right;\">\n      <th></th>\n      <th>Administrative Level</th>\n      <th>Land Factor</th>\n      <th>Specific Domains</th>\n      <th>Regional Codes</th>\n      <th>Type of Division</th>\n      <th>Type of Division Code</th>\n      <th>Name Construction Indication</th>\n      <th>EWZ_BL</th>\n      <th>cases7_bl</th>\n      <th>death7_bl</th>\n      <th>cases7_lk</th>\n      <th>death7_lk</th>\n      <th>cases7_p_1</th>\n      <th>AdmUnitId</th>\n      <th>SHAPE_Leng</th>\n      <th>SHAPE_Area</th>\n    </tr>\n  </thead>\n  <tbody>\n    <tr>\n      <td>0</td>\n      <td>4.0</td>\n      <td>4.0</td>\n      <td>1.0</td>\n      <td>5513</td>\n      <td>1</td>\n      <td>40.0</td>\n      <td>True</td>\n      <td>17947221</td>\n      <td>7207</td>\n      <td>8</td>\n      <td>107</td>\n      <td>0</td>\n      <td>41,2</td>\n      <td>5513</td>\n      <td>0.666250</td>\n      <td>0.013646</td>\n    </tr>\n    <tr>\n      <td>1</td>\n      <td>4.0</td>\n      <td>4.0</td>\n      <td>1.0</td>\n      <td>5978</td>\n      <td>2</td>\n      <td>42.0</td>\n      <td>True</td>\n      <td>17947221</td>\n      <td>7207</td>\n      <td>8</td>\n      <td>160</td>\n      <td>0</td>\n      <td>40,5</td>\n      <td>5978</td>\n      <td>2.379678</td>\n      <td>0.070377</td>\n    </tr>\n    <tr>\n      <td>2</td>\n      <td>4.0</td>\n      <td>4.0</td>\n      <td>1.0</td>\n      <td>6531</td>\n      <td>0</td>\n      <td>43.0</td>\n      <td>True</td>\n      <td>6288080</td>\n      <td>2649</td>\n      <td>5</td>\n      <td>107</td>\n      <td>0</td>\n      <td>39,5</td>\n      <td>6531</td>\n      <td>2.566473</td>\n      <td>0.108542</td>\n    </tr>\n    <tr>\n      <td>3</td>\n      <td>4.0</td>\n      <td>4.0</td>\n      <td>1.0</td>\n      <td>7340</td>\n      <td>0</td>\n      <td>43.0</td>\n      <td>True</td>\n      <td>4093903</td>\n      <td>1301</td>\n      <td>0</td>\n      <td>15</td>\n      <td>0</td>\n      <td>15,8</td>\n      <td>7340</td>\n      <td>3.342760</td>\n      <td>0.117750</td>\n    </tr>\n    <tr>\n      <td>4</td>\n      <td>4.0</td>\n      <td>4.0</td>\n      <td>1.0</td>\n      <td>8222</td>\n      <td>3</td>\n      <td>41.0</td>\n      <td>True</td>\n      <td>11100394</td>\n      <td>4763</td>\n      <td>7</td>\n      <td>130</td>\n      <td>1</td>\n      <td>41,8</td>\n      <td>8222</td>\n      <td>0.749616</td>\n      <td>0.018012</td>\n    </tr>\n    <tr>\n      <td>...</td>\n      <td>...</td>\n      <td>...</td>\n      <td>...</td>\n      <td>...</td>\n      <td>...</td>\n      <td>...</td>\n      <td>...</td>\n      <td>...</td>\n      <td>...</td>\n      <td>...</td>\n      <td>...</td>\n      <td>...</td>\n      <td>...</td>\n      <td>...</td>\n      <td>...</td>\n      <td>...</td>\n    </tr>\n    <tr>\n      <td>406</td>\n      <td>4.0</td>\n      <td>4.0</td>\n      <td>1.0</td>\n      <td>9263</td>\n      <td>1</td>\n      <td>40.0</td>\n      <td>True</td>\n      <td>13124737</td>\n      <td>4783</td>\n      <td>7</td>\n      <td>15</td>\n      <td>0</td>\n      <td>31,4</td>\n      <td>9263</td>\n      <td>0.639900</td>\n      <td>0.008292</td>\n    </tr>\n    <tr>\n      <td>407</td>\n      <td>4.0</td>\n      <td>4.0</td>\n      <td>1.0</td>\n      <td>9271</td>\n      <td>0</td>\n      <td>43.0</td>\n      <td>True</td>\n      <td>13124737</td>\n      <td>4783</td>\n      <td>7</td>\n      <td>58</td>\n      <td>1</td>\n      <td>48,5</td>\n      <td>9271</td>\n      <td>2.443770</td>\n      <td>0.105371</td>\n    </tr>\n    <tr>\n      <td>408</td>\n      <td>4.0</td>\n      <td>4.0</td>\n      <td>1.0</td>\n      <td>12067</td>\n      <td>0</td>\n      <td>43.0</td>\n      <td>True</td>\n      <td>2521893</td>\n      <td>471</td>\n      <td>2</td>\n      <td>25</td>\n      <td>0</td>\n      <td>14,0</td>\n      <td>12067</td>\n      <td>4.530207</td>\n      <td>0.296995</td>\n    </tr>\n    <tr>\n      <td>409</td>\n      <td>4.0</td>\n      <td>4.0</td>\n      <td>1.0</td>\n      <td>14730</td>\n      <td>0</td>\n      <td>43.0</td>\n      <td>True</td>\n      <td>4071971</td>\n      <td>1710</td>\n      <td>4</td>\n      <td>51</td>\n      <td>0</td>\n      <td>25,8</td>\n      <td>14730</td>\n      <td>4.873388</td>\n      <td>0.262283</td>\n    </tr>\n    <tr>\n      <td>410</td>\n      <td>4.0</td>\n      <td>4.0</td>\n      <td>1.0</td>\n      <td>16072</td>\n      <td>0</td>\n      <td>43.0</td>\n      <td>True</td>\n      <td>2133378</td>\n      <td>973</td>\n      <td>2</td>\n      <td>46</td>\n      <td>0</td>\n      <td>79,7</td>\n      <td>16072</td>\n      <td>1.865825</td>\n      <td>0.054769</td>\n    </tr>\n  </tbody>\n</table>\n<p>400 rows × 16 columns</p>\n</div>"
     },
     "metadata": {},
     "execution_count": 79
    }
   ],
   "source": [
    "covid_ml.dropna()"
   ]
  },
  {
   "cell_type": "code",
   "execution_count": 105,
   "metadata": {},
   "outputs": [],
   "source": [
    "import matplotlib.pyplot as plt"
   ]
  },
  {
   "cell_type": "code",
   "execution_count": 116,
   "metadata": {},
   "outputs": [
    {
     "output_type": "execute_result",
     "data": {
      "text/plain": [
       "([<matplotlib.axis.XTick at 0x7fa87d920650>,\n",
       "  <matplotlib.axis.XTick at 0x7fa87d9cf9d0>,\n",
       "  <matplotlib.axis.XTick at 0x7fa87d9cf890>,\n",
       "  <matplotlib.axis.XTick at 0x7fa87d9ebd50>,\n",
       "  <matplotlib.axis.XTick at 0x7fa87d9516d0>],\n",
       " <a list of 5 Text xticklabel objects>)"
      ]
     },
     "metadata": {},
     "execution_count": 116
    },
    {
     "output_type": "display_data",
     "data": {
      "text/plain": "<Figure size 432x288 with 1 Axes>",
      "image/svg+xml": "<?xml version=\"1.0\" encoding=\"utf-8\" standalone=\"no\"?>\n<!DOCTYPE svg PUBLIC \"-//W3C//DTD SVG 1.1//EN\"\n  \"http://www.w3.org/Graphics/SVG/1.1/DTD/svg11.dtd\">\n<!-- Created with matplotlib (https://matplotlib.org/) -->\n<svg height=\"248.518125pt\" version=\"1.1\" viewBox=\"0 0 375.2875 248.518125\" width=\"375.2875pt\" xmlns=\"http://www.w3.org/2000/svg\" xmlns:xlink=\"http://www.w3.org/1999/xlink\">\n <defs>\n  <style type=\"text/css\">\n*{stroke-linecap:butt;stroke-linejoin:round;}\n  </style>\n </defs>\n <g id=\"figure_1\">\n  <g id=\"patch_1\">\n   <path d=\"M 0 248.518125 \nL 375.2875 248.518125 \nL 375.2875 0 \nL 0 0 \nz\n\" style=\"fill:none;\"/>\n  </g>\n  <g id=\"axes_1\">\n   <g id=\"patch_2\">\n    <path d=\"M 33.2875 224.64 \nL 368.0875 224.64 \nL 368.0875 7.2 \nL 33.2875 7.2 \nz\n\" style=\"fill:#ffffff;\"/>\n   </g>\n   <g id=\"patch_3\">\n    <path clip-path=\"url(#p4fe48393e1)\" d=\"M 48.505682 224.64 \nL 78.942045 224.64 \nL 78.942045 17.554286 \nL 48.505682 17.554286 \nz\n\" style=\"fill:#1f77b4;\"/>\n   </g>\n   <g id=\"patch_4\">\n    <path clip-path=\"url(#p4fe48393e1)\" d=\"M 78.942045 224.64 \nL 109.378409 224.64 \nL 109.378409 144.928435 \nL 78.942045 144.928435 \nz\n\" style=\"fill:#1f77b4;\"/>\n   </g>\n   <g id=\"patch_5\">\n    <path clip-path=\"url(#p4fe48393e1)\" d=\"M 109.378409 224.64 \nL 139.814773 224.64 \nL 139.814773 190.125714 \nL 109.378409 190.125714 \nz\n\" style=\"fill:#1f77b4;\"/>\n   </g>\n   <g id=\"patch_6\">\n    <path clip-path=\"url(#p4fe48393e1)\" d=\"M 139.814773 224.64 \nL 170.251136 224.64 \nL 170.251136 217.244082 \nL 139.814773 217.244082 \nz\n\" style=\"fill:#1f77b4;\"/>\n   </g>\n   <g id=\"patch_7\">\n    <path clip-path=\"url(#p4fe48393e1)\" d=\"M 170.251136 224.64 \nL 200.6875 224.64 \nL 200.6875 214.778776 \nL 170.251136 214.778776 \nz\n\" style=\"fill:#1f77b4;\"/>\n   </g>\n   <g id=\"patch_8\">\n    <path clip-path=\"url(#p4fe48393e1)\" d=\"M 200.6875 224.64 \nL 231.123864 224.64 \nL 231.123864 224.64 \nL 200.6875 224.64 \nz\n\" style=\"fill:#1f77b4;\"/>\n   </g>\n   <g id=\"patch_9\">\n    <path clip-path=\"url(#p4fe48393e1)\" d=\"M 231.123864 224.64 \nL 261.560227 224.64 \nL 261.560227 224.64 \nL 231.123864 224.64 \nz\n\" style=\"fill:#1f77b4;\"/>\n   </g>\n   <g id=\"patch_10\">\n    <path clip-path=\"url(#p4fe48393e1)\" d=\"M 261.560227 224.64 \nL 291.996591 224.64 \nL 291.996591 224.64 \nL 261.560227 224.64 \nz\n\" style=\"fill:#1f77b4;\"/>\n   </g>\n   <g id=\"patch_11\">\n    <path clip-path=\"url(#p4fe48393e1)\" d=\"M 291.996591 224.64 \nL 322.432955 224.64 \nL 322.432955 224.64 \nL 291.996591 224.64 \nz\n\" style=\"fill:#1f77b4;\"/>\n   </g>\n   <g id=\"patch_12\">\n    <path clip-path=\"url(#p4fe48393e1)\" d=\"M 322.432955 224.64 \nL 352.869318 224.64 \nL 352.869318 224.64 \nL 322.432955 224.64 \nz\n\" style=\"fill:#1f77b4;\"/>\n   </g>\n   <g id=\"matplotlib.axis_1\">\n    <g id=\"xtick_1\">\n     <g id=\"line2d_1\">\n      <defs>\n       <path d=\"M 0 0 \nL 0 3.5 \n\" id=\"mce87e3f247\" style=\"stroke:#000000;stroke-width:0.8;\"/>\n      </defs>\n      <g>\n       <use style=\"stroke:#000000;stroke-width:0.8;\" x=\"48.505682\" xlink:href=\"#mce87e3f247\" y=\"224.64\"/>\n      </g>\n     </g>\n     <g id=\"text_1\">\n      <!-- 0 -->\n      <defs>\n       <path d=\"M 31.78125 66.40625 \nQ 24.171875 66.40625 20.328125 58.90625 \nQ 16.5 51.421875 16.5 36.375 \nQ 16.5 21.390625 20.328125 13.890625 \nQ 24.171875 6.390625 31.78125 6.390625 \nQ 39.453125 6.390625 43.28125 13.890625 \nQ 47.125 21.390625 47.125 36.375 \nQ 47.125 51.421875 43.28125 58.90625 \nQ 39.453125 66.40625 31.78125 66.40625 \nz\nM 31.78125 74.21875 \nQ 44.046875 74.21875 50.515625 64.515625 \nQ 56.984375 54.828125 56.984375 36.375 \nQ 56.984375 17.96875 50.515625 8.265625 \nQ 44.046875 -1.421875 31.78125 -1.421875 \nQ 19.53125 -1.421875 13.0625 8.265625 \nQ 6.59375 17.96875 6.59375 36.375 \nQ 6.59375 54.828125 13.0625 64.515625 \nQ 19.53125 74.21875 31.78125 74.21875 \nz\n\" id=\"DejaVuSans-48\"/>\n      </defs>\n      <g transform=\"translate(45.324432 239.238437)scale(0.1 -0.1)\">\n       <use xlink:href=\"#DejaVuSans-48\"/>\n      </g>\n     </g>\n    </g>\n    <g id=\"xtick_2\">\n     <g id=\"line2d_2\">\n      <g>\n       <use style=\"stroke:#000000;stroke-width:0.8;\" x=\"78.942045\" xlink:href=\"#mce87e3f247\" y=\"224.64\"/>\n      </g>\n     </g>\n     <g id=\"text_2\">\n      <!-- 1 -->\n      <defs>\n       <path d=\"M 12.40625 8.296875 \nL 28.515625 8.296875 \nL 28.515625 63.921875 \nL 10.984375 60.40625 \nL 10.984375 69.390625 \nL 28.421875 72.90625 \nL 38.28125 72.90625 \nL 38.28125 8.296875 \nL 54.390625 8.296875 \nL 54.390625 0 \nL 12.40625 0 \nz\n\" id=\"DejaVuSans-49\"/>\n      </defs>\n      <g transform=\"translate(75.760795 239.238437)scale(0.1 -0.1)\">\n       <use xlink:href=\"#DejaVuSans-49\"/>\n      </g>\n     </g>\n    </g>\n    <g id=\"xtick_3\">\n     <g id=\"line2d_3\">\n      <g>\n       <use style=\"stroke:#000000;stroke-width:0.8;\" x=\"109.378409\" xlink:href=\"#mce87e3f247\" y=\"224.64\"/>\n      </g>\n     </g>\n     <g id=\"text_3\">\n      <!-- 2 -->\n      <defs>\n       <path d=\"M 19.1875 8.296875 \nL 53.609375 8.296875 \nL 53.609375 0 \nL 7.328125 0 \nL 7.328125 8.296875 \nQ 12.9375 14.109375 22.625 23.890625 \nQ 32.328125 33.6875 34.8125 36.53125 \nQ 39.546875 41.84375 41.421875 45.53125 \nQ 43.3125 49.21875 43.3125 52.78125 \nQ 43.3125 58.59375 39.234375 62.25 \nQ 35.15625 65.921875 28.609375 65.921875 \nQ 23.96875 65.921875 18.8125 64.3125 \nQ 13.671875 62.703125 7.8125 59.421875 \nL 7.8125 69.390625 \nQ 13.765625 71.78125 18.9375 73 \nQ 24.125 74.21875 28.421875 74.21875 \nQ 39.75 74.21875 46.484375 68.546875 \nQ 53.21875 62.890625 53.21875 53.421875 \nQ 53.21875 48.921875 51.53125 44.890625 \nQ 49.859375 40.875 45.40625 35.40625 \nQ 44.1875 33.984375 37.640625 27.21875 \nQ 31.109375 20.453125 19.1875 8.296875 \nz\n\" id=\"DejaVuSans-50\"/>\n      </defs>\n      <g transform=\"translate(106.197159 239.238437)scale(0.1 -0.1)\">\n       <use xlink:href=\"#DejaVuSans-50\"/>\n      </g>\n     </g>\n    </g>\n    <g id=\"xtick_4\">\n     <g id=\"line2d_4\">\n      <g>\n       <use style=\"stroke:#000000;stroke-width:0.8;\" x=\"139.814773\" xlink:href=\"#mce87e3f247\" y=\"224.64\"/>\n      </g>\n     </g>\n     <g id=\"text_4\">\n      <!-- 3 -->\n      <defs>\n       <path d=\"M 40.578125 39.3125 \nQ 47.65625 37.796875 51.625 33 \nQ 55.609375 28.21875 55.609375 21.1875 \nQ 55.609375 10.40625 48.1875 4.484375 \nQ 40.765625 -1.421875 27.09375 -1.421875 \nQ 22.515625 -1.421875 17.65625 -0.515625 \nQ 12.796875 0.390625 7.625 2.203125 \nL 7.625 11.71875 \nQ 11.71875 9.328125 16.59375 8.109375 \nQ 21.484375 6.890625 26.8125 6.890625 \nQ 36.078125 6.890625 40.9375 10.546875 \nQ 45.796875 14.203125 45.796875 21.1875 \nQ 45.796875 27.640625 41.28125 31.265625 \nQ 36.765625 34.90625 28.71875 34.90625 \nL 20.21875 34.90625 \nL 20.21875 43.015625 \nL 29.109375 43.015625 \nQ 36.375 43.015625 40.234375 45.921875 \nQ 44.09375 48.828125 44.09375 54.296875 \nQ 44.09375 59.90625 40.109375 62.90625 \nQ 36.140625 65.921875 28.71875 65.921875 \nQ 24.65625 65.921875 20.015625 65.03125 \nQ 15.375 64.15625 9.8125 62.3125 \nL 9.8125 71.09375 \nQ 15.4375 72.65625 20.34375 73.4375 \nQ 25.25 74.21875 29.59375 74.21875 \nQ 40.828125 74.21875 47.359375 69.109375 \nQ 53.90625 64.015625 53.90625 55.328125 \nQ 53.90625 49.265625 50.4375 45.09375 \nQ 46.96875 40.921875 40.578125 39.3125 \nz\n\" id=\"DejaVuSans-51\"/>\n      </defs>\n      <g transform=\"translate(136.633523 239.238437)scale(0.1 -0.1)\">\n       <use xlink:href=\"#DejaVuSans-51\"/>\n      </g>\n     </g>\n    </g>\n    <g id=\"xtick_5\">\n     <g id=\"line2d_5\">\n      <g>\n       <use style=\"stroke:#000000;stroke-width:0.8;\" x=\"170.251136\" xlink:href=\"#mce87e3f247\" y=\"224.64\"/>\n      </g>\n     </g>\n     <g id=\"text_5\">\n      <!-- 4 -->\n      <defs>\n       <path d=\"M 37.796875 64.3125 \nL 12.890625 25.390625 \nL 37.796875 25.390625 \nz\nM 35.203125 72.90625 \nL 47.609375 72.90625 \nL 47.609375 25.390625 \nL 58.015625 25.390625 \nL 58.015625 17.1875 \nL 47.609375 17.1875 \nL 47.609375 0 \nL 37.796875 0 \nL 37.796875 17.1875 \nL 4.890625 17.1875 \nL 4.890625 26.703125 \nz\n\" id=\"DejaVuSans-52\"/>\n      </defs>\n      <g transform=\"translate(167.069886 239.238437)scale(0.1 -0.1)\">\n       <use xlink:href=\"#DejaVuSans-52\"/>\n      </g>\n     </g>\n    </g>\n   </g>\n   <g id=\"matplotlib.axis_2\">\n    <g id=\"ytick_1\">\n     <g id=\"line2d_6\">\n      <defs>\n       <path d=\"M 0 0 \nL -3.5 0 \n\" id=\"mf7e3ab690e\" style=\"stroke:#000000;stroke-width:0.8;\"/>\n      </defs>\n      <g>\n       <use style=\"stroke:#000000;stroke-width:0.8;\" x=\"33.2875\" xlink:href=\"#mf7e3ab690e\" y=\"224.64\"/>\n      </g>\n     </g>\n     <g id=\"text_6\">\n      <!-- 0 -->\n      <g transform=\"translate(19.925 228.439219)scale(0.1 -0.1)\">\n       <use xlink:href=\"#DejaVuSans-48\"/>\n      </g>\n     </g>\n    </g>\n    <g id=\"ytick_2\">\n     <g id=\"line2d_7\">\n      <g>\n       <use style=\"stroke:#000000;stroke-width:0.8;\" x=\"33.2875\" xlink:href=\"#mf7e3ab690e\" y=\"183.551565\"/>\n      </g>\n     </g>\n     <g id=\"text_7\">\n      <!-- 50 -->\n      <defs>\n       <path d=\"M 10.796875 72.90625 \nL 49.515625 72.90625 \nL 49.515625 64.59375 \nL 19.828125 64.59375 \nL 19.828125 46.734375 \nQ 21.96875 47.46875 24.109375 47.828125 \nQ 26.265625 48.1875 28.421875 48.1875 \nQ 40.625 48.1875 47.75 41.5 \nQ 54.890625 34.8125 54.890625 23.390625 \nQ 54.890625 11.625 47.5625 5.09375 \nQ 40.234375 -1.421875 26.90625 -1.421875 \nQ 22.3125 -1.421875 17.546875 -0.640625 \nQ 12.796875 0.140625 7.71875 1.703125 \nL 7.71875 11.625 \nQ 12.109375 9.234375 16.796875 8.0625 \nQ 21.484375 6.890625 26.703125 6.890625 \nQ 35.15625 6.890625 40.078125 11.328125 \nQ 45.015625 15.765625 45.015625 23.390625 \nQ 45.015625 31 40.078125 35.4375 \nQ 35.15625 39.890625 26.703125 39.890625 \nQ 22.75 39.890625 18.8125 39.015625 \nQ 14.890625 38.140625 10.796875 36.28125 \nz\n\" id=\"DejaVuSans-53\"/>\n      </defs>\n      <g transform=\"translate(13.5625 187.350783)scale(0.1 -0.1)\">\n       <use xlink:href=\"#DejaVuSans-53\"/>\n       <use x=\"63.623047\" xlink:href=\"#DejaVuSans-48\"/>\n      </g>\n     </g>\n    </g>\n    <g id=\"ytick_3\">\n     <g id=\"line2d_8\">\n      <g>\n       <use style=\"stroke:#000000;stroke-width:0.8;\" x=\"33.2875\" xlink:href=\"#mf7e3ab690e\" y=\"142.463129\"/>\n      </g>\n     </g>\n     <g id=\"text_8\">\n      <!-- 100 -->\n      <g transform=\"translate(7.2 146.262348)scale(0.1 -0.1)\">\n       <use xlink:href=\"#DejaVuSans-49\"/>\n       <use x=\"63.623047\" xlink:href=\"#DejaVuSans-48\"/>\n       <use x=\"127.246094\" xlink:href=\"#DejaVuSans-48\"/>\n      </g>\n     </g>\n    </g>\n    <g id=\"ytick_4\">\n     <g id=\"line2d_9\">\n      <g>\n       <use style=\"stroke:#000000;stroke-width:0.8;\" x=\"33.2875\" xlink:href=\"#mf7e3ab690e\" y=\"101.374694\"/>\n      </g>\n     </g>\n     <g id=\"text_9\">\n      <!-- 150 -->\n      <g transform=\"translate(7.2 105.173913)scale(0.1 -0.1)\">\n       <use xlink:href=\"#DejaVuSans-49\"/>\n       <use x=\"63.623047\" xlink:href=\"#DejaVuSans-53\"/>\n       <use x=\"127.246094\" xlink:href=\"#DejaVuSans-48\"/>\n      </g>\n     </g>\n    </g>\n    <g id=\"ytick_5\">\n     <g id=\"line2d_10\">\n      <g>\n       <use style=\"stroke:#000000;stroke-width:0.8;\" x=\"33.2875\" xlink:href=\"#mf7e3ab690e\" y=\"60.286259\"/>\n      </g>\n     </g>\n     <g id=\"text_10\">\n      <!-- 200 -->\n      <g transform=\"translate(7.2 64.085477)scale(0.1 -0.1)\">\n       <use xlink:href=\"#DejaVuSans-50\"/>\n       <use x=\"63.623047\" xlink:href=\"#DejaVuSans-48\"/>\n       <use x=\"127.246094\" xlink:href=\"#DejaVuSans-48\"/>\n      </g>\n     </g>\n    </g>\n    <g id=\"ytick_6\">\n     <g id=\"line2d_11\">\n      <g>\n       <use style=\"stroke:#000000;stroke-width:0.8;\" x=\"33.2875\" xlink:href=\"#mf7e3ab690e\" y=\"19.197823\"/>\n      </g>\n     </g>\n     <g id=\"text_11\">\n      <!-- 250 -->\n      <g transform=\"translate(7.2 22.997042)scale(0.1 -0.1)\">\n       <use xlink:href=\"#DejaVuSans-50\"/>\n       <use x=\"63.623047\" xlink:href=\"#DejaVuSans-53\"/>\n       <use x=\"127.246094\" xlink:href=\"#DejaVuSans-48\"/>\n      </g>\n     </g>\n    </g>\n   </g>\n   <g id=\"patch_13\">\n    <path d=\"M 33.2875 224.64 \nL 33.2875 7.2 \n\" style=\"fill:none;stroke:#000000;stroke-linecap:square;stroke-linejoin:miter;stroke-width:0.8;\"/>\n   </g>\n   <g id=\"patch_14\">\n    <path d=\"M 368.0875 224.64 \nL 368.0875 7.2 \n\" style=\"fill:none;stroke:#000000;stroke-linecap:square;stroke-linejoin:miter;stroke-width:0.8;\"/>\n   </g>\n   <g id=\"patch_15\">\n    <path d=\"M 33.2875 224.64 \nL 368.0875 224.64 \n\" style=\"fill:none;stroke:#000000;stroke-linecap:square;stroke-linejoin:miter;stroke-width:0.8;\"/>\n   </g>\n   <g id=\"patch_16\">\n    <path d=\"M 33.2875 7.2 \nL 368.0875 7.2 \n\" style=\"fill:none;stroke:#000000;stroke-linecap:square;stroke-linejoin:miter;stroke-width:0.8;\"/>\n   </g>\n  </g>\n </g>\n <defs>\n  <clipPath id=\"p4fe48393e1\">\n   <rect height=\"217.44\" width=\"334.8\" x=\"33.2875\" y=\"7.2\"/>\n  </clipPath>\n </defs>\n</svg>\n",
      "image/png": "[encoded data removed]"
     },
     "metadata": {
      "needs_background": "light"
     }
    }
   ],
   "source": [
    "plt.hist(\n",
    "    covid_ml['Type of Division'],\n",
    "    bins = [0,1,2,3,4,5,6,7,8,9,10],\n",
    "    \n",
    "    \n",
    ")\n",
    "plt.xticks([0,1,2,3,4])"
   ]
  },
  {
   "cell_type": "code",
   "execution_count": 119,
   "metadata": {},
   "outputs": [
    {
     "output_type": "error",
     "ename": "TypeError",
     "evalue": "Cannot interpret '<attribute 'dtype' of 'numpy.generic' objects>' as a data type",
     "traceback": [
      "\u001b[0;31m---------------------------------------------------------------------------\u001b[0m",
      "\u001b[0;31mTypeError\u001b[0m                                 Traceback (most recent call last)",
      "\u001b[0;32m<ipython-input-119-5066aa22ac24>\u001b[0m in \u001b[0;36m<module>\u001b[0;34m\u001b[0m\n\u001b[1;32m      2\u001b[0m     \u001b[0mbins\u001b[0m \u001b[0;34m=\u001b[0m \u001b[0;34m[\u001b[0m\u001b[0;36m0\u001b[0m\u001b[0;34m,\u001b[0m\u001b[0;36m1\u001b[0m\u001b[0;34m,\u001b[0m\u001b[0;36m2\u001b[0m\u001b[0;34m,\u001b[0m\u001b[0;36m3\u001b[0m\u001b[0;34m,\u001b[0m\u001b[0;36m4\u001b[0m\u001b[0;34m]\u001b[0m\u001b[0;34m,\u001b[0m\u001b[0;34m\u001b[0m\u001b[0;34m\u001b[0m\u001b[0m\n\u001b[1;32m      3\u001b[0m     \u001b[0malign\u001b[0m \u001b[0;34m=\u001b[0m \u001b[0;34m'left'\u001b[0m\u001b[0;34m,\u001b[0m\u001b[0;34m\u001b[0m\u001b[0;34m\u001b[0m\u001b[0m\n\u001b[0;32m----> 4\u001b[0;31m     \u001b[0mxticks\u001b[0m \u001b[0;34m=\u001b[0m \u001b[0;34m[\u001b[0m\u001b[0;36m1\u001b[0m\u001b[0;34m,\u001b[0m\u001b[0;36m2\u001b[0m\u001b[0;34m,\u001b[0m\u001b[0;36m3\u001b[0m\u001b[0;34m,\u001b[0m\u001b[0;36m4\u001b[0m\u001b[0;34m,\u001b[0m\u001b[0;36m5\u001b[0m\u001b[0;34m,\u001b[0m\u001b[0;36m6\u001b[0m\u001b[0;34m,\u001b[0m\u001b[0;36m7\u001b[0m\u001b[0;34m,\u001b[0m\u001b[0;36m8\u001b[0m\u001b[0;34m,\u001b[0m\u001b[0;36m9\u001b[0m\u001b[0;34m,\u001b[0m\u001b[0;36m10\u001b[0m\u001b[0;34m]\u001b[0m\u001b[0;34m\u001b[0m\u001b[0;34m\u001b[0m\u001b[0m\n\u001b[0m\u001b[1;32m      5\u001b[0m )\n",
      "\u001b[0;32m~/opt/anaconda3/lib/python3.7/site-packages/pandas/plotting/_core.py\u001b[0m in \u001b[0;36mhist\u001b[0;34m(self, by, bins, **kwargs)\u001b[0m\n\u001b[1;32m   1123\u001b[0m             \u001b[0;34m>>\u001b[0m\u001b[0;34m>\u001b[0m \u001b[0max\u001b[0m \u001b[0;34m=\u001b[0m \u001b[0mdf\u001b[0m\u001b[0;34m.\u001b[0m\u001b[0mplot\u001b[0m\u001b[0;34m.\u001b[0m\u001b[0mhist\u001b[0m\u001b[0;34m(\u001b[0m\u001b[0mbins\u001b[0m\u001b[0;34m=\u001b[0m\u001b[0;36m12\u001b[0m\u001b[0;34m,\u001b[0m \u001b[0malpha\u001b[0m\u001b[0;34m=\u001b[0m\u001b[0;36m0.5\u001b[0m\u001b[0;34m)\u001b[0m\u001b[0;34m\u001b[0m\u001b[0;34m\u001b[0m\u001b[0m\n\u001b[1;32m   1124\u001b[0m         \"\"\"\n\u001b[0;32m-> 1125\u001b[0;31m         \u001b[0;32mreturn\u001b[0m \u001b[0mself\u001b[0m\u001b[0;34m(\u001b[0m\u001b[0mkind\u001b[0m\u001b[0;34m=\u001b[0m\u001b[0;34m\"hist\"\u001b[0m\u001b[0;34m,\u001b[0m \u001b[0mby\u001b[0m\u001b[0;34m=\u001b[0m\u001b[0mby\u001b[0m\u001b[0;34m,\u001b[0m \u001b[0mbins\u001b[0m\u001b[0;34m=\u001b[0m\u001b[0mbins\u001b[0m\u001b[0;34m,\u001b[0m \u001b[0;34m**\u001b[0m\u001b[0mkwargs\u001b[0m\u001b[0;34m)\u001b[0m\u001b[0;34m\u001b[0m\u001b[0;34m\u001b[0m\u001b[0m\n\u001b[0m\u001b[1;32m   1126\u001b[0m \u001b[0;34m\u001b[0m\u001b[0m\n\u001b[1;32m   1127\u001b[0m     \u001b[0;32mdef\u001b[0m \u001b[0mkde\u001b[0m\u001b[0;34m(\u001b[0m\u001b[0mself\u001b[0m\u001b[0;34m,\u001b[0m \u001b[0mbw_method\u001b[0m\u001b[0;34m=\u001b[0m\u001b[0;32mNone\u001b[0m\u001b[0;34m,\u001b[0m \u001b[0mind\u001b[0m\u001b[0;34m=\u001b[0m\u001b[0;32mNone\u001b[0m\u001b[0;34m,\u001b[0m \u001b[0;34m**\u001b[0m\u001b[0mkwargs\u001b[0m\u001b[0;34m)\u001b[0m\u001b[0;34m:\u001b[0m\u001b[0;34m\u001b[0m\u001b[0;34m\u001b[0m\u001b[0m\n",
      "\u001b[0;32m~/opt/anaconda3/lib/python3.7/site-packages/pandas/plotting/_core.py\u001b[0m in \u001b[0;36m__call__\u001b[0;34m(self, *args, **kwargs)\u001b[0m\n\u001b[1;32m    792\u001b[0m                     \u001b[0mdata\u001b[0m\u001b[0;34m.\u001b[0m\u001b[0mcolumns\u001b[0m \u001b[0;34m=\u001b[0m \u001b[0mlabel_name\u001b[0m\u001b[0;34m\u001b[0m\u001b[0;34m\u001b[0m\u001b[0m\n\u001b[1;32m    793\u001b[0m \u001b[0;34m\u001b[0m\u001b[0m\n\u001b[0;32m--> 794\u001b[0;31m         \u001b[0;32mreturn\u001b[0m \u001b[0mplot_backend\u001b[0m\u001b[0;34m.\u001b[0m\u001b[0mplot\u001b[0m\u001b[0;34m(\u001b[0m\u001b[0mdata\u001b[0m\u001b[0;34m,\u001b[0m \u001b[0mkind\u001b[0m\u001b[0;34m=\u001b[0m\u001b[0mkind\u001b[0m\u001b[0;34m,\u001b[0m \u001b[0;34m**\u001b[0m\u001b[0mkwargs\u001b[0m\u001b[0;34m)\u001b[0m\u001b[0;34m\u001b[0m\u001b[0;34m\u001b[0m\u001b[0m\n\u001b[0m\u001b[1;32m    795\u001b[0m \u001b[0;34m\u001b[0m\u001b[0m\n\u001b[1;32m    796\u001b[0m     \u001b[0;32mdef\u001b[0m \u001b[0mline\u001b[0m\u001b[0;34m(\u001b[0m\u001b[0mself\u001b[0m\u001b[0;34m,\u001b[0m \u001b[0mx\u001b[0m\u001b[0;34m=\u001b[0m\u001b[0;32mNone\u001b[0m\u001b[0;34m,\u001b[0m \u001b[0my\u001b[0m\u001b[0;34m=\u001b[0m\u001b[0;32mNone\u001b[0m\u001b[0;34m,\u001b[0m \u001b[0;34m**\u001b[0m\u001b[0mkwargs\u001b[0m\u001b[0;34m)\u001b[0m\u001b[0;34m:\u001b[0m\u001b[0;34m\u001b[0m\u001b[0;34m\u001b[0m\u001b[0m\n",
      "\u001b[0;32m~/opt/anaconda3/lib/python3.7/site-packages/pandas/plotting/_matplotlib/__init__.py\u001b[0m in \u001b[0;36mplot\u001b[0;34m(data, kind, **kwargs)\u001b[0m\n\u001b[1;32m     60\u001b[0m             \u001b[0mkwargs\u001b[0m\u001b[0;34m[\u001b[0m\u001b[0;34m\"ax\"\u001b[0m\u001b[0;34m]\u001b[0m \u001b[0;34m=\u001b[0m \u001b[0mgetattr\u001b[0m\u001b[0;34m(\u001b[0m\u001b[0max\u001b[0m\u001b[0;34m,\u001b[0m \u001b[0;34m\"left_ax\"\u001b[0m\u001b[0;34m,\u001b[0m \u001b[0max\u001b[0m\u001b[0;34m)\u001b[0m\u001b[0;34m\u001b[0m\u001b[0;34m\u001b[0m\u001b[0m\n\u001b[1;32m     61\u001b[0m     \u001b[0mplot_obj\u001b[0m \u001b[0;34m=\u001b[0m \u001b[0mPLOT_CLASSES\u001b[0m\u001b[0;34m[\u001b[0m\u001b[0mkind\u001b[0m\u001b[0;34m]\u001b[0m\u001b[0;34m(\u001b[0m\u001b[0mdata\u001b[0m\u001b[0;34m,\u001b[0m \u001b[0;34m**\u001b[0m\u001b[0mkwargs\u001b[0m\u001b[0;34m)\u001b[0m\u001b[0;34m\u001b[0m\u001b[0;34m\u001b[0m\u001b[0m\n\u001b[0;32m---> 62\u001b[0;31m     \u001b[0mplot_obj\u001b[0m\u001b[0;34m.\u001b[0m\u001b[0mgenerate\u001b[0m\u001b[0;34m(\u001b[0m\u001b[0;34m)\u001b[0m\u001b[0;34m\u001b[0m\u001b[0;34m\u001b[0m\u001b[0m\n\u001b[0m\u001b[1;32m     63\u001b[0m     \u001b[0mplot_obj\u001b[0m\u001b[0;34m.\u001b[0m\u001b[0mdraw\u001b[0m\u001b[0;34m(\u001b[0m\u001b[0;34m)\u001b[0m\u001b[0;34m\u001b[0m\u001b[0;34m\u001b[0m\u001b[0m\n\u001b[1;32m     64\u001b[0m     \u001b[0;32mreturn\u001b[0m \u001b[0mplot_obj\u001b[0m\u001b[0;34m.\u001b[0m\u001b[0mresult\u001b[0m\u001b[0;34m\u001b[0m\u001b[0;34m\u001b[0m\u001b[0m\n",
      "\u001b[0;32m~/opt/anaconda3/lib/python3.7/site-packages/pandas/plotting/_matplotlib/core.py\u001b[0m in \u001b[0;36mgenerate\u001b[0;34m(self)\u001b[0m\n\u001b[1;32m    277\u001b[0m     \u001b[0;32mdef\u001b[0m \u001b[0mgenerate\u001b[0m\u001b[0;34m(\u001b[0m\u001b[0mself\u001b[0m\u001b[0;34m)\u001b[0m\u001b[0;34m:\u001b[0m\u001b[0;34m\u001b[0m\u001b[0;34m\u001b[0m\u001b[0m\n\u001b[1;32m    278\u001b[0m         \u001b[0mself\u001b[0m\u001b[0;34m.\u001b[0m\u001b[0m_args_adjust\u001b[0m\u001b[0;34m(\u001b[0m\u001b[0;34m)\u001b[0m\u001b[0;34m\u001b[0m\u001b[0;34m\u001b[0m\u001b[0m\n\u001b[0;32m--> 279\u001b[0;31m         \u001b[0mself\u001b[0m\u001b[0;34m.\u001b[0m\u001b[0m_compute_plot_data\u001b[0m\u001b[0;34m(\u001b[0m\u001b[0;34m)\u001b[0m\u001b[0;34m\u001b[0m\u001b[0;34m\u001b[0m\u001b[0m\n\u001b[0m\u001b[1;32m    280\u001b[0m         \u001b[0mself\u001b[0m\u001b[0;34m.\u001b[0m\u001b[0m_setup_subplots\u001b[0m\u001b[0;34m(\u001b[0m\u001b[0;34m)\u001b[0m\u001b[0;34m\u001b[0m\u001b[0;34m\u001b[0m\u001b[0m\n\u001b[1;32m    281\u001b[0m         \u001b[0mself\u001b[0m\u001b[0;34m.\u001b[0m\u001b[0m_make_plot\u001b[0m\u001b[0;34m(\u001b[0m\u001b[0;34m)\u001b[0m\u001b[0;34m\u001b[0m\u001b[0;34m\u001b[0m\u001b[0m\n",
      "\u001b[0;32m~/opt/anaconda3/lib/python3.7/site-packages/pandas/plotting/_matplotlib/core.py\u001b[0m in \u001b[0;36m_compute_plot_data\u001b[0;34m(self)\u001b[0m\n\u001b[1;32m    402\u001b[0m         \u001b[0mdata\u001b[0m \u001b[0;34m=\u001b[0m \u001b[0mdata\u001b[0m\u001b[0;34m.\u001b[0m\u001b[0m_convert\u001b[0m\u001b[0;34m(\u001b[0m\u001b[0mdatetime\u001b[0m\u001b[0;34m=\u001b[0m\u001b[0;32mTrue\u001b[0m\u001b[0;34m,\u001b[0m \u001b[0mtimedelta\u001b[0m\u001b[0;34m=\u001b[0m\u001b[0;32mTrue\u001b[0m\u001b[0;34m)\u001b[0m\u001b[0;34m\u001b[0m\u001b[0;34m\u001b[0m\u001b[0m\n\u001b[1;32m    403\u001b[0m         numeric_data = data.select_dtypes(\n\u001b[0;32m--> 404\u001b[0;31m             \u001b[0minclude\u001b[0m\u001b[0;34m=\u001b[0m\u001b[0;34m[\u001b[0m\u001b[0mnp\u001b[0m\u001b[0;34m.\u001b[0m\u001b[0mnumber\u001b[0m\u001b[0;34m,\u001b[0m \u001b[0;34m\"datetime\"\u001b[0m\u001b[0;34m,\u001b[0m \u001b[0;34m\"datetimetz\"\u001b[0m\u001b[0;34m,\u001b[0m \u001b[0;34m\"timedelta\"\u001b[0m\u001b[0;34m]\u001b[0m\u001b[0;34m\u001b[0m\u001b[0;34m\u001b[0m\u001b[0m\n\u001b[0m\u001b[1;32m    405\u001b[0m         )\n\u001b[1;32m    406\u001b[0m \u001b[0;34m\u001b[0m\u001b[0m\n",
      "\u001b[0;32m~/opt/anaconda3/lib/python3.7/site-packages/pandas/core/frame.py\u001b[0m in \u001b[0;36mselect_dtypes\u001b[0;34m(self, include, exclude)\u001b[0m\n\u001b[1;32m   3425\u001b[0m         \u001b[0;31m# the \"union\" of the logic of case 1 and case 2:\u001b[0m\u001b[0;34m\u001b[0m\u001b[0;34m\u001b[0m\u001b[0;34m\u001b[0m\u001b[0m\n\u001b[1;32m   3426\u001b[0m         \u001b[0;31m# we get the included and excluded, and return their logical and\u001b[0m\u001b[0;34m\u001b[0m\u001b[0;34m\u001b[0m\u001b[0;34m\u001b[0m\u001b[0m\n\u001b[0;32m-> 3427\u001b[0;31m         \u001b[0minclude_these\u001b[0m \u001b[0;34m=\u001b[0m \u001b[0mSeries\u001b[0m\u001b[0;34m(\u001b[0m\u001b[0;32mnot\u001b[0m \u001b[0mbool\u001b[0m\u001b[0;34m(\u001b[0m\u001b[0minclude\u001b[0m\u001b[0;34m)\u001b[0m\u001b[0;34m,\u001b[0m \u001b[0mindex\u001b[0m\u001b[0;34m=\u001b[0m\u001b[0mself\u001b[0m\u001b[0;34m.\u001b[0m\u001b[0mcolumns\u001b[0m\u001b[0;34m)\u001b[0m\u001b[0;34m\u001b[0m\u001b[0;34m\u001b[0m\u001b[0m\n\u001b[0m\u001b[1;32m   3428\u001b[0m         \u001b[0mexclude_these\u001b[0m \u001b[0;34m=\u001b[0m \u001b[0mSeries\u001b[0m\u001b[0;34m(\u001b[0m\u001b[0;32mnot\u001b[0m \u001b[0mbool\u001b[0m\u001b[0;34m(\u001b[0m\u001b[0mexclude\u001b[0m\u001b[0;34m)\u001b[0m\u001b[0;34m,\u001b[0m \u001b[0mindex\u001b[0m\u001b[0;34m=\u001b[0m\u001b[0mself\u001b[0m\u001b[0;34m.\u001b[0m\u001b[0mcolumns\u001b[0m\u001b[0;34m)\u001b[0m\u001b[0;34m\u001b[0m\u001b[0;34m\u001b[0m\u001b[0m\n\u001b[1;32m   3429\u001b[0m \u001b[0;34m\u001b[0m\u001b[0m\n",
      "\u001b[0;32m~/opt/anaconda3/lib/python3.7/site-packages/pandas/core/series.py\u001b[0m in \u001b[0;36m__init__\u001b[0;34m(self, data, index, dtype, name, copy, fastpath)\u001b[0m\n\u001b[1;32m    309\u001b[0m                     \u001b[0mdata\u001b[0m \u001b[0;34m=\u001b[0m \u001b[0mdata\u001b[0m\u001b[0;34m.\u001b[0m\u001b[0mcopy\u001b[0m\u001b[0;34m(\u001b[0m\u001b[0;34m)\u001b[0m\u001b[0;34m\u001b[0m\u001b[0;34m\u001b[0m\u001b[0m\n\u001b[1;32m    310\u001b[0m             \u001b[0;32melse\u001b[0m\u001b[0;34m:\u001b[0m\u001b[0;34m\u001b[0m\u001b[0;34m\u001b[0m\u001b[0m\n\u001b[0;32m--> 311\u001b[0;31m                 \u001b[0mdata\u001b[0m \u001b[0;34m=\u001b[0m \u001b[0msanitize_array\u001b[0m\u001b[0;34m(\u001b[0m\u001b[0mdata\u001b[0m\u001b[0;34m,\u001b[0m \u001b[0mindex\u001b[0m\u001b[0;34m,\u001b[0m \u001b[0mdtype\u001b[0m\u001b[0;34m,\u001b[0m \u001b[0mcopy\u001b[0m\u001b[0;34m,\u001b[0m \u001b[0mraise_cast_failure\u001b[0m\u001b[0;34m=\u001b[0m\u001b[0;32mTrue\u001b[0m\u001b[0;34m)\u001b[0m\u001b[0;34m\u001b[0m\u001b[0;34m\u001b[0m\u001b[0m\n\u001b[0m\u001b[1;32m    312\u001b[0m \u001b[0;34m\u001b[0m\u001b[0m\n\u001b[1;32m    313\u001b[0m                 \u001b[0mdata\u001b[0m \u001b[0;34m=\u001b[0m \u001b[0mSingleBlockManager\u001b[0m\u001b[0;34m(\u001b[0m\u001b[0mdata\u001b[0m\u001b[0;34m,\u001b[0m \u001b[0mindex\u001b[0m\u001b[0;34m,\u001b[0m \u001b[0mfastpath\u001b[0m\u001b[0;34m=\u001b[0m\u001b[0;32mTrue\u001b[0m\u001b[0;34m)\u001b[0m\u001b[0;34m\u001b[0m\u001b[0;34m\u001b[0m\u001b[0m\n",
      "\u001b[0;32m~/opt/anaconda3/lib/python3.7/site-packages/pandas/core/internals/construction.py\u001b[0m in \u001b[0;36msanitize_array\u001b[0;34m(data, index, dtype, copy, raise_cast_failure)\u001b[0m\n\u001b[1;32m    710\u001b[0m                 \u001b[0mvalue\u001b[0m \u001b[0;34m=\u001b[0m \u001b[0mmaybe_cast_to_datetime\u001b[0m\u001b[0;34m(\u001b[0m\u001b[0mvalue\u001b[0m\u001b[0;34m,\u001b[0m \u001b[0mdtype\u001b[0m\u001b[0;34m)\u001b[0m\u001b[0;34m\u001b[0m\u001b[0;34m\u001b[0m\u001b[0m\n\u001b[1;32m    711\u001b[0m \u001b[0;34m\u001b[0m\u001b[0m\n\u001b[0;32m--> 712\u001b[0;31m             \u001b[0msubarr\u001b[0m \u001b[0;34m=\u001b[0m \u001b[0mconstruct_1d_arraylike_from_scalar\u001b[0m\u001b[0;34m(\u001b[0m\u001b[0mvalue\u001b[0m\u001b[0;34m,\u001b[0m \u001b[0mlen\u001b[0m\u001b[0;34m(\u001b[0m\u001b[0mindex\u001b[0m\u001b[0;34m)\u001b[0m\u001b[0;34m,\u001b[0m \u001b[0mdtype\u001b[0m\u001b[0;34m)\u001b[0m\u001b[0;34m\u001b[0m\u001b[0;34m\u001b[0m\u001b[0m\n\u001b[0m\u001b[1;32m    713\u001b[0m \u001b[0;34m\u001b[0m\u001b[0m\n\u001b[1;32m    714\u001b[0m         \u001b[0;32melse\u001b[0m\u001b[0;34m:\u001b[0m\u001b[0;34m\u001b[0m\u001b[0;34m\u001b[0m\u001b[0m\n",
      "\u001b[0;32m~/opt/anaconda3/lib/python3.7/site-packages/pandas/core/dtypes/cast.py\u001b[0m in \u001b[0;36mconstruct_1d_arraylike_from_scalar\u001b[0;34m(value, length, dtype)\u001b[0m\n\u001b[1;32m   1231\u001b[0m                 \u001b[0mvalue\u001b[0m \u001b[0;34m=\u001b[0m \u001b[0mensure_str\u001b[0m\u001b[0;34m(\u001b[0m\u001b[0mvalue\u001b[0m\u001b[0;34m)\u001b[0m\u001b[0;34m\u001b[0m\u001b[0;34m\u001b[0m\u001b[0m\n\u001b[1;32m   1232\u001b[0m \u001b[0;34m\u001b[0m\u001b[0m\n\u001b[0;32m-> 1233\u001b[0;31m         \u001b[0msubarr\u001b[0m \u001b[0;34m=\u001b[0m \u001b[0mnp\u001b[0m\u001b[0;34m.\u001b[0m\u001b[0mempty\u001b[0m\u001b[0;34m(\u001b[0m\u001b[0mlength\u001b[0m\u001b[0;34m,\u001b[0m \u001b[0mdtype\u001b[0m\u001b[0;34m=\u001b[0m\u001b[0mdtype\u001b[0m\u001b[0;34m)\u001b[0m\u001b[0;34m\u001b[0m\u001b[0;34m\u001b[0m\u001b[0m\n\u001b[0m\u001b[1;32m   1234\u001b[0m         \u001b[0msubarr\u001b[0m\u001b[0;34m.\u001b[0m\u001b[0mfill\u001b[0m\u001b[0;34m(\u001b[0m\u001b[0mvalue\u001b[0m\u001b[0;34m)\u001b[0m\u001b[0;34m\u001b[0m\u001b[0;34m\u001b[0m\u001b[0m\n\u001b[1;32m   1235\u001b[0m \u001b[0;34m\u001b[0m\u001b[0m\n",
      "\u001b[0;31mTypeError\u001b[0m: Cannot interpret '<attribute 'dtype' of 'numpy.generic' objects>' as a data type"
     ]
    }
   ],
   "source": [
    "covid_ml['Type of Division'].plot.hist(\n",
    "    bins = [0,1,2,3,4],\n",
    "    align = 'left',\n",
    "    xticks = [1,2,3,4,5,6,7,8,9,10]\n",
    ")"
   ]
  },
  {
   "cell_type": "code",
   "execution_count": null,
   "metadata": {},
   "outputs": [],
   "source": []
  },
  {
   "cell_type": "code",
   "execution_count": 133,
   "metadata": {},
   "outputs": [
    {
     "output_type": "execute_result",
     "data": {
      "text/plain": [
       "{'whiskers': [<matplotlib.lines.Line2D at 0x7fa8811cc350>,\n",
       "  <matplotlib.lines.Line2D at 0x7fa8811db250>],\n",
       " 'caps': [<matplotlib.lines.Line2D at 0x7fa8811db750>,\n",
       "  <matplotlib.lines.Line2D at 0x7fa8811d5390>],\n",
       " 'boxes': [<matplotlib.lines.Line2D at 0x7fa8811d5510>],\n",
       " 'medians': [<matplotlib.lines.Line2D at 0x7fa8811e1190>],\n",
       " 'fliers': [<matplotlib.lines.Line2D at 0x7fa8811e16d0>],\n",
       " 'means': []}"
      ]
     },
     "metadata": {},
     "execution_count": 133
    },
    {
     "output_type": "display_data",
     "data": {
      "text/plain": "<Figure size 432x288 with 1 Axes>",
      "image/svg+xml": "<?xml version=\"1.0\" encoding=\"utf-8\" standalone=\"no\"?>\n<!DOCTYPE svg PUBLIC \"-//W3C//DTD SVG 1.1//EN\"\n  \"http://www.w3.org/Graphics/SVG/1.1/DTD/svg11.dtd\">\n<!-- Created with matplotlib (https://matplotlib.org/) -->\n<svg height=\"248.518125pt\" version=\"1.1\" viewBox=\"0 0 372.103125 248.518125\" width=\"372.103125pt\" xmlns=\"http://www.w3.org/2000/svg\" xmlns:xlink=\"http://www.w3.org/1999/xlink\">\n <defs>\n  <style type=\"text/css\">\n*{stroke-linecap:butt;stroke-linejoin:round;}\n  </style>\n </defs>\n <g id=\"figure_1\">\n  <g id=\"patch_1\">\n   <path d=\"M 0 248.518125 \nL 372.103125 248.518125 \nL 372.103125 0 \nL 0 0 \nz\n\" style=\"fill:none;\"/>\n  </g>\n  <g id=\"axes_1\">\n   <g id=\"patch_2\">\n    <path d=\"M 30.103125 224.64 \nL 364.903125 224.64 \nL 364.903125 7.2 \nL 30.103125 7.2 \nz\n\" style=\"fill:#ffffff;\"/>\n   </g>\n   <g id=\"matplotlib.axis_1\">\n    <g id=\"xtick_1\">\n     <g id=\"line2d_1\">\n      <defs>\n       <path d=\"M 0 0 \nL 0 3.5 \n\" id=\"m8ee4af704e\" style=\"stroke:#000000;stroke-width:0.8;\"/>\n      </defs>\n      <g>\n       <use style=\"stroke:#000000;stroke-width:0.8;\" x=\"197.503125\" xlink:href=\"#m8ee4af704e\" y=\"224.64\"/>\n      </g>\n     </g>\n     <g id=\"text_1\">\n      <!-- here -->\n      <defs>\n       <path d=\"M 54.890625 33.015625 \nL 54.890625 0 \nL 45.90625 0 \nL 45.90625 32.71875 \nQ 45.90625 40.484375 42.875 44.328125 \nQ 39.84375 48.1875 33.796875 48.1875 \nQ 26.515625 48.1875 22.3125 43.546875 \nQ 18.109375 38.921875 18.109375 30.90625 \nL 18.109375 0 \nL 9.078125 0 \nL 9.078125 75.984375 \nL 18.109375 75.984375 \nL 18.109375 46.1875 \nQ 21.34375 51.125 25.703125 53.5625 \nQ 30.078125 56 35.796875 56 \nQ 45.21875 56 50.046875 50.171875 \nQ 54.890625 44.34375 54.890625 33.015625 \nz\n\" id=\"DejaVuSans-104\"/>\n       <path d=\"M 56.203125 29.59375 \nL 56.203125 25.203125 \nL 14.890625 25.203125 \nQ 15.484375 15.921875 20.484375 11.0625 \nQ 25.484375 6.203125 34.421875 6.203125 \nQ 39.59375 6.203125 44.453125 7.46875 \nQ 49.3125 8.734375 54.109375 11.28125 \nL 54.109375 2.78125 \nQ 49.265625 0.734375 44.1875 -0.34375 \nQ 39.109375 -1.421875 33.890625 -1.421875 \nQ 20.796875 -1.421875 13.15625 6.1875 \nQ 5.515625 13.8125 5.515625 26.8125 \nQ 5.515625 40.234375 12.765625 48.109375 \nQ 20.015625 56 32.328125 56 \nQ 43.359375 56 49.78125 48.890625 \nQ 56.203125 41.796875 56.203125 29.59375 \nz\nM 47.21875 32.234375 \nQ 47.125 39.59375 43.09375 43.984375 \nQ 39.0625 48.390625 32.421875 48.390625 \nQ 24.90625 48.390625 20.390625 44.140625 \nQ 15.875 39.890625 15.1875 32.171875 \nz\n\" id=\"DejaVuSans-101\"/>\n       <path d=\"M 41.109375 46.296875 \nQ 39.59375 47.171875 37.8125 47.578125 \nQ 36.03125 48 33.890625 48 \nQ 26.265625 48 22.1875 43.046875 \nQ 18.109375 38.09375 18.109375 28.8125 \nL 18.109375 0 \nL 9.078125 0 \nL 9.078125 54.6875 \nL 18.109375 54.6875 \nL 18.109375 46.1875 \nQ 20.953125 51.171875 25.484375 53.578125 \nQ 30.03125 56 36.53125 56 \nQ 37.453125 56 38.578125 55.875 \nQ 39.703125 55.765625 41.0625 55.515625 \nz\n\" id=\"DejaVuSans-114\"/>\n      </defs>\n      <g transform=\"translate(186.127344 239.238437)scale(0.1 -0.1)\">\n       <use xlink:href=\"#DejaVuSans-104\"/>\n       <use x=\"63.378906\" xlink:href=\"#DejaVuSans-101\"/>\n       <use x=\"124.902344\" xlink:href=\"#DejaVuSans-114\"/>\n       <use x=\"165.984375\" xlink:href=\"#DejaVuSans-101\"/>\n      </g>\n     </g>\n    </g>\n   </g>\n   <g id=\"matplotlib.axis_2\">\n    <g id=\"ytick_1\">\n     <g id=\"line2d_2\">\n      <defs>\n       <path d=\"M 0 0 \nL -3.5 0 \n\" id=\"mffa11ddb16\" style=\"stroke:#000000;stroke-width:0.8;\"/>\n      </defs>\n      <g>\n       <use style=\"stroke:#000000;stroke-width:0.8;\" x=\"30.103125\" xlink:href=\"#mffa11ddb16\" y=\"214.756364\"/>\n      </g>\n     </g>\n     <g id=\"text_2\">\n      <!-- 0.0 -->\n      <defs>\n       <path d=\"M 31.78125 66.40625 \nQ 24.171875 66.40625 20.328125 58.90625 \nQ 16.5 51.421875 16.5 36.375 \nQ 16.5 21.390625 20.328125 13.890625 \nQ 24.171875 6.390625 31.78125 6.390625 \nQ 39.453125 6.390625 43.28125 13.890625 \nQ 47.125 21.390625 47.125 36.375 \nQ 47.125 51.421875 43.28125 58.90625 \nQ 39.453125 66.40625 31.78125 66.40625 \nz\nM 31.78125 74.21875 \nQ 44.046875 74.21875 50.515625 64.515625 \nQ 56.984375 54.828125 56.984375 36.375 \nQ 56.984375 17.96875 50.515625 8.265625 \nQ 44.046875 -1.421875 31.78125 -1.421875 \nQ 19.53125 -1.421875 13.0625 8.265625 \nQ 6.59375 17.96875 6.59375 36.375 \nQ 6.59375 54.828125 13.0625 64.515625 \nQ 19.53125 74.21875 31.78125 74.21875 \nz\n\" id=\"DejaVuSans-48\"/>\n       <path d=\"M 10.6875 12.40625 \nL 21 12.40625 \nL 21 0 \nL 10.6875 0 \nz\n\" id=\"DejaVuSans-46\"/>\n      </defs>\n      <g transform=\"translate(7.2 218.555582)scale(0.1 -0.1)\">\n       <use xlink:href=\"#DejaVuSans-48\"/>\n       <use x=\"63.623047\" xlink:href=\"#DejaVuSans-46\"/>\n       <use x=\"95.410156\" xlink:href=\"#DejaVuSans-48\"/>\n      </g>\n     </g>\n    </g>\n    <g id=\"ytick_2\">\n     <g id=\"line2d_3\">\n      <g>\n       <use style=\"stroke:#000000;stroke-width:0.8;\" x=\"30.103125\" xlink:href=\"#mffa11ddb16\" y=\"190.047273\"/>\n      </g>\n     </g>\n     <g id=\"text_3\">\n      <!-- 0.5 -->\n      <defs>\n       <path d=\"M 10.796875 72.90625 \nL 49.515625 72.90625 \nL 49.515625 64.59375 \nL 19.828125 64.59375 \nL 19.828125 46.734375 \nQ 21.96875 47.46875 24.109375 47.828125 \nQ 26.265625 48.1875 28.421875 48.1875 \nQ 40.625 48.1875 47.75 41.5 \nQ 54.890625 34.8125 54.890625 23.390625 \nQ 54.890625 11.625 47.5625 5.09375 \nQ 40.234375 -1.421875 26.90625 -1.421875 \nQ 22.3125 -1.421875 17.546875 -0.640625 \nQ 12.796875 0.140625 7.71875 1.703125 \nL 7.71875 11.625 \nQ 12.109375 9.234375 16.796875 8.0625 \nQ 21.484375 6.890625 26.703125 6.890625 \nQ 35.15625 6.890625 40.078125 11.328125 \nQ 45.015625 15.765625 45.015625 23.390625 \nQ 45.015625 31 40.078125 35.4375 \nQ 35.15625 39.890625 26.703125 39.890625 \nQ 22.75 39.890625 18.8125 39.015625 \nQ 14.890625 38.140625 10.796875 36.28125 \nz\n\" id=\"DejaVuSans-53\"/>\n      </defs>\n      <g transform=\"translate(7.2 193.846491)scale(0.1 -0.1)\">\n       <use xlink:href=\"#DejaVuSans-48\"/>\n       <use x=\"63.623047\" xlink:href=\"#DejaVuSans-46\"/>\n       <use x=\"95.410156\" xlink:href=\"#DejaVuSans-53\"/>\n      </g>\n     </g>\n    </g>\n    <g id=\"ytick_3\">\n     <g id=\"line2d_4\">\n      <g>\n       <use style=\"stroke:#000000;stroke-width:0.8;\" x=\"30.103125\" xlink:href=\"#mffa11ddb16\" y=\"165.338182\"/>\n      </g>\n     </g>\n     <g id=\"text_4\">\n      <!-- 1.0 -->\n      <defs>\n       <path d=\"M 12.40625 8.296875 \nL 28.515625 8.296875 \nL 28.515625 63.921875 \nL 10.984375 60.40625 \nL 10.984375 69.390625 \nL 28.421875 72.90625 \nL 38.28125 72.90625 \nL 38.28125 8.296875 \nL 54.390625 8.296875 \nL 54.390625 0 \nL 12.40625 0 \nz\n\" id=\"DejaVuSans-49\"/>\n      </defs>\n      <g transform=\"translate(7.2 169.137401)scale(0.1 -0.1)\">\n       <use xlink:href=\"#DejaVuSans-49\"/>\n       <use x=\"63.623047\" xlink:href=\"#DejaVuSans-46\"/>\n       <use x=\"95.410156\" xlink:href=\"#DejaVuSans-48\"/>\n      </g>\n     </g>\n    </g>\n    <g id=\"ytick_4\">\n     <g id=\"line2d_5\">\n      <g>\n       <use style=\"stroke:#000000;stroke-width:0.8;\" x=\"30.103125\" xlink:href=\"#mffa11ddb16\" y=\"140.629091\"/>\n      </g>\n     </g>\n     <g id=\"text_5\">\n      <!-- 1.5 -->\n      <g transform=\"translate(7.2 144.42831)scale(0.1 -0.1)\">\n       <use xlink:href=\"#DejaVuSans-49\"/>\n       <use x=\"63.623047\" xlink:href=\"#DejaVuSans-46\"/>\n       <use x=\"95.410156\" xlink:href=\"#DejaVuSans-53\"/>\n      </g>\n     </g>\n    </g>\n    <g id=\"ytick_5\">\n     <g id=\"line2d_6\">\n      <g>\n       <use style=\"stroke:#000000;stroke-width:0.8;\" x=\"30.103125\" xlink:href=\"#mffa11ddb16\" y=\"115.92\"/>\n      </g>\n     </g>\n     <g id=\"text_6\">\n      <!-- 2.0 -->\n      <defs>\n       <path d=\"M 19.1875 8.296875 \nL 53.609375 8.296875 \nL 53.609375 0 \nL 7.328125 0 \nL 7.328125 8.296875 \nQ 12.9375 14.109375 22.625 23.890625 \nQ 32.328125 33.6875 34.8125 36.53125 \nQ 39.546875 41.84375 41.421875 45.53125 \nQ 43.3125 49.21875 43.3125 52.78125 \nQ 43.3125 58.59375 39.234375 62.25 \nQ 35.15625 65.921875 28.609375 65.921875 \nQ 23.96875 65.921875 18.8125 64.3125 \nQ 13.671875 62.703125 7.8125 59.421875 \nL 7.8125 69.390625 \nQ 13.765625 71.78125 18.9375 73 \nQ 24.125 74.21875 28.421875 74.21875 \nQ 39.75 74.21875 46.484375 68.546875 \nQ 53.21875 62.890625 53.21875 53.421875 \nQ 53.21875 48.921875 51.53125 44.890625 \nQ 49.859375 40.875 45.40625 35.40625 \nQ 44.1875 33.984375 37.640625 27.21875 \nQ 31.109375 20.453125 19.1875 8.296875 \nz\n\" id=\"DejaVuSans-50\"/>\n      </defs>\n      <g transform=\"translate(7.2 119.719219)scale(0.1 -0.1)\">\n       <use xlink:href=\"#DejaVuSans-50\"/>\n       <use x=\"63.623047\" xlink:href=\"#DejaVuSans-46\"/>\n       <use x=\"95.410156\" xlink:href=\"#DejaVuSans-48\"/>\n      </g>\n     </g>\n    </g>\n    <g id=\"ytick_6\">\n     <g id=\"line2d_7\">\n      <g>\n       <use style=\"stroke:#000000;stroke-width:0.8;\" x=\"30.103125\" xlink:href=\"#mffa11ddb16\" y=\"91.210909\"/>\n      </g>\n     </g>\n     <g id=\"text_7\">\n      <!-- 2.5 -->\n      <g transform=\"translate(7.2 95.010128)scale(0.1 -0.1)\">\n       <use xlink:href=\"#DejaVuSans-50\"/>\n       <use x=\"63.623047\" xlink:href=\"#DejaVuSans-46\"/>\n       <use x=\"95.410156\" xlink:href=\"#DejaVuSans-53\"/>\n      </g>\n     </g>\n    </g>\n    <g id=\"ytick_7\">\n     <g id=\"line2d_8\">\n      <g>\n       <use style=\"stroke:#000000;stroke-width:0.8;\" x=\"30.103125\" xlink:href=\"#mffa11ddb16\" y=\"66.501818\"/>\n      </g>\n     </g>\n     <g id=\"text_8\">\n      <!-- 3.0 -->\n      <defs>\n       <path d=\"M 40.578125 39.3125 \nQ 47.65625 37.796875 51.625 33 \nQ 55.609375 28.21875 55.609375 21.1875 \nQ 55.609375 10.40625 48.1875 4.484375 \nQ 40.765625 -1.421875 27.09375 -1.421875 \nQ 22.515625 -1.421875 17.65625 -0.515625 \nQ 12.796875 0.390625 7.625 2.203125 \nL 7.625 11.71875 \nQ 11.71875 9.328125 16.59375 8.109375 \nQ 21.484375 6.890625 26.8125 6.890625 \nQ 36.078125 6.890625 40.9375 10.546875 \nQ 45.796875 14.203125 45.796875 21.1875 \nQ 45.796875 27.640625 41.28125 31.265625 \nQ 36.765625 34.90625 28.71875 34.90625 \nL 20.21875 34.90625 \nL 20.21875 43.015625 \nL 29.109375 43.015625 \nQ 36.375 43.015625 40.234375 45.921875 \nQ 44.09375 48.828125 44.09375 54.296875 \nQ 44.09375 59.90625 40.109375 62.90625 \nQ 36.140625 65.921875 28.71875 65.921875 \nQ 24.65625 65.921875 20.015625 65.03125 \nQ 15.375 64.15625 9.8125 62.3125 \nL 9.8125 71.09375 \nQ 15.4375 72.65625 20.34375 73.4375 \nQ 25.25 74.21875 29.59375 74.21875 \nQ 40.828125 74.21875 47.359375 69.109375 \nQ 53.90625 64.015625 53.90625 55.328125 \nQ 53.90625 49.265625 50.4375 45.09375 \nQ 46.96875 40.921875 40.578125 39.3125 \nz\n\" id=\"DejaVuSans-51\"/>\n      </defs>\n      <g transform=\"translate(7.2 70.301037)scale(0.1 -0.1)\">\n       <use xlink:href=\"#DejaVuSans-51\"/>\n       <use x=\"63.623047\" xlink:href=\"#DejaVuSans-46\"/>\n       <use x=\"95.410156\" xlink:href=\"#DejaVuSans-48\"/>\n      </g>\n     </g>\n    </g>\n    <g id=\"ytick_8\">\n     <g id=\"line2d_9\">\n      <g>\n       <use style=\"stroke:#000000;stroke-width:0.8;\" x=\"30.103125\" xlink:href=\"#mffa11ddb16\" y=\"41.792727\"/>\n      </g>\n     </g>\n     <g id=\"text_9\">\n      <!-- 3.5 -->\n      <g transform=\"translate(7.2 45.591946)scale(0.1 -0.1)\">\n       <use xlink:href=\"#DejaVuSans-51\"/>\n       <use x=\"63.623047\" xlink:href=\"#DejaVuSans-46\"/>\n       <use x=\"95.410156\" xlink:href=\"#DejaVuSans-53\"/>\n      </g>\n     </g>\n    </g>\n    <g id=\"ytick_9\">\n     <g id=\"line2d_10\">\n      <g>\n       <use style=\"stroke:#000000;stroke-width:0.8;\" x=\"30.103125\" xlink:href=\"#mffa11ddb16\" y=\"17.083636\"/>\n      </g>\n     </g>\n     <g id=\"text_10\">\n      <!-- 4.0 -->\n      <defs>\n       <path d=\"M 37.796875 64.3125 \nL 12.890625 25.390625 \nL 37.796875 25.390625 \nz\nM 35.203125 72.90625 \nL 47.609375 72.90625 \nL 47.609375 25.390625 \nL 58.015625 25.390625 \nL 58.015625 17.1875 \nL 47.609375 17.1875 \nL 47.609375 0 \nL 37.796875 0 \nL 37.796875 17.1875 \nL 4.890625 17.1875 \nL 4.890625 26.703125 \nz\n\" id=\"DejaVuSans-52\"/>\n      </defs>\n      <g transform=\"translate(7.2 20.882855)scale(0.1 -0.1)\">\n       <use xlink:href=\"#DejaVuSans-52\"/>\n       <use x=\"63.623047\" xlink:href=\"#DejaVuSans-46\"/>\n       <use x=\"95.410156\" xlink:href=\"#DejaVuSans-48\"/>\n      </g>\n     </g>\n    </g>\n   </g>\n   <g id=\"line2d_11\">\n    <path clip-path=\"url(#p0500d6535c)\" d=\"M 172.393125 214.756364 \nL 222.613125 214.756364 \nL 222.613125 165.338182 \nL 172.393125 165.338182 \nL 172.393125 214.756364 \n\" style=\"fill:none;stroke:#000000;stroke-linecap:square;\"/>\n   </g>\n   <g id=\"line2d_12\">\n    <path clip-path=\"url(#p0500d6535c)\" d=\"M 197.503125 214.756364 \nL 197.503125 214.756364 \n\" style=\"fill:none;stroke:#000000;stroke-linecap:square;\"/>\n   </g>\n   <g id=\"line2d_13\">\n    <path clip-path=\"url(#p0500d6535c)\" d=\"M 197.503125 165.338182 \nL 197.503125 165.338182 \n\" style=\"fill:none;stroke:#000000;stroke-linecap:square;\"/>\n   </g>\n   <g id=\"line2d_14\">\n    <path clip-path=\"url(#p0500d6535c)\" d=\"M 184.948125 214.756364 \nL 210.058125 214.756364 \n\" style=\"fill:none;stroke:#000000;stroke-linecap:square;\"/>\n   </g>\n   <g id=\"line2d_15\">\n    <path clip-path=\"url(#p0500d6535c)\" d=\"M 184.948125 165.338182 \nL 210.058125 165.338182 \n\" style=\"fill:none;stroke:#000000;stroke-linecap:square;\"/>\n   </g>\n   <g id=\"line2d_16\">\n    <defs>\n     <path d=\"M 0 3 \nC 0.795609 3 1.55874 2.683901 2.12132 2.12132 \nC 2.683901 1.55874 3 0.795609 3 0 \nC 3 -0.795609 2.683901 -1.55874 2.12132 -2.12132 \nC 1.55874 -2.683901 0.795609 -3 0 -3 \nC -0.795609 -3 -1.55874 -2.683901 -2.12132 -2.12132 \nC -2.683901 -1.55874 -3 -0.795609 -3 0 \nC -3 0.795609 -2.683901 1.55874 -2.12132 2.12132 \nC -1.55874 2.683901 -0.795609 3 0 3 \nz\n\" id=\"m391143477f\" style=\"stroke:#000000;\"/>\n    </defs>\n    <g clip-path=\"url(#p0500d6535c)\">\n     <use style=\"fill-opacity:0;stroke:#000000;\" x=\"197.503125\" xlink:href=\"#m391143477f\" y=\"115.92\"/>\n     <use style=\"fill-opacity:0;stroke:#000000;\" x=\"197.503125\" xlink:href=\"#m391143477f\" y=\"66.501818\"/>\n     <use style=\"fill-opacity:0;stroke:#000000;\" x=\"197.503125\" xlink:href=\"#m391143477f\" y=\"17.083636\"/>\n     <use style=\"fill-opacity:0;stroke:#000000;\" x=\"197.503125\" xlink:href=\"#m391143477f\" y=\"17.083636\"/>\n     <use style=\"fill-opacity:0;stroke:#000000;\" x=\"197.503125\" xlink:href=\"#m391143477f\" y=\"115.92\"/>\n     <use style=\"fill-opacity:0;stroke:#000000;\" x=\"197.503125\" xlink:href=\"#m391143477f\" y=\"115.92\"/>\n     <use style=\"fill-opacity:0;stroke:#000000;\" x=\"197.503125\" xlink:href=\"#m391143477f\" y=\"66.501818\"/>\n     <use style=\"fill-opacity:0;stroke:#000000;\" x=\"197.503125\" xlink:href=\"#m391143477f\" y=\"66.501818\"/>\n     <use style=\"fill-opacity:0;stroke:#000000;\" x=\"197.503125\" xlink:href=\"#m391143477f\" y=\"115.92\"/>\n     <use style=\"fill-opacity:0;stroke:#000000;\" x=\"197.503125\" xlink:href=\"#m391143477f\" y=\"115.92\"/>\n     <use style=\"fill-opacity:0;stroke:#000000;\" x=\"197.503125\" xlink:href=\"#m391143477f\" y=\"17.083636\"/>\n     <use style=\"fill-opacity:0;stroke:#000000;\" x=\"197.503125\" xlink:href=\"#m391143477f\" y=\"115.92\"/>\n     <use style=\"fill-opacity:0;stroke:#000000;\" x=\"197.503125\" xlink:href=\"#m391143477f\" y=\"115.92\"/>\n     <use style=\"fill-opacity:0;stroke:#000000;\" x=\"197.503125\" xlink:href=\"#m391143477f\" y=\"115.92\"/>\n     <use style=\"fill-opacity:0;stroke:#000000;\" x=\"197.503125\" xlink:href=\"#m391143477f\" y=\"115.92\"/>\n     <use style=\"fill-opacity:0;stroke:#000000;\" x=\"197.503125\" xlink:href=\"#m391143477f\" y=\"115.92\"/>\n     <use style=\"fill-opacity:0;stroke:#000000;\" x=\"197.503125\" xlink:href=\"#m391143477f\" y=\"17.083636\"/>\n     <use style=\"fill-opacity:0;stroke:#000000;\" x=\"197.503125\" xlink:href=\"#m391143477f\" y=\"115.92\"/>\n     <use style=\"fill-opacity:0;stroke:#000000;\" x=\"197.503125\" xlink:href=\"#m391143477f\" y=\"115.92\"/>\n     <use style=\"fill-opacity:0;stroke:#000000;\" x=\"197.503125\" xlink:href=\"#m391143477f\" y=\"17.083636\"/>\n     <use style=\"fill-opacity:0;stroke:#000000;\" x=\"197.503125\" xlink:href=\"#m391143477f\" y=\"17.083636\"/>\n     <use style=\"fill-opacity:0;stroke:#000000;\" x=\"197.503125\" xlink:href=\"#m391143477f\" y=\"17.083636\"/>\n     <use style=\"fill-opacity:0;stroke:#000000;\" x=\"197.503125\" xlink:href=\"#m391143477f\" y=\"115.92\"/>\n     <use style=\"fill-opacity:0;stroke:#000000;\" x=\"197.503125\" xlink:href=\"#m391143477f\" y=\"115.92\"/>\n     <use style=\"fill-opacity:0;stroke:#000000;\" x=\"197.503125\" xlink:href=\"#m391143477f\" y=\"115.92\"/>\n     <use style=\"fill-opacity:0;stroke:#000000;\" x=\"197.503125\" xlink:href=\"#m391143477f\" y=\"115.92\"/>\n     <use style=\"fill-opacity:0;stroke:#000000;\" x=\"197.503125\" xlink:href=\"#m391143477f\" y=\"115.92\"/>\n     <use style=\"fill-opacity:0;stroke:#000000;\" x=\"197.503125\" xlink:href=\"#m391143477f\" y=\"115.92\"/>\n     <use style=\"fill-opacity:0;stroke:#000000;\" x=\"197.503125\" xlink:href=\"#m391143477f\" y=\"66.501818\"/>\n     <use style=\"fill-opacity:0;stroke:#000000;\" x=\"197.503125\" xlink:href=\"#m391143477f\" y=\"115.92\"/>\n     <use style=\"fill-opacity:0;stroke:#000000;\" x=\"197.503125\" xlink:href=\"#m391143477f\" y=\"115.92\"/>\n     <use style=\"fill-opacity:0;stroke:#000000;\" x=\"197.503125\" xlink:href=\"#m391143477f\" y=\"115.92\"/>\n     <use style=\"fill-opacity:0;stroke:#000000;\" x=\"197.503125\" xlink:href=\"#m391143477f\" y=\"66.501818\"/>\n     <use style=\"fill-opacity:0;stroke:#000000;\" x=\"197.503125\" xlink:href=\"#m391143477f\" y=\"66.501818\"/>\n     <use style=\"fill-opacity:0;stroke:#000000;\" x=\"197.503125\" xlink:href=\"#m391143477f\" y=\"115.92\"/>\n     <use style=\"fill-opacity:0;stroke:#000000;\" x=\"197.503125\" xlink:href=\"#m391143477f\" y=\"115.92\"/>\n     <use style=\"fill-opacity:0;stroke:#000000;\" x=\"197.503125\" xlink:href=\"#m391143477f\" y=\"115.92\"/>\n     <use style=\"fill-opacity:0;stroke:#000000;\" x=\"197.503125\" xlink:href=\"#m391143477f\" y=\"115.92\"/>\n     <use style=\"fill-opacity:0;stroke:#000000;\" x=\"197.503125\" xlink:href=\"#m391143477f\" y=\"17.083636\"/>\n     <use style=\"fill-opacity:0;stroke:#000000;\" x=\"197.503125\" xlink:href=\"#m391143477f\" y=\"115.92\"/>\n     <use style=\"fill-opacity:0;stroke:#000000;\" x=\"197.503125\" xlink:href=\"#m391143477f\" y=\"66.501818\"/>\n     <use style=\"fill-opacity:0;stroke:#000000;\" x=\"197.503125\" xlink:href=\"#m391143477f\" y=\"115.92\"/>\n     <use style=\"fill-opacity:0;stroke:#000000;\" x=\"197.503125\" xlink:href=\"#m391143477f\" y=\"66.501818\"/>\n     <use style=\"fill-opacity:0;stroke:#000000;\" x=\"197.503125\" xlink:href=\"#m391143477f\" y=\"115.92\"/>\n     <use style=\"fill-opacity:0;stroke:#000000;\" x=\"197.503125\" xlink:href=\"#m391143477f\" y=\"115.92\"/>\n     <use style=\"fill-opacity:0;stroke:#000000;\" x=\"197.503125\" xlink:href=\"#m391143477f\" y=\"115.92\"/>\n     <use style=\"fill-opacity:0;stroke:#000000;\" x=\"197.503125\" xlink:href=\"#m391143477f\" y=\"115.92\"/>\n     <use style=\"fill-opacity:0;stroke:#000000;\" x=\"197.503125\" xlink:href=\"#m391143477f\" y=\"115.92\"/>\n     <use style=\"fill-opacity:0;stroke:#000000;\" x=\"197.503125\" xlink:href=\"#m391143477f\" y=\"115.92\"/>\n     <use style=\"fill-opacity:0;stroke:#000000;\" x=\"197.503125\" xlink:href=\"#m391143477f\" y=\"66.501818\"/>\n     <use style=\"fill-opacity:0;stroke:#000000;\" x=\"197.503125\" xlink:href=\"#m391143477f\" y=\"17.083636\"/>\n     <use style=\"fill-opacity:0;stroke:#000000;\" x=\"197.503125\" xlink:href=\"#m391143477f\" y=\"115.92\"/>\n     <use style=\"fill-opacity:0;stroke:#000000;\" x=\"197.503125\" xlink:href=\"#m391143477f\" y=\"115.92\"/>\n     <use style=\"fill-opacity:0;stroke:#000000;\" x=\"197.503125\" xlink:href=\"#m391143477f\" y=\"17.083636\"/>\n     <use style=\"fill-opacity:0;stroke:#000000;\" x=\"197.503125\" xlink:href=\"#m391143477f\" y=\"115.92\"/>\n     <use style=\"fill-opacity:0;stroke:#000000;\" x=\"197.503125\" xlink:href=\"#m391143477f\" y=\"115.92\"/>\n     <use style=\"fill-opacity:0;stroke:#000000;\" x=\"197.503125\" xlink:href=\"#m391143477f\" y=\"115.92\"/>\n     <use style=\"fill-opacity:0;stroke:#000000;\" x=\"197.503125\" xlink:href=\"#m391143477f\" y=\"115.92\"/>\n     <use style=\"fill-opacity:0;stroke:#000000;\" x=\"197.503125\" xlink:href=\"#m391143477f\" y=\"115.92\"/>\n     <use style=\"fill-opacity:0;stroke:#000000;\" x=\"197.503125\" xlink:href=\"#m391143477f\" y=\"17.083636\"/>\n     <use style=\"fill-opacity:0;stroke:#000000;\" x=\"197.503125\" xlink:href=\"#m391143477f\" y=\"115.92\"/>\n     <use style=\"fill-opacity:0;stroke:#000000;\" x=\"197.503125\" xlink:href=\"#m391143477f\" y=\"115.92\"/>\n     <use style=\"fill-opacity:0;stroke:#000000;\" x=\"197.503125\" xlink:href=\"#m391143477f\" y=\"17.083636\"/>\n    </g>\n   </g>\n   <g id=\"line2d_17\">\n    <path clip-path=\"url(#p0500d6535c)\" d=\"M 172.393125 214.756364 \nL 222.613125 214.756364 \n\" style=\"fill:none;stroke:#ff7f0e;stroke-linecap:square;\"/>\n   </g>\n   <g id=\"patch_3\">\n    <path d=\"M 30.103125 224.64 \nL 30.103125 7.2 \n\" style=\"fill:none;stroke:#000000;stroke-linecap:square;stroke-linejoin:miter;stroke-width:0.8;\"/>\n   </g>\n   <g id=\"patch_4\">\n    <path d=\"M 364.903125 224.64 \nL 364.903125 7.2 \n\" style=\"fill:none;stroke:#000000;stroke-linecap:square;stroke-linejoin:miter;stroke-width:0.8;\"/>\n   </g>\n   <g id=\"patch_5\">\n    <path d=\"M 30.103125 224.64 \nL 364.903125 224.64 \n\" style=\"fill:none;stroke:#000000;stroke-linecap:square;stroke-linejoin:miter;stroke-width:0.8;\"/>\n   </g>\n   <g id=\"patch_6\">\n    <path d=\"M 30.103125 7.2 \nL 364.903125 7.2 \n\" style=\"fill:none;stroke:#000000;stroke-linecap:square;stroke-linejoin:miter;stroke-width:0.8;\"/>\n   </g>\n  </g>\n </g>\n <defs>\n  <clipPath id=\"p0500d6535c\">\n   <rect height=\"217.44\" width=\"334.8\" x=\"30.103125\" y=\"7.2\"/>\n  </clipPath>\n </defs>\n</svg>\n",
      "image/png": "[encoded data removed]"
     },
     "metadata": {
      "needs_background": "light"
     }
    }
   ],
   "source": [
    "plt.boxplot(\n",
    "    covid_ml['Type of Division'].dropna(),\n",
    "    whis = [0,10],\n",
    "    labels = ['here'],\n",
    "   \n",
    "    \n",
    "\n",
    ")"
   ]
  },
  {
   "cell_type": "code",
   "execution_count": null,
   "metadata": {},
   "outputs": [],
   "source": []
  },
  {
   "cell_type": "code",
   "execution_count": 137,
   "metadata": {},
   "outputs": [
    {
     "output_type": "error",
     "ename": "SyntaxError",
     "evalue": "invalid syntax (<ipython-input-137-7a409f2e0445>, line 5)",
     "traceback": [
      "\u001b[0;36m  File \u001b[0;32m\"<ipython-input-137-7a409f2e0445>\"\u001b[0;36m, line \u001b[0;32m5\u001b[0m\n\u001b[0;31m    color = 'C1',\u001b[0m\n\u001b[0m        ^\u001b[0m\n\u001b[0;31mSyntaxError\u001b[0m\u001b[0;31m:\u001b[0m invalid syntax\n"
     ]
    }
   ],
   "source": [
    "plt.hist(\n",
    "    covid_ml['Type of Division'],\n",
    "    bins = [0,10],\n",
    "    xtick = [0,1,2,3,4],\n",
    "    color = 'C1',\n",
    ")"
   ]
  },
  {
   "cell_type": "code",
   "execution_count": 140,
   "metadata": {},
   "outputs": [],
   "source": [
    "titanic = pd.read_csv(r'/Users/amitavchrismostafa/Documents/Python/Marko_Knöbl/Python Data Science/Titanic/titanic-passengers.csv')"
   ]
  },
  {
   "cell_type": "code",
   "execution_count": 141,
   "metadata": {},
   "outputs": [],
   "source": [
    "from sklearn.linear_model import LinearRegression"
   ]
  },
  {
   "cell_type": "code",
   "execution_count": 147,
   "metadata": {},
   "outputs": [
    {
     "output_type": "execute_result",
     "data": {
      "text/plain": [
       "LinearRegression(copy_X=True, fit_intercept=True, n_jobs=None, normalize=False)"
      ]
     },
     "metadata": {},
     "execution_count": 147
    }
   ],
   "source": [
    "covid_data = covid_ml[['Type of Division','cases7_bl','death7_bl', 'cases7_lk']]\n",
    "type_division = covid_ml['death7_lk']\n",
    "model = LinearRegression()\n",
    "model.fit(covid_data, type_division)\n"
   ]
  },
  {
   "cell_type": "code",
   "execution_count": 148,
   "metadata": {},
   "outputs": [
    {
     "output_type": "execute_result",
     "data": {
      "text/plain": [
       "array([0.37270796])"
      ]
     },
     "metadata": {},
     "execution_count": 148
    }
   ],
   "source": [
    "model.predict(\n",
    "    np.array([\n",
    "        [2,1000,10,5],\n",
    "    ])\n",
    ")"
   ]
  },
  {
   "cell_type": "code",
   "execution_count": null,
   "metadata": {},
   "outputs": [],
   "source": []
  }
 ]
}