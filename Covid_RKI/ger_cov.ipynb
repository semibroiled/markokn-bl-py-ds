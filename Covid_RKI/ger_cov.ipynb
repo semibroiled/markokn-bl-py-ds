{
 "metadata": {
  "language_info": {
   "codemirror_mode": {
    "name": "ipython",
    "version": 3
   },
   "file_extension": ".py",
   "mimetype": "text/x-python",
   "name": "python",
   "nbconvert_exporter": "python",
   "pygments_lexer": "ipython3",
   "version": "3.7.4"
  },
  "orig_nbformat": 2,
  "kernelspec": {
   "name": "python374jvsc74a57bd05bb92a85c9a1f15da6b689aacf75061d89825faba8bdf21749792174943e74b5",
   "display_name": "Python 3.7.4 64-bit ('base': conda)"
  }
 },
 "nbformat": 4,
 "nbformat_minor": 2,
 "cells": [
  {
   "cell_type": "code",
   "execution_count": 17,
   "metadata": {},
   "outputs": [],
   "source": [
    "#Import all the needed libraries and packages\n",
    "import numpy as np\n",
    "import pandas as pd\n",
    "import matplotlib.pyplot as plt\n",
    "from sklearn.linear_model import LinearRegression"
   ]
  },
  {
   "cell_type": "code",
   "execution_count": 4,
   "metadata": {},
   "outputs": [],
   "source": [
    "#import RKI Covid dataset \n",
    "covid = pd.read_csv('https://public.opendatasoft.com/explore/dataset/covid-19-germany-landkreise/download/?format=csv&timezone=Europe/Berlin&lang=en&use_labels_for_header=true&csv_separator=%3B', delimiter =';')\n",
    "\n"
   ]
  },
  {
   "cell_type": "code",
   "execution_count": 5,
   "metadata": {},
   "outputs": [
    {
     "output_type": "execute_result",
     "data": {
      "text/plain": [
       "                  Last updated                    Name  Administrative level  \\\n",
       "0    2021-05-31T02:00:00+02:00             Delmenhorst                   4.0   \n",
       "1    2021-05-31T02:00:00+02:00                   Herne                   4.0   \n",
       "2    2021-05-31T02:00:00+02:00  Schwarzwald-Baar-Kreis                   4.0   \n",
       "3    2021-05-31T02:00:00+02:00                 München                   4.0   \n",
       "4    2021-05-31T02:00:00+02:00                     Hof                   4.0   \n",
       "..                         ...                     ...                   ...   \n",
       "407  2021-05-31T02:00:00+02:00           Bad Kissingen                   4.0   \n",
       "408  2021-05-31T02:00:00+02:00           Rhön-Grabfeld                   4.0   \n",
       "409  2021-05-31T02:00:00+02:00                Prignitz                   4.0   \n",
       "410  2021-05-31T02:00:00+02:00           Dessau-Roßlau                   4.0   \n",
       "411  2021-05-31T02:00:00+02:00                   Greiz                   4.0   \n",
       "\n",
       "     Land factor  Specific domains  Regional code  \\\n",
       "0            4.0               1.0           3401   \n",
       "1            4.0               1.0           5916   \n",
       "2            4.0               1.0           8326   \n",
       "3            4.0               1.0           9184   \n",
       "4            4.0               1.0           9464   \n",
       "..           ...               ...            ...   \n",
       "407          4.0               1.0           9672   \n",
       "408          4.0               1.0           9673   \n",
       "409          4.0               1.0          12070   \n",
       "410          4.0               1.0          15001   \n",
       "411          4.0               1.0          16076   \n",
       "\n",
       "     Regional code of the local authority  Type of division  \\\n",
       "0                            3.401000e+10  Kreisfreie Stadt   \n",
       "1                            5.916000e+10  Kreisfreie Stadt   \n",
       "2                            8.326500e+10         Landkreis   \n",
       "3                            9.162000e+10         Landkreis   \n",
       "4                            9.464000e+10  Kreisfreie Stadt   \n",
       "..                                    ...               ...   \n",
       "407                          9.672011e+10         Landkreis   \n",
       "408                          9.673011e+10         Landkreis   \n",
       "409                          1.207003e+11         Landkreis   \n",
       "410                          1.500100e+11  Kreisfreie Stadt   \n",
       "411                          1.607651e+11         Landkreis   \n",
       "\n",
       "     Type of division code Name construction indication  ...  recovered  \\\n",
       "0                     40.0                           ja  ...        NaN   \n",
       "1                     40.0                           ja  ...        NaN   \n",
       "2                     43.0                         nein  ...        NaN   \n",
       "3                     43.0                           ja  ...        NaN   \n",
       "4                     40.0                           ja  ...        NaN   \n",
       "..                     ...                          ...  ...        ...   \n",
       "407                   43.0                           ja  ...        NaN   \n",
       "408                   43.0                           ja  ...        NaN   \n",
       "409                   43.0                           ja  ...        NaN   \n",
       "410                   40.0                           ja  ...        NaN   \n",
       "411                   43.0                           ja  ...        NaN   \n",
       "\n",
       "       EWZ_BL  cases7_bl death7_bl cases7_lk  death7_lk  cases7_p_1 AdmUnitId  \\\n",
       "0     7993608       1866         1        32          0        41,3      3401   \n",
       "1    17947221       7207         8        56          0        35,8      5916   \n",
       "2    11100394       4763         7       147          0        69,2      8326   \n",
       "3    13124737       4783         7        82          0        23,4      9184   \n",
       "4    13124737       4783         7        12          0        26,2      9464   \n",
       "..        ...        ...       ...       ...        ...         ...       ...   \n",
       "407  13124737       4783         7        29          0        28,1      9672   \n",
       "408  13124737       4783         7        16          0        20,1      9673   \n",
       "409   2521893        471         2         8          0        10,5     12070   \n",
       "410   2194782        622         0        31          0        38,7     15001   \n",
       "411   2133378        973         2        37          0        38,0     16076   \n",
       "\n",
       "     SHAPE_Leng  SHAPE_Area  \n",
       "0      0.541686    0.008371  \n",
       "1      0.477923    0.006672  \n",
       "2      2.615460    0.123694  \n",
       "3      2.869144    0.080142  \n",
       "4      0.643191    0.007347  \n",
       "..          ...         ...  \n",
       "407    3.249944    0.143331  \n",
       "408    2.979662    0.129097  \n",
       "409    3.912576    0.286986  \n",
       "410    1.349978    0.032129  \n",
       "411    3.351144    0.107785  \n",
       "\n",
       "[412 rows x 42 columns]"
      ],
      "text/html": "<div>\n<style scoped>\n    .dataframe tbody tr th:only-of-type {\n        vertical-align: middle;\n    }\n\n    .dataframe tbody tr th {\n        vertical-align: top;\n    }\n\n    .dataframe thead th {\n        text-align: right;\n    }\n</style>\n<table border=\"1\" class=\"dataframe\">\n  <thead>\n    <tr style=\"text-align: right;\">\n      <th></th>\n      <th>Last updated</th>\n      <th>Name</th>\n      <th>Administrative level</th>\n      <th>Land factor</th>\n      <th>Specific domains</th>\n      <th>Regional code</th>\n      <th>Regional code of the local authority</th>\n      <th>Type of division</th>\n      <th>Type of division code</th>\n      <th>Name construction indication</th>\n      <th>...</th>\n      <th>recovered</th>\n      <th>EWZ_BL</th>\n      <th>cases7_bl</th>\n      <th>death7_bl</th>\n      <th>cases7_lk</th>\n      <th>death7_lk</th>\n      <th>cases7_p_1</th>\n      <th>AdmUnitId</th>\n      <th>SHAPE_Leng</th>\n      <th>SHAPE_Area</th>\n    </tr>\n  </thead>\n  <tbody>\n    <tr>\n      <td>0</td>\n      <td>2021-05-31T02:00:00+02:00</td>\n      <td>Delmenhorst</td>\n      <td>4.0</td>\n      <td>4.0</td>\n      <td>1.0</td>\n      <td>3401</td>\n      <td>3.401000e+10</td>\n      <td>Kreisfreie Stadt</td>\n      <td>40.0</td>\n      <td>ja</td>\n      <td>...</td>\n      <td>NaN</td>\n      <td>7993608</td>\n      <td>1866</td>\n      <td>1</td>\n      <td>32</td>\n      <td>0</td>\n      <td>41,3</td>\n      <td>3401</td>\n      <td>0.541686</td>\n      <td>0.008371</td>\n    </tr>\n    <tr>\n      <td>1</td>\n      <td>2021-05-31T02:00:00+02:00</td>\n      <td>Herne</td>\n      <td>4.0</td>\n      <td>4.0</td>\n      <td>1.0</td>\n      <td>5916</td>\n      <td>5.916000e+10</td>\n      <td>Kreisfreie Stadt</td>\n      <td>40.0</td>\n      <td>ja</td>\n      <td>...</td>\n      <td>NaN</td>\n      <td>17947221</td>\n      <td>7207</td>\n      <td>8</td>\n      <td>56</td>\n      <td>0</td>\n      <td>35,8</td>\n      <td>5916</td>\n      <td>0.477923</td>\n      <td>0.006672</td>\n    </tr>\n    <tr>\n      <td>2</td>\n      <td>2021-05-31T02:00:00+02:00</td>\n      <td>Schwarzwald-Baar-Kreis</td>\n      <td>4.0</td>\n      <td>4.0</td>\n      <td>1.0</td>\n      <td>8326</td>\n      <td>8.326500e+10</td>\n      <td>Landkreis</td>\n      <td>43.0</td>\n      <td>nein</td>\n      <td>...</td>\n      <td>NaN</td>\n      <td>11100394</td>\n      <td>4763</td>\n      <td>7</td>\n      <td>147</td>\n      <td>0</td>\n      <td>69,2</td>\n      <td>8326</td>\n      <td>2.615460</td>\n      <td>0.123694</td>\n    </tr>\n    <tr>\n      <td>3</td>\n      <td>2021-05-31T02:00:00+02:00</td>\n      <td>München</td>\n      <td>4.0</td>\n      <td>4.0</td>\n      <td>1.0</td>\n      <td>9184</td>\n      <td>9.162000e+10</td>\n      <td>Landkreis</td>\n      <td>43.0</td>\n      <td>ja</td>\n      <td>...</td>\n      <td>NaN</td>\n      <td>13124737</td>\n      <td>4783</td>\n      <td>7</td>\n      <td>82</td>\n      <td>0</td>\n      <td>23,4</td>\n      <td>9184</td>\n      <td>2.869144</td>\n      <td>0.080142</td>\n    </tr>\n    <tr>\n      <td>4</td>\n      <td>2021-05-31T02:00:00+02:00</td>\n      <td>Hof</td>\n      <td>4.0</td>\n      <td>4.0</td>\n      <td>1.0</td>\n      <td>9464</td>\n      <td>9.464000e+10</td>\n      <td>Kreisfreie Stadt</td>\n      <td>40.0</td>\n      <td>ja</td>\n      <td>...</td>\n      <td>NaN</td>\n      <td>13124737</td>\n      <td>4783</td>\n      <td>7</td>\n      <td>12</td>\n      <td>0</td>\n      <td>26,2</td>\n      <td>9464</td>\n      <td>0.643191</td>\n      <td>0.007347</td>\n    </tr>\n    <tr>\n      <td>...</td>\n      <td>...</td>\n      <td>...</td>\n      <td>...</td>\n      <td>...</td>\n      <td>...</td>\n      <td>...</td>\n      <td>...</td>\n      <td>...</td>\n      <td>...</td>\n      <td>...</td>\n      <td>...</td>\n      <td>...</td>\n      <td>...</td>\n      <td>...</td>\n      <td>...</td>\n      <td>...</td>\n      <td>...</td>\n      <td>...</td>\n      <td>...</td>\n      <td>...</td>\n      <td>...</td>\n    </tr>\n    <tr>\n      <td>407</td>\n      <td>2021-05-31T02:00:00+02:00</td>\n      <td>Bad Kissingen</td>\n      <td>4.0</td>\n      <td>4.0</td>\n      <td>1.0</td>\n      <td>9672</td>\n      <td>9.672011e+10</td>\n      <td>Landkreis</td>\n      <td>43.0</td>\n      <td>ja</td>\n      <td>...</td>\n      <td>NaN</td>\n      <td>13124737</td>\n      <td>4783</td>\n      <td>7</td>\n      <td>29</td>\n      <td>0</td>\n      <td>28,1</td>\n      <td>9672</td>\n      <td>3.249944</td>\n      <td>0.143331</td>\n    </tr>\n    <tr>\n      <td>408</td>\n      <td>2021-05-31T02:00:00+02:00</td>\n      <td>Rhön-Grabfeld</td>\n      <td>4.0</td>\n      <td>4.0</td>\n      <td>1.0</td>\n      <td>9673</td>\n      <td>9.673011e+10</td>\n      <td>Landkreis</td>\n      <td>43.0</td>\n      <td>ja</td>\n      <td>...</td>\n      <td>NaN</td>\n      <td>13124737</td>\n      <td>4783</td>\n      <td>7</td>\n      <td>16</td>\n      <td>0</td>\n      <td>20,1</td>\n      <td>9673</td>\n      <td>2.979662</td>\n      <td>0.129097</td>\n    </tr>\n    <tr>\n      <td>409</td>\n      <td>2021-05-31T02:00:00+02:00</td>\n      <td>Prignitz</td>\n      <td>4.0</td>\n      <td>4.0</td>\n      <td>1.0</td>\n      <td>12070</td>\n      <td>1.207003e+11</td>\n      <td>Landkreis</td>\n      <td>43.0</td>\n      <td>ja</td>\n      <td>...</td>\n      <td>NaN</td>\n      <td>2521893</td>\n      <td>471</td>\n      <td>2</td>\n      <td>8</td>\n      <td>0</td>\n      <td>10,5</td>\n      <td>12070</td>\n      <td>3.912576</td>\n      <td>0.286986</td>\n    </tr>\n    <tr>\n      <td>410</td>\n      <td>2021-05-31T02:00:00+02:00</td>\n      <td>Dessau-Roßlau</td>\n      <td>4.0</td>\n      <td>4.0</td>\n      <td>1.0</td>\n      <td>15001</td>\n      <td>1.500100e+11</td>\n      <td>Kreisfreie Stadt</td>\n      <td>40.0</td>\n      <td>ja</td>\n      <td>...</td>\n      <td>NaN</td>\n      <td>2194782</td>\n      <td>622</td>\n      <td>0</td>\n      <td>31</td>\n      <td>0</td>\n      <td>38,7</td>\n      <td>15001</td>\n      <td>1.349978</td>\n      <td>0.032129</td>\n    </tr>\n    <tr>\n      <td>411</td>\n      <td>2021-05-31T02:00:00+02:00</td>\n      <td>Greiz</td>\n      <td>4.0</td>\n      <td>4.0</td>\n      <td>1.0</td>\n      <td>16076</td>\n      <td>1.607651e+11</td>\n      <td>Landkreis</td>\n      <td>43.0</td>\n      <td>ja</td>\n      <td>...</td>\n      <td>NaN</td>\n      <td>2133378</td>\n      <td>973</td>\n      <td>2</td>\n      <td>37</td>\n      <td>0</td>\n      <td>38,0</td>\n      <td>16076</td>\n      <td>3.351144</td>\n      <td>0.107785</td>\n    </tr>\n  </tbody>\n</table>\n<p>412 rows × 42 columns</p>\n</div>"
     },
     "metadata": {},
     "execution_count": 5
    }
   ],
   "source": [
    "#Show imported dataset\n",
    "covid"
   ]
  },
  {
   "cell_type": "code",
   "execution_count": 11,
   "metadata": {},
   "outputs": [],
   "source": [
    "#Treat Covid in pandas to be ML ready\n",
    "covid_ml = pd.DataFrame({\n",
    "    'Regional Code':covid['Regional code'],\n",
    "    'Type of division':covid['Type of division'].replace(\n",
    "        {'Kreisfreie Stadt':0, 'Landkreis':1, 'Bezirk':2,'Kreis':3}\n",
    "    ),\n",
    "    'Population':covid['Population'],\n",
    "    'Deaths':covid['Deaths'],\n",
    "    'Death rate':covid['Death rate'],\n",
    "    'Cases':covid['Cases'],\n",
    "    'Cases/100k/7':covid['Cases per 100k persons in the last 7 days'],\n",
    "    'Cases/100k':covid['Cases per 100k persons'],\n",
    "    'Case_Pop':covid['Percentage of cases in the Landkreis population'],\n",
    "    'Land ID': covid['Land ID'],\n",
    "\n",
    "\n",
    "})"
   ]
  },
  {
   "cell_type": "code",
   "execution_count": 20,
   "metadata": {},
   "outputs": [
    {
     "output_type": "execute_result",
     "data": {
      "text/plain": [
       "     Regional Code Type of division  Population  Deaths  Death rate  Cases  \\\n",
       "0             3401                0       77559      67    1.925841   3479   \n",
       "1             5916                0      156449     264    2.785104   9479   \n",
       "2             8326                1      212506     202    2.072645   9746   \n",
       "3             9184                1      350473     287    1.882091  15249   \n",
       "4             9464                0       45825     116    2.947154   3936   \n",
       "..             ...              ...         ...     ...         ...    ...   \n",
       "407           9672                1      103235     102    2.824702   3611   \n",
       "408           9673                1       79635      87    2.481460   3506   \n",
       "409          12070                1       76158     163    5.054264   3225   \n",
       "410          15001                0       80103     121    3.695785   3274   \n",
       "411          16076                1       97398     214    2.734475   7826   \n",
       "\n",
       "     Cases/100k/7   Cases/100k  Case_Pop  Land ID  \n",
       "0       41.258913  4485.617401  4.485617        3  \n",
       "1       35.794412  6058.843457  6.058843        5  \n",
       "2       69.174517  4586.223448  4.586223        8  \n",
       "3       23.396952  4350.977108  4.350977        9  \n",
       "4       26.186579  8589.198036  8.589198        9  \n",
       "..            ...          ...       ...      ...  \n",
       "407     28.091248  3497.844723  3.497845        9  \n",
       "408     20.091668  4402.586802  4.402587        9  \n",
       "409     10.504478  4234.617506  4.234618       12  \n",
       "410     38.700174  4087.237681  4.087238       15  \n",
       "411     37.988460  8035.072589  8.035073       16  \n",
       "\n",
       "[412 rows x 10 columns]"
      ],
      "text/html": "<div>\n<style scoped>\n    .dataframe tbody tr th:only-of-type {\n        vertical-align: middle;\n    }\n\n    .dataframe tbody tr th {\n        vertical-align: top;\n    }\n\n    .dataframe thead th {\n        text-align: right;\n    }\n</style>\n<table border=\"1\" class=\"dataframe\">\n  <thead>\n    <tr style=\"text-align: right;\">\n      <th></th>\n      <th>Regional Code</th>\n      <th>Type of division</th>\n      <th>Population</th>\n      <th>Deaths</th>\n      <th>Death rate</th>\n      <th>Cases</th>\n      <th>Cases/100k/7</th>\n      <th>Cases/100k</th>\n      <th>Case_Pop</th>\n      <th>Land ID</th>\n    </tr>\n  </thead>\n  <tbody>\n    <tr>\n      <td>0</td>\n      <td>3401</td>\n      <td>0</td>\n      <td>77559</td>\n      <td>67</td>\n      <td>1.925841</td>\n      <td>3479</td>\n      <td>41.258913</td>\n      <td>4485.617401</td>\n      <td>4.485617</td>\n      <td>3</td>\n    </tr>\n    <tr>\n      <td>1</td>\n      <td>5916</td>\n      <td>0</td>\n      <td>156449</td>\n      <td>264</td>\n      <td>2.785104</td>\n      <td>9479</td>\n      <td>35.794412</td>\n      <td>6058.843457</td>\n      <td>6.058843</td>\n      <td>5</td>\n    </tr>\n    <tr>\n      <td>2</td>\n      <td>8326</td>\n      <td>1</td>\n      <td>212506</td>\n      <td>202</td>\n      <td>2.072645</td>\n      <td>9746</td>\n      <td>69.174517</td>\n      <td>4586.223448</td>\n      <td>4.586223</td>\n      <td>8</td>\n    </tr>\n    <tr>\n      <td>3</td>\n      <td>9184</td>\n      <td>1</td>\n      <td>350473</td>\n      <td>287</td>\n      <td>1.882091</td>\n      <td>15249</td>\n      <td>23.396952</td>\n      <td>4350.977108</td>\n      <td>4.350977</td>\n      <td>9</td>\n    </tr>\n    <tr>\n      <td>4</td>\n      <td>9464</td>\n      <td>0</td>\n      <td>45825</td>\n      <td>116</td>\n      <td>2.947154</td>\n      <td>3936</td>\n      <td>26.186579</td>\n      <td>8589.198036</td>\n      <td>8.589198</td>\n      <td>9</td>\n    </tr>\n    <tr>\n      <td>...</td>\n      <td>...</td>\n      <td>...</td>\n      <td>...</td>\n      <td>...</td>\n      <td>...</td>\n      <td>...</td>\n      <td>...</td>\n      <td>...</td>\n      <td>...</td>\n      <td>...</td>\n    </tr>\n    <tr>\n      <td>407</td>\n      <td>9672</td>\n      <td>1</td>\n      <td>103235</td>\n      <td>102</td>\n      <td>2.824702</td>\n      <td>3611</td>\n      <td>28.091248</td>\n      <td>3497.844723</td>\n      <td>3.497845</td>\n      <td>9</td>\n    </tr>\n    <tr>\n      <td>408</td>\n      <td>9673</td>\n      <td>1</td>\n      <td>79635</td>\n      <td>87</td>\n      <td>2.481460</td>\n      <td>3506</td>\n      <td>20.091668</td>\n      <td>4402.586802</td>\n      <td>4.402587</td>\n      <td>9</td>\n    </tr>\n    <tr>\n      <td>409</td>\n      <td>12070</td>\n      <td>1</td>\n      <td>76158</td>\n      <td>163</td>\n      <td>5.054264</td>\n      <td>3225</td>\n      <td>10.504478</td>\n      <td>4234.617506</td>\n      <td>4.234618</td>\n      <td>12</td>\n    </tr>\n    <tr>\n      <td>410</td>\n      <td>15001</td>\n      <td>0</td>\n      <td>80103</td>\n      <td>121</td>\n      <td>3.695785</td>\n      <td>3274</td>\n      <td>38.700174</td>\n      <td>4087.237681</td>\n      <td>4.087238</td>\n      <td>15</td>\n    </tr>\n    <tr>\n      <td>411</td>\n      <td>16076</td>\n      <td>1</td>\n      <td>97398</td>\n      <td>214</td>\n      <td>2.734475</td>\n      <td>7826</td>\n      <td>37.988460</td>\n      <td>8035.072589</td>\n      <td>8.035073</td>\n      <td>16</td>\n    </tr>\n  </tbody>\n</table>\n<p>412 rows × 10 columns</p>\n</div>"
     },
     "metadata": {},
     "execution_count": 20
    }
   ],
   "source": [
    "#remove NaNs\n",
    "covid_ml = covid_ml.dropna()\n",
    "#Display treated dataframe\n",
    "covid_ml"
   ]
  },
  {
   "cell_type": "code",
   "execution_count": 28,
   "metadata": {},
   "outputs": [],
   "source": [
    "#train a model\n",
    "covid_rates = covid_ml[['Death rate', 'Deaths', 'Cases', 'Population']]\n",
    "\n",
    "identifier = covid_ml['Land ID']\n",
    "\n",
    "model = LinearRegression()\n"
   ]
  },
  {
   "cell_type": "code",
   "execution_count": 30,
   "metadata": {},
   "outputs": [
    {
     "output_type": "execute_result",
     "data": {
      "text/plain": [
       "LinearRegression(copy_X=True, fit_intercept=True, n_jobs=None, normalize=False)"
      ]
     },
     "metadata": {},
     "execution_count": 30
    }
   ],
   "source": [
    "model.fit(covid_rates, identifier)"
   ]
  },
  {
   "cell_type": "code",
   "execution_count": 31,
   "metadata": {},
   "outputs": [
    {
     "output_type": "execute_result",
     "data": {
      "text/plain": [
       "array([8.40121498])"
      ]
     },
     "metadata": {},
     "execution_count": 31
    }
   ],
   "source": [
    "model.predict(\n",
    "    np.array([\n",
    "        [2,60,3500,60000],\n",
    "        \n",
    "    ])\n",
    ")"
   ]
  },
  {
   "cell_type": "code",
   "execution_count": null,
   "metadata": {},
   "outputs": [],
   "source": []
  }
 ]
}